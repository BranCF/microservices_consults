{
 "cells": [
  {
   "cell_type": "code",
   "execution_count": null,
   "id": "8a83a68b-5144-4613-9bff-5028c2cfde4b",
   "metadata": {},
   "outputs": [],
   "source": [
    "!pip install pymongo\n",
    "!pip install python-dotenv\n",
    "from pymongo import MongoClient\n",
    "from pymongo.errors import ConnectionFailure\n",
    "import os\n",
    "from dotenv import load_dotenv"
   ]
  },
  {
   "cell_type": "code",
   "execution_count": null,
   "id": "108d8803-2f16-4da8-bb35-f93505653ae7",
   "metadata": {},
   "outputs": [],
   "source": [
    "load_dotenv();"
   ]
  },
  {
   "cell_type": "code",
   "execution_count": null,
   "id": "2d5c2773-55fd-4c5b-9682-23a907612107",
   "metadata": {},
   "outputs": [],
   "source": [
    "username = os.getenv('USER_MONGO')\n",
    "password = os.getenv('PASSWORD_MONGO')\n",
    "host = os.getenv('HOST_MONGO')\n",
    "port = int(os.getenv('PORT_MONGO'))\n",
    "database = os.getenv('DATABASE_MONGO')\n",
    "\n",
    "ca_cert = os.getenv('CA_CERT_MONGO')      \n",
    "client_cert = os.getenv('CLIENT_CERT_MONGO') \n",
    "\n",
    "try:\n",
    "    client = MongoClient(\n",
    "        host=f\"mongodb://{username}:{password}@{host}:{port}/?authSource=admin\",\n",
    "        tls=True, \n",
    "        tlsCAFile=ca_cert,  \n",
    "        tlsCertificateKeyFile=client_cert  \n",
    "    )\n",
    "\n",
    "    db = client[database]\n",
    "    server_info = db.command(\"serverStatus\")\n",
    "    collection = db.glossary\n",
    "    queries = collection.find({\"brand\":\"VOLKSWAGEN\"})\n",
    "    if queries:\n",
    "        for query in queries:\n",
    "            print(query)\n",
    "    \n",
    "\n",
    "except ConnectionFailure as e:\n",
    "    print(\"Failed to connect to MongoDB:\", e)"
   ]
  },
  {
   "cell_type": "code",
   "execution_count": null,
   "id": "92219554-2c6a-46d7-bd45-67104bfd9e27",
   "metadata": {},
   "outputs": [],
   "source": []
  }
 ],
 "metadata": {
  "kernelspec": {
   "display_name": "msvenv1",
   "language": "python",
   "name": "msvenv1"
  },
  "language_info": {
   "codemirror_mode": {
    "name": "ipython",
    "version": 3
   },
   "file_extension": ".py",
   "mimetype": "text/x-python",
   "name": "python",
   "nbconvert_exporter": "python",
   "pygments_lexer": "ipython3",
   "version": "3.12.4"
  }
 },
 "nbformat": 4,
 "nbformat_minor": 5
}
