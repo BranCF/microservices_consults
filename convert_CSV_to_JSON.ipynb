{
 "cells": [
  {
   "cell_type": "code",
   "execution_count": 1,
   "id": "d13e3697-c324-445e-9c07-fa71ee9e63dd",
   "metadata": {},
   "outputs": [
    {
     "name": "stdout",
     "output_type": "stream",
     "text": [
      "CSV has been converted to JSON and saved to output.json\n"
     ]
    }
   ],
   "source": [
    "import csv\n",
    "import json\n",
    "\n",
    "def csv_to_json(csv_file_path, json_file_path):\n",
    "    # Open the CSV file\n",
    "    with open(csv_file_path, 'r', encoding='utf-8') as csv_file:\n",
    "        # Read the CSV data\n",
    "        csv_reader = csv.DictReader(csv_file)\n",
    "\n",
    "        # Convert rows to a list of dictionaries\n",
    "        data = [row for row in csv_reader]\n",
    "\n",
    "    # Write the data to a JSON file\n",
    "    with open(json_file_path, 'w', encoding='utf-8') as json_file:\n",
    "        json.dump(data, json_file, indent=4)\n",
    "\n",
    "    print(f\"CSV has been converted to JSON and saved to {json_file_path}\")\n",
    "\n",
    "# Example usage\n",
    "csv_file = \"regularizacion100000.csv\"  # Input CSV file\n",
    "json_file = \"output.json\"  # Output JSON file\n",
    "csv_to_json(csv_file, json_file)"
   ]
  },
  {
   "cell_type": "code",
   "execution_count": null,
   "id": "7d31a52a-701d-45f6-9586-8127056c1d69",
   "metadata": {},
   "outputs": [],
   "source": []
  }
 ],
 "metadata": {
  "kernelspec": {
   "display_name": "msvenv1",
   "language": "python",
   "name": "msvenv1"
  },
  "language_info": {
   "codemirror_mode": {
    "name": "ipython",
    "version": 3
   },
   "file_extension": ".py",
   "mimetype": "text/x-python",
   "name": "python",
   "nbconvert_exporter": "python",
   "pygments_lexer": "ipython3",
   "version": "3.12.4"
  }
 },
 "nbformat": 4,
 "nbformat_minor": 5
}
