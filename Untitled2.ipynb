{
 "cells": [
  {
   "cell_type": "code",
   "execution_count": null,
   "id": "98a912a9-c49a-4a0e-b80a-cceafe1243ee",
   "metadata": {},
   "outputs": [],
   "source": []
  }
 ],
 "metadata": {
  "kernelspec": {
   "display_name": "",
   "name": ""
  },
  "language_info": {
   "name": ""
  }
 },
 "nbformat": 4,
 "nbformat_minor": 5
}
