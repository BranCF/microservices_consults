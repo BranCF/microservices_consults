{
 "cells": [
  {
   "cell_type": "code",
   "execution_count": null,
   "id": "e561fb62-2036-46a7-b6eb-60a2349ebe03",
   "metadata": {},
   "outputs": [],
   "source": [
    "import numpy as np\n",
    "import pandas as pd\n",
    "import matplotlib.pyplot as plt\n",
    "import json"
   ]
  },
  {
   "cell_type": "code",
   "execution_count": null,
   "id": "2d7fbd43-684a-48c5-84ac-7100c1307636",
   "metadata": {},
   "outputs": [],
   "source": [
    "plt.style.use('dark_background') \n",
    "\n",
    "def highlight_odd_rows(s):\n",
    "    styles = []\n",
    "    for i in range(len(s)):\n",
    "        if i % 2 == 1:\n",
    "            styles.append('background-color: indigo; border: 1px solid white;')\n",
    "        else:\n",
    "            styles.append('border: 1px solid white;')\n",
    "    return styles"
   ]
  },
  {
   "cell_type": "code",
   "execution_count": null,
   "id": "e14d3b75-5672-4695-b9b7-95ade2198496",
   "metadata": {},
   "outputs": [],
   "source": [
    "df = pd.read_csv(\"consultassec.csv\")"
   ]
  },
  {
   "cell_type": "code",
   "execution_count": null,
   "id": "66b3d7ae-cd56-425f-8168-0b71cdb39150",
   "metadata": {
    "scrolled": true
   },
   "outputs": [],
   "source": [
    "df.head().style.apply(highlight_odd_rows)"
   ]
  },
  {
   "cell_type": "code",
   "execution_count": null,
   "id": "9b9a70f5-5219-4588-a999-eaab9a611b54",
   "metadata": {},
   "outputs": [],
   "source": [
    "def getDfSize(df):\n",
    "    rows = len(df.axes[0])\n",
    "    columns = len(df.axes[1])\n",
    "\n",
    "    return {'rows': rows, 'columns': columns}"
   ]
  },
  {
   "cell_type": "code",
   "execution_count": null,
   "id": "e7678dc0-6bd7-484d-bc0f-47274150e525",
   "metadata": {},
   "outputs": [],
   "source": [
    "getDfSize(df)"
   ]
  },
  {
   "cell_type": "markdown",
   "id": "ff6ece2d-5e9d-4742-8a80-7d3bf14ebffa",
   "metadata": {},
   "source": [
    "<h3>La siguiente función extrae las distintas llaves de cada diccionario que contenga una columna como valor en el dataframe</h3>"
   ]
  },
  {
   "cell_type": "code",
   "execution_count": null,
   "id": "f8a6148e-ceb5-460a-9321-ea6468e8015f",
   "metadata": {},
   "outputs": [],
   "source": [
    "def determineDistinctKeys(columnToList): #Recibe una lista, no una dataframe column\n",
    "    distinctKeysDict = {}\n",
    "    distinctKeysList = []\n",
    "    for dictionary in columnToList:\n",
    "        dictionary = json.loads(dictionary)\n",
    "        orderedKeys = sorted(list(dictionary.keys()))\n",
    "        if orderedKeys in distinctKeysList:\n",
    "            distinctKeysDict['/'.join(orderedKeys)] += 1\n",
    "        else:\n",
    "            distinctKeysList.append(orderedKeys)\n",
    "            distinctKeysDict['/'.join(orderedKeys)] = 0\n",
    "    return distinctKeysDict"
   ]
  },
  {
   "cell_type": "markdown",
   "id": "1fc3c95c-0fc3-4221-a750-5f124287f91f",
   "metadata": {},
   "source": [
    "<h3>La siguiente función extrae los distintos valores de una columna en el dataframe</h3>"
   ]
  },
  {
   "cell_type": "code",
   "execution_count": null,
   "id": "746b4361-edd0-4f48-9bbb-756840063671",
   "metadata": {},
   "outputs": [],
   "source": [
    "def determineDistinctValues(df, col): #Recibe el dataframe y la columna del dataframe que requiere ser revisado\n",
    "    return df[col].unique()"
   ]
  },
  {
   "cell_type": "markdown",
   "id": "85678a89-8a41-49bd-8bbd-09070d997df4",
   "metadata": {},
   "source": [
    "<h3>Con esto sabemos que la columna \"Response Body\" tiene un cuerpo idéntico para todos los casos</h3>"
   ]
  },
  {
   "cell_type": "code",
   "execution_count": null,
   "id": "643b64b0-8016-4586-b651-6ebd94b41777",
   "metadata": {},
   "outputs": [],
   "source": [
    "responseBody = df['responseBody'].values.tolist()"
   ]
  },
  {
   "cell_type": "code",
   "execution_count": null,
   "id": "5c12d8c9-50f5-423b-b73b-317d46c48e77",
   "metadata": {},
   "outputs": [],
   "source": [
    "determineDistinctKeys(responseBody)"
   ]
  },
  {
   "cell_type": "markdown",
   "id": "55ee1ebf-f8db-4bbf-b917-33551e66b734",
   "metadata": {},
   "source": [
    "<h3>Con esto sabemos la proporción entre consultas con algún tipo de error, o consultas normales en Carfax  USA</h3>"
   ]
  },
  {
   "cell_type": "code",
   "execution_count": null,
   "id": "513cfc96-29a4-42b3-bfb2-687f49e787c9",
   "metadata": {},
   "outputs": [],
   "source": [
    "carfaxUsaData = df['carfaxUsaData'].values.tolist()"
   ]
  },
  {
   "cell_type": "code",
   "execution_count": null,
   "id": "da5f5ecf-f83d-4588-adb2-e9db5ca47978",
   "metadata": {},
   "outputs": [],
   "source": [
    "determineDistinctKeys(carfaxUsaData)"
   ]
  },
  {
   "cell_type": "markdown",
   "id": "571f3ba0-3c9a-4629-8f90-8ce7029357ae",
   "metadata": {},
   "source": [
    "<h3>Finalmente sabemos qué se pide en los \"Request Parameters\"</h3>"
   ]
  },
  {
   "cell_type": "code",
   "execution_count": null,
   "id": "ad8b5c60-ebdd-436b-91ac-f17b3c8fe793",
   "metadata": {},
   "outputs": [],
   "source": [
    "requestParameters = df['requestParameters'].values.tolist()"
   ]
  },
  {
   "cell_type": "code",
   "execution_count": null,
   "id": "7fc11e32-1ed2-4b5a-9070-6db9b96d9975",
   "metadata": {},
   "outputs": [],
   "source": [
    "determineDistinctKeys(requestParameters)"
   ]
  },
  {
   "cell_type": "markdown",
   "id": "0b8907ea-345a-467e-9def-0815fac86185",
   "metadata": {},
   "source": [
    "<h3>Ahora nos aseguramos de todos los valores distintos que haya en las columnas</h3>"
   ]
  },
  {
   "cell_type": "code",
   "execution_count": null,
   "id": "6fa708b8-23cd-4f99-923e-864d9af610fb",
   "metadata": {},
   "outputs": [],
   "source": [
    "determineDistinctValues(df, 'apiKey') #Solo existe un valor posible para este campo"
   ]
  },
  {
   "cell_type": "code",
   "execution_count": null,
   "id": "914f350d-5df2-45f9-acec-36b21ce40e53",
   "metadata": {},
   "outputs": [],
   "source": [
    "determineDistinctValues(df, 'userId') #Solo existe un valor posible para este campo"
   ]
  },
  {
   "cell_type": "code",
   "execution_count": null,
   "id": "a9297323-b14c-4f5f-b652-af411e867b63",
   "metadata": {},
   "outputs": [],
   "source": [
    "determineDistinctValues(df, 'idReporte') #Existen varios valores (¿de qué depende esta diferencia?)"
   ]
  },
  {
   "cell_type": "code",
   "execution_count": null,
   "id": "6db209a4-46d3-40df-b77b-48ff9393a0d3",
   "metadata": {},
   "outputs": [],
   "source": [
    "determineDistinctValues(df, 'responseCode') #Solo existe un valor posible para este campo"
   ]
  },
  {
   "cell_type": "code",
   "execution_count": null,
   "id": "5ad66e69-92d7-40aa-843d-9def36da0e85",
   "metadata": {},
   "outputs": [],
   "source": [
    "determineDistinctValues(df, 'responseCodeStatus') #Solo existe un valor posible para este campo"
   ]
  },
  {
   "cell_type": "code",
   "execution_count": null,
   "id": "9cbd1a36-f710-4297-933c-53df68b4cbe3",
   "metadata": {},
   "outputs": [],
   "source": [
    "determineDistinctValues(df, 'labels') #Solo existe un valor posible para este campo"
   ]
  },
  {
   "cell_type": "code",
   "execution_count": null,
   "id": "da71bd00-6e55-4a0d-81fc-288b29ef4ec2",
   "metadata": {},
   "outputs": [],
   "source": [
    "determineDistinctValues(df, 'firewallUsa') #Solo existe un valor posible para este campo"
   ]
  },
  {
   "cell_type": "markdown",
   "id": "7d5d348b-6756-4cea-b6c8-ea4ea569223d",
   "metadata": {},
   "source": [
    "<h3>A continuación busco los distintos tipos de código de alerta que se encuentran en el dataframe creando una función especial para ello </h3>"
   ]
  },
  {
   "cell_type": "code",
   "execution_count": null,
   "id": "85e23c0a-de70-4f0d-b4fa-b73c11646a89",
   "metadata": {},
   "outputs": [],
   "source": [
    "def countAlertCodes(df, alertsColumn: str):\n",
    "    alertsWithCode = list(determineDistinctValues(df, alertsColumn))\n",
    "    codeCount = {'Code 1': 0 , 'Code 2': 0, 'Code 3': 0, 'Code 4': 0, 'Code 5': 0, 'Code 6': 0, 'Code 7': 0}\n",
    "\n",
    "    for alert in alertsWithCode:\n",
    "        alertList = json.loads(alert)\n",
    "        if alertList != []:\n",
    "            for subalert in alertList:\n",
    "                n = subalert['codigo']\n",
    "                codeCount[''.join(['Code ', str(n)])] += 1\n",
    "\n",
    "    return codeCount #El resultado me dará el código de error más frecuente en la plataforma\n"
   ]
  },
  {
   "cell_type": "code",
   "execution_count": null,
   "id": "5d094e61-cf19-44df-8b82-c39f6b53e6e3",
   "metadata": {},
   "outputs": [],
   "source": [
    "countAlertCodes(df, 'alertas')"
   ]
  },
  {
   "cell_type": "markdown",
   "id": "79515abe-a285-4cb1-9b13-ed631079af4e",
   "metadata": {},
   "source": [
    "<h3>Ahora calculo el tiempo en que se tarda cada petición en generar una respuesta</h3>"
   ]
  },
  {
   "cell_type": "code",
   "execution_count": null,
   "id": "343c23f0-b1d2-46e2-bbb7-491fa2c6eda4",
   "metadata": {},
   "outputs": [],
   "source": [
    "def calculateDeltaTime(df, columnA, columnB):\n",
    "    responseTimeType = pd.to_datetime(df[columnA])\n",
    "    requestTimeType = pd.to_datetime(df[columnB])\n",
    "    responsePeriod = (responseTimeType - requestTimeType).to_frame()\n",
    "    responsePeriod['secondsDifference'] = pd.to_timedelta(responsePeriod[0]).dt.total_seconds()\n",
    "    responsePeriod.drop([0], axis='columns', inplace=True)\n",
    "\n",
    "    return responsePeriod"
   ]
  },
  {
   "cell_type": "markdown",
   "id": "1ab9f3b5-17b1-44b4-8804-17add51cdb48",
   "metadata": {},
   "source": [
    "<h4>Con mayor frecuencia parece tardarse un segundo la respuesta. La gráfica parece ajustarse a una distribución de Poisson o a una distribución normal. Checar cuál es la más conveniente para calcular probabilidades</h4>"
   ]
  },
  {
   "cell_type": "code",
   "execution_count": null,
   "id": "872b20c9-935e-46bb-8d66-2b1d4fe44c84",
   "metadata": {},
   "outputs": [],
   "source": [
    "plt.hist(calculateDeltaTime(df, 'responseTime', 'requestTime')['secondsDifference'], bins = 20, edgecolor = 'black')\n",
    "plt.xlabel('Time in Seconds')\n",
    "plt.ylabel('Frequency')\n",
    "plt.title('Histogram of Time in Seconds')\n",
    "plt.show()"
   ]
  },
  {
   "cell_type": "markdown",
   "id": "f11927a2-63ae-4b1a-a849-a77fe5158846",
   "metadata": {},
   "source": [
    "<h3>A continuación se comprueba que cada diccionario del valor de la columna carfaxUsaData con una llave \"error\" le corresponda un valor distinto a lista vacía</h3>"
   ]
  },
  {
   "cell_type": "code",
   "execution_count": null,
   "id": "efb31b6d-3b6a-40a9-b9fa-370359628c0f",
   "metadata": {},
   "outputs": [],
   "source": [
    "def proveErrorAlert(df):\n",
    "    carfaxUsaData = df['carfaxUsaData'].values.tolist()\n",
    "    conError = 0\n",
    "    for index1 in range(len(carfaxUsaData)):\n",
    "        carfaxDict = json.loads(carfaxUsaData[index1])\n",
    "        if 'error' in list(carfaxDict.keys()):\n",
    "            conError += 1\n",
    "            if df.iloc[index1]['alertas'] == []:\n",
    "                return 'Existe un valor con error y sin alerta'\n",
    "    return 'Funciona correctamente'"
   ]
  },
  {
   "cell_type": "code",
   "execution_count": null,
   "id": "52fdb500-4f3b-49b7-895d-8e0b3adf593f",
   "metadata": {},
   "outputs": [],
   "source": [
    "proveErrorAlert(df)"
   ]
  },
  {
   "cell_type": "markdown",
   "id": "fcc1ca4d-eb68-48ed-88f4-bba2f3e289b2",
   "metadata": {},
   "source": [
    "<h3>Ahora se estudiará la relación con los Vin's repetidos y las alertas</h3>"
   ]
  },
  {
   "cell_type": "code",
   "execution_count": null,
   "id": "e7b1024a-ae86-434e-9906-38cd379fbef3",
   "metadata": {},
   "outputs": [],
   "source": [
    "#The next function identifies the repeated values of a column\n",
    "\n",
    "def getRepeatedValuesInAColumn(df, columnName):\n",
    "    duplicates = df[df.duplicated(subset=[columnName], keep=False)]\n",
    "    return duplicates['VIN']"
   ]
  },
  {
   "cell_type": "code",
   "execution_count": null,
   "id": "95ba69e3-f9e0-42c4-9808-691969bc379b",
   "metadata": {},
   "outputs": [],
   "source": [
    "def searchValuesInADataframe(values:list, columnA: str, columnB: str, df)-> dict:\n",
    "    '''\n",
    "    Searches the values of a list in a dataframe columnA and retrieves the information of columnB\n",
    "    Args:\n",
    "       values (list): The list of values to be searched\n",
    "       columnA (string): The name's column to search\n",
    "       columnB (string): The name's column to retrieve values\n",
    "       df (pandas dataFrame): The dataframe where where will be searched\n",
    "    Returns:\n",
    "      valuesBDict (dict): A dictionary of values as key and the retrieved values of columnB as values\n",
    "    '''\n",
    "    \n",
    "    valuesBDict ={}\n",
    "    for value in values:\n",
    "        valuesB = df.loc[df[columnA]== value, columnB].tolist()\n",
    "        valuesBDict[value] = valuesB\n",
    "    return valuesBDict"
   ]
  },
  {
   "cell_type": "markdown",
   "id": "f2d82663-6c04-4ea7-a418-d1c88c2a0c6e",
   "metadata": {},
   "source": [
    "<h4>Identificamos si existe algún VIN repetido que contenga y a la vez no, mensajes de alerta. Además se identifica la cantidad de veces que se repiten los VIN's que lanzan alerta contra los que no lanzan ninguna alerta</h4>"
   ]
  },
  {
   "cell_type": "code",
   "execution_count": null,
   "id": "82f376d9-5bbc-4eb8-ad04-750bf7733e61",
   "metadata": {},
   "outputs": [],
   "source": [
    "def getIncorrectRepeatedVinInformation(df):\n",
    "    repeatedRows = len(getRepeatedValuesInAColumn(df, 'VIN').values.tolist())\n",
    "    vinValues = getRepeatedValuesInAColumn(df, 'VIN').unique().tolist()\n",
    "    repeatedVins = len(vinValues)\n",
    "    repeatedValues = searchValuesInADataframe(vinValues, 'VIN', 'alertas', df)\n",
    "    goodVins = 0\n",
    "    badVins = 0\n",
    "    goodVinsList = []\n",
    "    badVinsList = []\n",
    "    for repeatedVin in list(repeatedValues.keys()):\n",
    "        differentValuesByVin = list(set(repeatedValues[repeatedVin]))\n",
    "        for differentValue in differentValuesByVin:\n",
    "            if differentValue == '[]':\n",
    "                goodVins += 1\n",
    "                if len(differentValuesByVin)>1:\n",
    "                    return {message: ''.join(['Alerta con vin: ',repeatedVin, ' , tiene y no tiene alertas.']),\n",
    "                           'goodVinsList': [],\n",
    "                           'badVinsList': [],\n",
    "                           'goodVins':0,\n",
    "                           'badVins': 0}\n",
    "                else:\n",
    "                    goodVinsList.append([repeatedVin, len(repeatedValues[repeatedVin])])\n",
    "            else:\n",
    "                badVins += 1\n",
    "                badVinsList.append([repeatedVin, len(repeatedValues[repeatedVin])])\n",
    "            \n",
    "\n",
    "    return {'message': ''.join(['VINs repetidos que no lanzan alerta: ', str(goodVins), '\\nVINs repetidos que sí lanzan alerta: ', str(badVins)]),\n",
    "           'goodVinsList': goodVinsList,\n",
    "           'badVinsList': badVinsList,\n",
    "           'goodVins':goodVins,\n",
    "           'badVins': badVins}"
   ]
  },
  {
   "cell_type": "code",
   "execution_count": null,
   "id": "2e99f948-0054-4c7b-a377-65dfd5026ee7",
   "metadata": {},
   "outputs": [],
   "source": [
    "def diagnoseVins(df):\n",
    "    goodVinsFrame = pd.DataFrame(getIncorrectRepeatedVinInformation(df)['goodVinsList'], columns = ['VIN', 'repeatedTimes'])\n",
    "    goodRepeatedRecords = goodVinsFrame.sum()['repeatedTimes']\n",
    "    badVinsFrame = pd.DataFrame(getIncorrectRepeatedVinInformation(df)['badVinsList'], columns = ['VIN', 'repeatedTimes'])\n",
    "    badRepeatedRecords = badVinsFrame.sum()['repeatedTimes']\n",
    "\n",
    "    return {'goodVinsFrame': goodVinsFrame, 'badVinsFrame': badVinsFrame, 'goodRepeatedRecords': goodRepeatedRecords, 'badRepeatedRecords': badRepeatedRecords}"
   ]
  },
  {
   "cell_type": "code",
   "execution_count": null,
   "id": "1f7357b9-4cdd-486f-a93b-15d8664c64b1",
   "metadata": {},
   "outputs": [],
   "source": [
    "diagnoseVins(df)['goodVinsFrame'].describe().style.apply(highlight_odd_rows)"
   ]
  },
  {
   "cell_type": "code",
   "execution_count": null,
   "id": "9d81028a-7828-4d79-965b-8d425263630c",
   "metadata": {},
   "outputs": [],
   "source": [
    "plt.hist(diagnoseVins(df)['goodVinsFrame']['repeatedTimes'], bins = 50, edgecolor = 'black')\n",
    "plt.xlabel('Repeated Times')\n",
    "plt.ylabel('Frequency')\n",
    "plt.title('Histogram of Repeated Times by VIN (without alerts)')\n",
    "plt.show()"
   ]
  },
  {
   "cell_type": "code",
   "execution_count": null,
   "id": "385afb07-cec6-47c7-9c14-1872493ca5f8",
   "metadata": {},
   "outputs": [],
   "source": [
    "diagnoseVins(df)['badVinsFrame'].describe().style.apply(highlight_odd_rows)"
   ]
  },
  {
   "cell_type": "code",
   "execution_count": null,
   "id": "0ea12d53-0bf4-41c7-ad88-0fb376ae8c31",
   "metadata": {},
   "outputs": [],
   "source": [
    "plt.hist(diagnoseVins(df)['goodVinsFrame']['repeatedTimes'], bins =10, edgecolor = 'black')\n",
    "plt.xlabel('Repeated Times')\n",
    "plt.ylabel('Frequency')\n",
    "plt.title('Histogram of Repeated Times by VIN (with alerts)')\n",
    "plt.show()"
   ]
  },
  {
   "cell_type": "markdown",
   "id": "35099e28-2fd6-4e57-921d-3a60df5211b1",
   "metadata": {},
   "source": [
    "<h4>Finalmente tenemos los VINs revisados en todos los registros. La proporción entre VINs repetidos con alerta, VINs repetidos sin alerta. Máximos y mínimos repeticiones</h4>"
   ]
  },
  {
   "cell_type": "code",
   "execution_count": null,
   "id": "b9b050eb-9a20-481f-942a-e6c049c3698d",
   "metadata": {},
   "outputs": [],
   "source": [
    "print('Cantidad de registros repetidos: ', diagnoseVins(df)['goodRepeatedRecords'] + diagnoseVins(df)['badRepeatedRecords'])\n",
    "print('Cantidad de registros repetidos con VINs sin alerta: ', diagnoseVins(df)['goodRepeatedRecords'])\n",
    "print('Cantidad de registros repetidos con VINs con alerta: ', diagnoseVins(df)['badRepeatedRecords'])\n",
    "print('Cantidad de VINs revisados en esos registros repetidos: ', list(diagnoseVins(df)['badVinsFrame'].count() + diagnoseVins(df)['goodVinsFrame'].count())[1])\n",
    "repetitionProportion = [diagnoseVins(df)['goodRepeatedRecords'], diagnoseVins(df)['badRepeatedRecords']]\n",
    "labelsRepetition = ['VINs without alerts', 'VINs with alerts']\n",
    "plt.pie(repetitionProportion, labels=labelsRepetition, autopct=\"%0.1f %%\")\n",
    "plt.axis(\"equal\")\n",
    "plt.title('Repeated records')\n",
    "plt.show()"
   ]
  },
  {
   "cell_type": "markdown",
   "id": "130f19c4-0376-4ed4-bb22-e0d4bb87f680",
   "metadata": {},
   "source": [
    "<h4>Estadísticas de las repeticiones de los VINs sin alerta</h4>"
   ]
  },
  {
   "cell_type": "code",
   "execution_count": null,
   "id": "dc63ab32-8f60-49e7-b63f-e824fbb40e21",
   "metadata": {},
   "outputs": [],
   "source": [
    "diagnoseVins(df)['goodVinsFrame'].describe().style.apply(highlight_odd_rows)"
   ]
  },
  {
   "cell_type": "markdown",
   "id": "31aecfa7-a82d-4b6b-b870-507249ea7192",
   "metadata": {},
   "source": [
    "<h4>Estadísticas de las repeticiones de los VINs con alerta</h4>"
   ]
  },
  {
   "cell_type": "code",
   "execution_count": null,
   "id": "42f26fea-2fef-40bb-9040-1da577175de6",
   "metadata": {},
   "outputs": [],
   "source": [
    "diagnoseVins(df)['badVinsFrame'].describe().style.apply(highlight_odd_rows)"
   ]
  },
  {
   "cell_type": "markdown",
   "id": "259eadba-29d4-430c-b296-54b6adfc74e4",
   "metadata": {},
   "source": [
    "<h3>Ahora se comprueba que para cada VIN repetido y sin alerta se dió exactamente la misma información</h3>"
   ]
  },
  {
   "cell_type": "code",
   "execution_count": null,
   "id": "7df75aa1-7b33-4274-81d8-b82230851fb7",
   "metadata": {},
   "outputs": [],
   "source": [
    "def verifyInfoRepeatedVins(df):\n",
    "    uniqueResponses = {}\n",
    "    differentResponses = {}\n",
    "    vinValues = getRepeatedValuesInAColumn(df, 'VIN').unique().tolist()\n",
    "    repeatedValues = searchValuesInADataframe(vinValues, 'VIN', 'responseBody', df)\n",
    "    repeatedVins = repeatedValues.keys()\n",
    "    for vin in repeatedVins:\n",
    "        uniqueResponses[vin] = []\n",
    "        listJson = []\n",
    "        for responseString in repeatedValues[vin]:\n",
    "            responseJson = json.loads(responseString)\n",
    "            listJson.append(responseJson)\n",
    "        repeatedValues[vin] = listJson\n",
    "    for vin in repeatedVins:\n",
    "        for responseJson in repeatedValues[vin]:\n",
    "            info = {'anioModelo': responseJson['anioModelo'], 'fabricante': responseJson['fabricante'], 'marca': responseJson['marca'], 'modelo': responseJson['modelo'], 'paisOrigen': responseJson['paisOrigen'], 'robo': responseJson['robo'], 'roboFecha': responseJson['roboFecha']}\n",
    "            if uniqueResponses[vin] == []:\n",
    "                 uniqueResponses[vin].append(info)\n",
    "            else:\n",
    "                if info not in uniqueResponses[vin]:\n",
    "                    uniqueResponses[vin].append(info)\n",
    "                    info['tiempoRespuesta'] = responseJson['tiempoRespuesta']\n",
    "                    differentResponses[vin] = info\n",
    "    return {'uniqueResponses': uniqueResponses, 'differentResponses': differentResponses}"
   ]
  },
  {
   "cell_type": "code",
   "execution_count": null,
   "id": "641e94b1-86d8-4b6d-a095-f470ecfa8494",
   "metadata": {},
   "outputs": [],
   "source": [
    "if verifyInfoRepeatedVins(df)['differentResponses'] != {}:\n",
    "    print('Existen respuestas distintas para un mismo VIN')"
   ]
  },
  {
   "cell_type": "markdown",
   "id": "b1a24cd3-05c7-4761-b27b-3ba7b9b76e2f",
   "metadata": {},
   "source": [
    "<h3>Ahora se comprueba que para cada VIN repetido y con alerta se dió exactamente la misma información y los mismos códigos de alerta</h3>"
   ]
  },
  {
   "cell_type": "code",
   "execution_count": null,
   "id": "bcfcb023-5b4f-46c3-b1b4-4be518e7fc12",
   "metadata": {},
   "outputs": [],
   "source": []
  },
  {
   "cell_type": "markdown",
   "id": "190ffb5d-afe6-450c-be3a-88a990cf1d1f",
   "metadata": {},
   "source": [
    "<h3>Ahora se analizan una parte de los datos mediante un periodo de tiempo n variable que extrae un subconjunto del dataframe </h3>"
   ]
  },
  {
   "cell_type": "markdown",
   "id": "edf1f581-cde3-45a3-888a-d742857875a7",
   "metadata": {},
   "source": [
    "<h4>Primero se ordenan los datos de manera descendente por el campo \"responseTime\"</h4>"
   ]
  },
  {
   "cell_type": "code",
   "execution_count": null,
   "id": "7b6f202c-463d-4866-a27f-234634490f49",
   "metadata": {},
   "outputs": [],
   "source": [
    "df = df.sort_values(by = 'responseTime', ascending = False)"
   ]
  },
  {
   "cell_type": "code",
   "execution_count": null,
   "id": "efe4aad7-f3e4-439f-a134-80eb8f145152",
   "metadata": {},
   "outputs": [],
   "source": [
    "df['responseTime'] = pd.to_datetime(df['responseTime'], format='%d/%m/%Y %H:%M:%S')\n",
    "n_minutes  = 10\n",
    "first_timestamp = df['responseTime'].iloc[0]\n",
    "time_threshold = first_timestamp - pd.Timedelta(minutes=n_minutes)\n",
    "filtered_df = df[df['responseTime'] >= time_threshold]\n",
    "print(filtered_df.shape)"
   ]
  },
  {
   "cell_type": "code",
   "execution_count": null,
   "id": "02d3acd7-eb84-4f5f-96ce-c5fda64a533a",
   "metadata": {},
   "outputs": [],
   "source": []
  }
 ],
 "metadata": {
  "kernelspec": {
   "display_name": "msvenv1",
   "language": "python",
   "name": "msvenv1"
  },
  "language_info": {
   "codemirror_mode": {
    "name": "ipython",
    "version": 3
   },
   "file_extension": ".py",
   "mimetype": "text/x-python",
   "name": "python",
   "nbconvert_exporter": "python",
   "pygments_lexer": "ipython3",
   "version": "3.12.4"
  }
 },
 "nbformat": 4,
 "nbformat_minor": 5
}
