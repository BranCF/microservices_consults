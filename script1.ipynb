{
 "cells": [
  {
   "cell_type": "code",
   "execution_count": 1,
   "id": "e561fb62-2036-46a7-b6eb-60a2349ebe03",
   "metadata": {},
   "outputs": [],
   "source": [
    "import numpy as np\n",
    "import pandas as pd\n",
    "import matplotlib.pyplot as plt\n",
    "import json"
   ]
  },
  {
   "cell_type": "code",
   "execution_count": 2,
   "id": "2d7fbd43-684a-48c5-84ac-7100c1307636",
   "metadata": {},
   "outputs": [],
   "source": [
    "plt.style.use('dark_background') \n",
    "\n",
    "def highlight_odd_rows(s):\n",
    "    '''\n",
    "    Changes style of a dataframe visualization\n",
    "    Args:\n",
    "       s : The row of the dataframe\n",
    "    Returns:\n",
    "    '''\n",
    "    styles = []\n",
    "    for i in range(len(s)):\n",
    "        if i % 2 == 1:\n",
    "            styles.append('background-color: indigo; border: 1px solid white;')\n",
    "        else:\n",
    "            styles.append('border: 1px solid white;')\n",
    "    return styles"
   ]
  },
  {
   "cell_type": "code",
   "execution_count": 3,
   "id": "e14d3b75-5672-4695-b9b7-95ade2198496",
   "metadata": {},
   "outputs": [],
   "source": [
    "df = pd.read_csv(\"regularizacion100000.csv\", encoding = 'utf-8')"
   ]
  },
  {
   "cell_type": "code",
   "execution_count": 4,
   "id": "66b3d7ae-cd56-425f-8168-0b71cdb39150",
   "metadata": {
    "scrolled": true
   },
   "outputs": [
    {
     "data": {
      "text/html": [
       "<style type=\"text/css\">\n",
       "#T_4a69d_row0_col0, #T_4a69d_row0_col1, #T_4a69d_row0_col2, #T_4a69d_row0_col3, #T_4a69d_row0_col4, #T_4a69d_row0_col5, #T_4a69d_row0_col6, #T_4a69d_row0_col7, #T_4a69d_row0_col8, #T_4a69d_row0_col9, #T_4a69d_row0_col10, #T_4a69d_row0_col11, #T_4a69d_row0_col12, #T_4a69d_row0_col13, #T_4a69d_row0_col14, #T_4a69d_row0_col15, #T_4a69d_row0_col16, #T_4a69d_row0_col17, #T_4a69d_row0_col18, #T_4a69d_row0_col19, #T_4a69d_row2_col0, #T_4a69d_row2_col1, #T_4a69d_row2_col2, #T_4a69d_row2_col3, #T_4a69d_row2_col4, #T_4a69d_row2_col5, #T_4a69d_row2_col6, #T_4a69d_row2_col7, #T_4a69d_row2_col8, #T_4a69d_row2_col9, #T_4a69d_row2_col10, #T_4a69d_row2_col11, #T_4a69d_row2_col12, #T_4a69d_row2_col13, #T_4a69d_row2_col14, #T_4a69d_row2_col15, #T_4a69d_row2_col16, #T_4a69d_row2_col17, #T_4a69d_row2_col18, #T_4a69d_row2_col19, #T_4a69d_row4_col0, #T_4a69d_row4_col1, #T_4a69d_row4_col2, #T_4a69d_row4_col3, #T_4a69d_row4_col4, #T_4a69d_row4_col5, #T_4a69d_row4_col6, #T_4a69d_row4_col7, #T_4a69d_row4_col8, #T_4a69d_row4_col9, #T_4a69d_row4_col10, #T_4a69d_row4_col11, #T_4a69d_row4_col12, #T_4a69d_row4_col13, #T_4a69d_row4_col14, #T_4a69d_row4_col15, #T_4a69d_row4_col16, #T_4a69d_row4_col17, #T_4a69d_row4_col18, #T_4a69d_row4_col19 {\n",
       "  border: 1px solid white;\n",
       "}\n",
       "#T_4a69d_row1_col0, #T_4a69d_row1_col1, #T_4a69d_row1_col2, #T_4a69d_row1_col3, #T_4a69d_row1_col4, #T_4a69d_row1_col5, #T_4a69d_row1_col6, #T_4a69d_row1_col7, #T_4a69d_row1_col8, #T_4a69d_row1_col9, #T_4a69d_row1_col10, #T_4a69d_row1_col11, #T_4a69d_row1_col12, #T_4a69d_row1_col13, #T_4a69d_row1_col14, #T_4a69d_row1_col15, #T_4a69d_row1_col16, #T_4a69d_row1_col17, #T_4a69d_row1_col18, #T_4a69d_row1_col19, #T_4a69d_row3_col0, #T_4a69d_row3_col1, #T_4a69d_row3_col2, #T_4a69d_row3_col3, #T_4a69d_row3_col4, #T_4a69d_row3_col5, #T_4a69d_row3_col6, #T_4a69d_row3_col7, #T_4a69d_row3_col8, #T_4a69d_row3_col9, #T_4a69d_row3_col10, #T_4a69d_row3_col11, #T_4a69d_row3_col12, #T_4a69d_row3_col13, #T_4a69d_row3_col14, #T_4a69d_row3_col15, #T_4a69d_row3_col16, #T_4a69d_row3_col17, #T_4a69d_row3_col18, #T_4a69d_row3_col19 {\n",
       "  background-color: indigo;\n",
       "  border: 1px solid white;\n",
       "}\n",
       "</style>\n",
       "<table id=\"T_4a69d\">\n",
       "  <thead>\n",
       "    <tr>\n",
       "      <th class=\"blank level0\" >&nbsp;</th>\n",
       "      <th id=\"T_4a69d_level0_col0\" class=\"col_heading level0 col0\" >VIN</th>\n",
       "      <th id=\"T_4a69d_level0_col1\" class=\"col_heading level0 col1\" >_id</th>\n",
       "      <th id=\"T_4a69d_level0_col2\" class=\"col_heading level0 col2\" >host</th>\n",
       "      <th id=\"T_4a69d_level0_col3\" class=\"col_heading level0 col3\" >ip</th>\n",
       "      <th id=\"T_4a69d_level0_col4\" class=\"col_heading level0 col4\" >apiKey</th>\n",
       "      <th id=\"T_4a69d_level0_col5\" class=\"col_heading level0 col5\" >userId</th>\n",
       "      <th id=\"T_4a69d_level0_col6\" class=\"col_heading level0 col6\" >idReporte</th>\n",
       "      <th id=\"T_4a69d_level0_col7\" class=\"col_heading level0 col7\" >requestParameters</th>\n",
       "      <th id=\"T_4a69d_level0_col8\" class=\"col_heading level0 col8\" >requestUrl</th>\n",
       "      <th id=\"T_4a69d_level0_col9\" class=\"col_heading level0 col9\" >responseCode</th>\n",
       "      <th id=\"T_4a69d_level0_col10\" class=\"col_heading level0 col10\" >responseCodeStatus</th>\n",
       "      <th id=\"T_4a69d_level0_col11\" class=\"col_heading level0 col11\" >requestTime</th>\n",
       "      <th id=\"T_4a69d_level0_col12\" class=\"col_heading level0 col12\" >responseTime</th>\n",
       "      <th id=\"T_4a69d_level0_col13\" class=\"col_heading level0 col13\" >labels</th>\n",
       "      <th id=\"T_4a69d_level0_col14\" class=\"col_heading level0 col14\" >idRespuesta</th>\n",
       "      <th id=\"T_4a69d_level0_col15\" class=\"col_heading level0 col15\" >idConsulta</th>\n",
       "      <th id=\"T_4a69d_level0_col16\" class=\"col_heading level0 col16\" >responseBody</th>\n",
       "      <th id=\"T_4a69d_level0_col17\" class=\"col_heading level0 col17\" >carfaxUsaData</th>\n",
       "      <th id=\"T_4a69d_level0_col18\" class=\"col_heading level0 col18\" >alertas</th>\n",
       "      <th id=\"T_4a69d_level0_col19\" class=\"col_heading level0 col19\" >firewallUsa</th>\n",
       "    </tr>\n",
       "  </thead>\n",
       "  <tbody>\n",
       "    <tr>\n",
       "      <th id=\"T_4a69d_level0_row0\" class=\"row_heading level0 row0\" >0</th>\n",
       "      <td id=\"T_4a69d_row0_col0\" class=\"data row0 col0\" >1GCWGGBA0D1111037</td>\n",
       "      <td id=\"T_4a69d_row0_col1\" class=\"data row0 col1\" >673f678e12327586f2ae7414</td>\n",
       "      <td id=\"T_4a69d_row0_col2\" class=\"data row0 col2\" >10.240.2.38:80</td>\n",
       "      <td id=\"T_4a69d_row0_col3\" class=\"data row0 col3\" >201.116.128.213:8772,10.240.8.27, 127.0.0.6</td>\n",
       "      <td id=\"T_4a69d_row0_col4\" class=\"data row0 col4\" >6cNqbbTqBnZEchPZ2YYn</td>\n",
       "      <td id=\"T_4a69d_row0_col5\" class=\"data row0 col5\" >nan</td>\n",
       "      <td id=\"T_4a69d_row0_col6\" class=\"data row0 col6\" >nan</td>\n",
       "      <td id=\"T_4a69d_row0_col7\" class=\"data row0 col7\" >{}</td>\n",
       "      <td id=\"T_4a69d_row0_col8\" class=\"data row0 col8\" >/v2/regularizacion/1GCWGGBA0D1111037</td>\n",
       "      <td id=\"T_4a69d_row0_col9\" class=\"data row0 col9\" >200</td>\n",
       "      <td id=\"T_4a69d_row0_col10\" class=\"data row0 col10\" >ok</td>\n",
       "      <td id=\"T_4a69d_row0_col11\" class=\"data row0 col11\" >2024-11-21 11:02:06</td>\n",
       "      <td id=\"T_4a69d_row0_col12\" class=\"data row0 col12\" >2024-11-21 11:02:06</td>\n",
       "      <td id=\"T_4a69d_row0_col13\" class=\"data row0 col13\" >nan</td>\n",
       "      <td id=\"T_4a69d_row0_col14\" class=\"data row0 col14\" >673f678e12327586f2ae7415</td>\n",
       "      <td id=\"T_4a69d_row0_col15\" class=\"data row0 col15\" >673f678e12327586f2ae7414</td>\n",
       "      <td id=\"T_4a69d_row0_col16\" class=\"data row0 col16\" >{\"mensajes\":[],\"robo\":false,\"roboFecha\":null,\"marca\":\"CHEVROLET\",\"modelo\":\"EXPRESS 2500\",\"anioModelo\":\"2013\",\"fabricante\":\"GENERAL MOTORS LLC\",\"paisOrigen\":\"ESTADOS UNIDOS (USA)\",\"tiempoConsulta\":\"2024-11-21T11:02:06-06:00\",\"tiempoRespuesta\":\"2024-11-21T11:02:06-06:00\"}</td>\n",
       "      <td id=\"T_4a69d_row0_col17\" class=\"data row0 col17\" >{\"vin\":\"1GCWGGBA0D1111037\",\"timestamp\":\"2024-11-21T11:01:44.000\",\"components\":{\"potentialFraudFile\":{\"year\":2013,\"make\":\"CHEVROLET\",\"model\":\"EXPRESS 2500\",\"rateEvasionFlags\":[],\"potentialFraudFlags\":[],\"vinCloningFlags\":[]}},\"customCalculationOdometer\":\"\"}</td>\n",
       "      <td id=\"T_4a69d_row0_col18\" class=\"data row0 col18\" >[]</td>\n",
       "      <td id=\"T_4a69d_row0_col19\" class=\"data row0 col19\" >1</td>\n",
       "    </tr>\n",
       "    <tr>\n",
       "      <th id=\"T_4a69d_level0_row1\" class=\"row_heading level0 row1\" >1</th>\n",
       "      <td id=\"T_4a69d_row1_col0\" class=\"data row1 col0\" >1GCWGGBAOD1111037</td>\n",
       "      <td id=\"T_4a69d_row1_col1\" class=\"data row1 col1\" >673f678a74141818244e5119</td>\n",
       "      <td id=\"T_4a69d_row1_col2\" class=\"data row1 col2\" >10.240.2.38:80</td>\n",
       "      <td id=\"T_4a69d_row1_col3\" class=\"data row1 col3\" >201.116.128.213:8772,10.240.8.27, 127.0.0.6</td>\n",
       "      <td id=\"T_4a69d_row1_col4\" class=\"data row1 col4\" >6cNqbbTqBnZEchPZ2YYn</td>\n",
       "      <td id=\"T_4a69d_row1_col5\" class=\"data row1 col5\" >nan</td>\n",
       "      <td id=\"T_4a69d_row1_col6\" class=\"data row1 col6\" >nan</td>\n",
       "      <td id=\"T_4a69d_row1_col7\" class=\"data row1 col7\" >{}</td>\n",
       "      <td id=\"T_4a69d_row1_col8\" class=\"data row1 col8\" >/v2/regularizacion/1GCWGGBAOD1111037</td>\n",
       "      <td id=\"T_4a69d_row1_col9\" class=\"data row1 col9\" >200</td>\n",
       "      <td id=\"T_4a69d_row1_col10\" class=\"data row1 col10\" >ok</td>\n",
       "      <td id=\"T_4a69d_row1_col11\" class=\"data row1 col11\" >2024-11-21 11:02:02</td>\n",
       "      <td id=\"T_4a69d_row1_col12\" class=\"data row1 col12\" >2024-11-21 11:02:03</td>\n",
       "      <td id=\"T_4a69d_row1_col13\" class=\"data row1 col13\" >nan</td>\n",
       "      <td id=\"T_4a69d_row1_col14\" class=\"data row1 col14\" >673f678b74141818244e511a</td>\n",
       "      <td id=\"T_4a69d_row1_col15\" class=\"data row1 col15\" >673f678a74141818244e5119</td>\n",
       "      <td id=\"T_4a69d_row1_col16\" class=\"data row1 col16\" >{\"mensajes\":[{\"codigo\":4,\"mensaje\":\"El dígito verificador en la 9° posición del VIN 1GCWGGBAOD1111037 NO es correcto.\"}],\"marca\":\"CHEVROLET\",\"modelo\":\"EXPRESS\",\"anioModelo\":\"2013\",\"robo\":false,\"roboFecha\":null,\"fabricante\":\"GENERAL MOTORS LLC\",\"paisOrigen\":\"ESTADOS UNIDOS (USA)\",\"tiempoConsulta\":\"2024-11-21T11:02:02-06:00\",\"tiempoRespuesta\":\"2024-11-21T11:02:03-06:00\"}</td>\n",
       "      <td id=\"T_4a69d_row1_col17\" class=\"data row1 col17\" >{\"error\":\"VIN INVALIDO\",\"respuestaCompleta\":{\"vin\":\"1GCWGGBAOD1111037\",\"timestamp\":\"2024-11-21T11:02:03.000\",\"error\":{\"message\":\"The VIN you entered was invalid\"},\"vinSuggestions\":[{\"vin\":\"1GCWGGBA0D1111037\",\"description\":\"2013 CHEVROLET/EXPRESS 2500/4.8L V8    F OHV  16V\"},{\"vin\":\"1GC2C0C80DF111037\",\"description\":\"2013 CHEVROLET/SILVERADO C3500 LT/6.6L V8    F OHV  32V\"},{\"vin\":\"1GC3C0F80DF111037\",\"description\":\"2013 CHEVROLET/SILVERADO C3500 LT/6.6L V8    F OHV  32V\"},{\"vin\":\"1GC2CZF80DF111037\",\"description\":\"2013 CHEVROLET/SILVERADO C3500/6.6L V8    F OHV  32V\"},{\"vin\":\"1GC3C0E80DZ111037\",\"description\":\"2013 CHEVROLET/SILVERADO C3500 LT/6.6L V8    F OHV  32V\"}]}}</td>\n",
       "      <td id=\"T_4a69d_row1_col18\" class=\"data row1 col18\" >[{\"codigo\":4,\"mensaje\":\"El dígito verificador en la 9° posición del VIN 1GCWGGBAOD1111037 NO es correcto.\"}]</td>\n",
       "      <td id=\"T_4a69d_row1_col19\" class=\"data row1 col19\" >0</td>\n",
       "    </tr>\n",
       "    <tr>\n",
       "      <th id=\"T_4a69d_level0_row2\" class=\"row_heading level0 row2\" >2</th>\n",
       "      <td id=\"T_4a69d_row2_col0\" class=\"data row2 col0\" >1FM5K8AR7DGC16206</td>\n",
       "      <td id=\"T_4a69d_row2_col1\" class=\"data row2 col1\" >673f67805fdba73a823e397b</td>\n",
       "      <td id=\"T_4a69d_row2_col2\" class=\"data row2 col2\" >10.240.2.38:80</td>\n",
       "      <td id=\"T_4a69d_row2_col3\" class=\"data row2 col3\" >201.116.128.213:8771,10.240.1.169, 127.0.0.6</td>\n",
       "      <td id=\"T_4a69d_row2_col4\" class=\"data row2 col4\" >6cNqbbTqBnZEchPZ2YYn</td>\n",
       "      <td id=\"T_4a69d_row2_col5\" class=\"data row2 col5\" >nan</td>\n",
       "      <td id=\"T_4a69d_row2_col6\" class=\"data row2 col6\" >nan</td>\n",
       "      <td id=\"T_4a69d_row2_col7\" class=\"data row2 col7\" >{}</td>\n",
       "      <td id=\"T_4a69d_row2_col8\" class=\"data row2 col8\" >/v2/regularizacion/1FM5K8AR7DGC16206</td>\n",
       "      <td id=\"T_4a69d_row2_col9\" class=\"data row2 col9\" >200</td>\n",
       "      <td id=\"T_4a69d_row2_col10\" class=\"data row2 col10\" >ok</td>\n",
       "      <td id=\"T_4a69d_row2_col11\" class=\"data row2 col11\" >2024-11-21 11:01:52</td>\n",
       "      <td id=\"T_4a69d_row2_col12\" class=\"data row2 col12\" >2024-11-21 11:01:52</td>\n",
       "      <td id=\"T_4a69d_row2_col13\" class=\"data row2 col13\" >nan</td>\n",
       "      <td id=\"T_4a69d_row2_col14\" class=\"data row2 col14\" >673f67805fdba73a823e397c</td>\n",
       "      <td id=\"T_4a69d_row2_col15\" class=\"data row2 col15\" >673f67805fdba73a823e397b</td>\n",
       "      <td id=\"T_4a69d_row2_col16\" class=\"data row2 col16\" >{\"mensajes\":[],\"robo\":false,\"roboFecha\":null,\"marca\":\"FORD\",\"modelo\":\"EXPLORER POLICE INTERCEPTOR UTILITY\",\"anioModelo\":\"2013\",\"fabricante\":\"FORD MOTOR COMPANY\",\"paisOrigen\":\"ESTADOS UNIDOS (USA)\",\"tiempoConsulta\":\"2024-11-21T11:01:52-06:00\",\"tiempoRespuesta\":\"2024-11-21T11:01:52-06:00\"}</td>\n",
       "      <td id=\"T_4a69d_row2_col17\" class=\"data row2 col17\" >{\"vin\":\"1FM5K8AR7DGC16206\",\"timestamp\":\"2024-11-21T10:59:40.000\",\"components\":{\"potentialFraudFile\":{\"year\":2013,\"make\":\"FORD\",\"model\":\"EXPLORER POLICE INTERCEPTOR UTILITY\",\"rateEvasionFlags\":[],\"potentialFraudFlags\":[],\"vinCloningFlags\":[]}},\"customCalculationOdometer\":\"\"}</td>\n",
       "      <td id=\"T_4a69d_row2_col18\" class=\"data row2 col18\" >[]</td>\n",
       "      <td id=\"T_4a69d_row2_col19\" class=\"data row2 col19\" >1</td>\n",
       "    </tr>\n",
       "    <tr>\n",
       "      <th id=\"T_4a69d_level0_row3\" class=\"row_heading level0 row3\" >3</th>\n",
       "      <td id=\"T_4a69d_row3_col0\" class=\"data row3 col0\" >1GCWGGBA0D1111037</td>\n",
       "      <td id=\"T_4a69d_row3_col1\" class=\"data row3 col1\" >673f67785fdba73a823e3979</td>\n",
       "      <td id=\"T_4a69d_row3_col2\" class=\"data row3 col2\" >10.240.2.38:80</td>\n",
       "      <td id=\"T_4a69d_row3_col3\" class=\"data row3 col3\" >201.116.128.213:8770,10.240.1.225, 127.0.0.6</td>\n",
       "      <td id=\"T_4a69d_row3_col4\" class=\"data row3 col4\" >6cNqbbTqBnZEchPZ2YYn</td>\n",
       "      <td id=\"T_4a69d_row3_col5\" class=\"data row3 col5\" >nan</td>\n",
       "      <td id=\"T_4a69d_row3_col6\" class=\"data row3 col6\" >nan</td>\n",
       "      <td id=\"T_4a69d_row3_col7\" class=\"data row3 col7\" >{}</td>\n",
       "      <td id=\"T_4a69d_row3_col8\" class=\"data row3 col8\" >/v2/regularizacion/1GCWGGBA0D1111037</td>\n",
       "      <td id=\"T_4a69d_row3_col9\" class=\"data row3 col9\" >200</td>\n",
       "      <td id=\"T_4a69d_row3_col10\" class=\"data row3 col10\" >ok</td>\n",
       "      <td id=\"T_4a69d_row3_col11\" class=\"data row3 col11\" >2024-11-21 11:01:44</td>\n",
       "      <td id=\"T_4a69d_row3_col12\" class=\"data row3 col12\" >2024-11-21 11:01:45</td>\n",
       "      <td id=\"T_4a69d_row3_col13\" class=\"data row3 col13\" >nan</td>\n",
       "      <td id=\"T_4a69d_row3_col14\" class=\"data row3 col14\" >673f67795fdba73a823e397a</td>\n",
       "      <td id=\"T_4a69d_row3_col15\" class=\"data row3 col15\" >673f67785fdba73a823e3979</td>\n",
       "      <td id=\"T_4a69d_row3_col16\" class=\"data row3 col16\" >{\"mensajes\":[],\"robo\":false,\"roboFecha\":null,\"marca\":\"CHEVROLET\",\"modelo\":\"EXPRESS 2500\",\"anioModelo\":\"2013\",\"fabricante\":\"GENERAL MOTORS LLC\",\"paisOrigen\":\"ESTADOS UNIDOS (USA)\",\"tiempoConsulta\":\"2024-11-21T11:01:44-06:00\",\"tiempoRespuesta\":\"2024-11-21T11:01:45-06:00\"}</td>\n",
       "      <td id=\"T_4a69d_row3_col17\" class=\"data row3 col17\" >{\"vin\":\"1GCWGGBA0D1111037\",\"timestamp\":\"2024-11-21T11:01:44.000\",\"components\":{\"potentialFraudFile\":{\"year\":2013,\"make\":\"CHEVROLET\",\"model\":\"EXPRESS 2500\",\"rateEvasionFlags\":[],\"potentialFraudFlags\":[],\"vinCloningFlags\":[]}},\"customCalculationOdometer\":\"\"}</td>\n",
       "      <td id=\"T_4a69d_row3_col18\" class=\"data row3 col18\" >[]</td>\n",
       "      <td id=\"T_4a69d_row3_col19\" class=\"data row3 col19\" >0</td>\n",
       "    </tr>\n",
       "    <tr>\n",
       "      <th id=\"T_4a69d_level0_row4\" class=\"row_heading level0 row4\" >4</th>\n",
       "      <td id=\"T_4a69d_row4_col0\" class=\"data row4 col0\" >1GCWGGBA0DLLLL037</td>\n",
       "      <td id=\"T_4a69d_row4_col1\" class=\"data row4 col1\" >673f677612327586f2ae7412</td>\n",
       "      <td id=\"T_4a69d_row4_col2\" class=\"data row4 col2\" >10.240.2.38:80</td>\n",
       "      <td id=\"T_4a69d_row4_col3\" class=\"data row4 col3\" >201.116.128.213:8770,10.240.1.225, 127.0.0.6</td>\n",
       "      <td id=\"T_4a69d_row4_col4\" class=\"data row4 col4\" >6cNqbbTqBnZEchPZ2YYn</td>\n",
       "      <td id=\"T_4a69d_row4_col5\" class=\"data row4 col5\" >nan</td>\n",
       "      <td id=\"T_4a69d_row4_col6\" class=\"data row4 col6\" >nan</td>\n",
       "      <td id=\"T_4a69d_row4_col7\" class=\"data row4 col7\" >{}</td>\n",
       "      <td id=\"T_4a69d_row4_col8\" class=\"data row4 col8\" >/v2/regularizacion/1GCWGGBA0DLLLL037</td>\n",
       "      <td id=\"T_4a69d_row4_col9\" class=\"data row4 col9\" >200</td>\n",
       "      <td id=\"T_4a69d_row4_col10\" class=\"data row4 col10\" >ok</td>\n",
       "      <td id=\"T_4a69d_row4_col11\" class=\"data row4 col11\" >2024-11-21 11:01:42</td>\n",
       "      <td id=\"T_4a69d_row4_col12\" class=\"data row4 col12\" >2024-11-21 11:01:42</td>\n",
       "      <td id=\"T_4a69d_row4_col13\" class=\"data row4 col13\" >nan</td>\n",
       "      <td id=\"T_4a69d_row4_col14\" class=\"data row4 col14\" >673f677612327586f2ae7413</td>\n",
       "      <td id=\"T_4a69d_row4_col15\" class=\"data row4 col15\" >673f677612327586f2ae7412</td>\n",
       "      <td id=\"T_4a69d_row4_col16\" class=\"data row4 col16\" >{\"mensajes\":[{\"codigo\":4,\"mensaje\":\"El dígito verificador en la 9° posición del VIN 1GCWGGBA0DLLLL037 NO es correcto.\"}],\"marca\":\"CHEVROLET\",\"modelo\":\"EXPRESS\",\"anioModelo\":\"2013\",\"robo\":false,\"roboFecha\":null,\"fabricante\":\"GENERAL MOTORS LLC\",\"paisOrigen\":\"Estados Unidos (USA)\",\"tiempoConsulta\":\"2024-11-21T11:01:42-06:00\",\"tiempoRespuesta\":\"2024-11-21T11:01:42-06:00\"}</td>\n",
       "      <td id=\"T_4a69d_row4_col17\" class=\"data row4 col17\" >{\"vin\":\"1GCWGGBA0DLLLL037\",\"timestamp\":\"2024-11-21T11:01:39.000\",\"error\":{\"message\":\"The VIN you entered was invalid\"},\"vinSuggestions\":[{\"vin\":\"1GCWGGFA0D1LLL037\",\"description\":\"2013 CHEVROLET/EXPRESS G2500/4.8L V8    F OHV  16V\"},{\"vin\":\"1GCWGFBA0D1LLL037\",\"description\":\"2013 CHEVROLET/EXPRESS G2500/4.8L V8    F OHV  16V\"},{\"vin\":\"1GC0CZC80DZLLL037\",\"description\":\"2013 CHEVROLET/SILVERADO C3500/6.6L V8    F OHV  32V\"},{\"vin\":\"1GCEC24D0DELLL037\",\"description\":\"1983 CHEVROLET/C20/4.1L I6  2BL\"},{\"vin\":\"1GC2C0F80DZLLL037\",\"description\":\"2013 CHEVROLET/SILVERADO C3500 LT/6.6L V8    F OHV  32V\"}]}</td>\n",
       "      <td id=\"T_4a69d_row4_col18\" class=\"data row4 col18\" >[{\"codigo\":4,\"mensaje\":\"El dígito verificador en la 9° posición del VIN 1GCWGGBA0DLLLL037 NO es correcto.\"}]</td>\n",
       "      <td id=\"T_4a69d_row4_col19\" class=\"data row4 col19\" >1</td>\n",
       "    </tr>\n",
       "  </tbody>\n",
       "</table>\n"
      ],
      "text/plain": [
       "<pandas.io.formats.style.Styler at 0x21d48750830>"
      ]
     },
     "execution_count": 4,
     "metadata": {},
     "output_type": "execute_result"
    }
   ],
   "source": [
    "df.head().style.apply(highlight_odd_rows)"
   ]
  },
  {
   "cell_type": "code",
   "execution_count": 5,
   "id": "9b9a70f5-5219-4588-a999-eaab9a611b54",
   "metadata": {},
   "outputs": [],
   "source": [
    "def getDfSize(df):\n",
    "    rows = len(df.axes[0])\n",
    "    columns = len(df.axes[1])\n",
    "\n",
    "    return {'rows': rows, 'columns': columns}"
   ]
  },
  {
   "cell_type": "code",
   "execution_count": 6,
   "id": "e7678dc0-6bd7-484d-bc0f-47274150e525",
   "metadata": {},
   "outputs": [
    {
     "data": {
      "text/plain": [
       "{'rows': 100000, 'columns': 20}"
      ]
     },
     "execution_count": 6,
     "metadata": {},
     "output_type": "execute_result"
    }
   ],
   "source": [
    "getDfSize(df)"
   ]
  },
  {
   "cell_type": "markdown",
   "id": "ff6ece2d-5e9d-4742-8a80-7d3bf14ebffa",
   "metadata": {},
   "source": [
    "<h3>La siguiente función extrae las distintas llaves de cada diccionario que contenga una columna como valor en el dataframe</h3>"
   ]
  },
  {
   "cell_type": "code",
   "execution_count": 7,
   "id": "f8a6148e-ceb5-460a-9321-ea6468e8015f",
   "metadata": {},
   "outputs": [],
   "source": [
    "def determineDistinctKeys(columnToList): #Recibe una lista, no una dataframe column\n",
    "    '''\n",
    "    Extracts the keys of a dictionary list and saves it in a dictionary with its count of appearences in the list\n",
    "    Args:\n",
    "       columnList (list) : List of dictionary to extract the keys\n",
    "    Returns:\n",
    "       distinctKeys (dictionary): A dictionary with the keys as a string and its appearences count in the list\n",
    "    '''\n",
    "    distinctKeysDict = {}\n",
    "    distinctKeysList = []\n",
    "    for dictionary in columnToList:\n",
    "        dictionary = json.loads(dictionary)\n",
    "        orderedKeys = sorted(list(dictionary.keys()))\n",
    "        if orderedKeys in distinctKeysList:\n",
    "            distinctKeysDict['/'.join(orderedKeys)] += 1\n",
    "        else:\n",
    "            distinctKeysList.append(orderedKeys)\n",
    "            distinctKeysDict['/'.join(orderedKeys)] = 0\n",
    "    return distinctKeysDict"
   ]
  },
  {
   "cell_type": "markdown",
   "id": "1fc3c95c-0fc3-4221-a750-5f124287f91f",
   "metadata": {},
   "source": [
    "<h3>La siguiente función extrae los distintos valores de una columna en el dataframe</h3>"
   ]
  },
  {
   "cell_type": "code",
   "execution_count": 8,
   "id": "746b4361-edd0-4f48-9bbb-756840063671",
   "metadata": {},
   "outputs": [],
   "source": [
    "def determineDistinctValues(df, col):\n",
    "    '''\n",
    "    Determines the unrepeated values in a columns\n",
    "    Args:\n",
    "       df (DataFrame) : Dataframe which contains the column to search\n",
    "       col (string) : Column's name to search\n",
    "    Returns:\n",
    "       df[col].unique() (array): An array (iterable object) with the unrepeated values of the column\n",
    "    '''\n",
    "    return df[col].unique()"
   ]
  },
  {
   "cell_type": "markdown",
   "id": "85678a89-8a41-49bd-8bbd-09070d997df4",
   "metadata": {},
   "source": [
    "<h3>Con esto sabemos que la columna \"Response Body\" tiene un cuerpo idéntico para todos los casos</h3>"
   ]
  },
  {
   "cell_type": "code",
   "execution_count": 9,
   "id": "643b64b0-8016-4586-b651-6ebd94b41777",
   "metadata": {},
   "outputs": [],
   "source": [
    "responseBody = df['responseBody'].values.tolist()"
   ]
  },
  {
   "cell_type": "code",
   "execution_count": 10,
   "id": "5c12d8c9-50f5-423b-b73b-317d46c48e77",
   "metadata": {},
   "outputs": [
    {
     "data": {
      "text/plain": [
       "{'anioModelo/fabricante/marca/mensajes/modelo/paisOrigen/robo/roboFecha/tiempoConsulta/tiempoRespuesta': 99970,\n",
       " 'anioModelo/marca/mensajes/modelo/robo/roboFecha/tiempoConsulta/tiempoRespuesta': 28}"
      ]
     },
     "execution_count": 10,
     "metadata": {},
     "output_type": "execute_result"
    }
   ],
   "source": [
    "determineDistinctKeys(responseBody)"
   ]
  },
  {
   "cell_type": "markdown",
   "id": "55ee1ebf-f8db-4bbf-b917-33551e66b734",
   "metadata": {},
   "source": [
    "<h3>Con esto sabemos la proporción entre consultas con algún tipo de error, o consultas normales en Carfax  USA</h3>"
   ]
  },
  {
   "cell_type": "code",
   "execution_count": 11,
   "id": "513cfc96-29a4-42b3-bfb2-687f49e787c9",
   "metadata": {},
   "outputs": [],
   "source": [
    "carfaxUsaData = df['carfaxUsaData'].values.tolist()"
   ]
  },
  {
   "cell_type": "code",
   "execution_count": 12,
   "id": "da5f5ecf-f83d-4588-adb2-e9db5ca47978",
   "metadata": {},
   "outputs": [
    {
     "data": {
      "text/plain": [
       "{'components/customCalculationOdometer/timestamp/vin': 87640,\n",
       " 'error/respuestaCompleta': 11223,\n",
       " 'error/timestamp/vin/vinSuggestions': 140,\n",
       " 'VHR/components/customCalculationOdometer/timestamp/vin': 993}"
      ]
     },
     "execution_count": 12,
     "metadata": {},
     "output_type": "execute_result"
    }
   ],
   "source": [
    "determineDistinctKeys(carfaxUsaData)"
   ]
  },
  {
   "cell_type": "markdown",
   "id": "571f3ba0-3c9a-4629-8f90-8ce7029357ae",
   "metadata": {},
   "source": [
    "<h3>Finalmente sabemos qué se pide en los \"Request Parameters\"</h3>"
   ]
  },
  {
   "cell_type": "code",
   "execution_count": 13,
   "id": "ad8b5c60-ebdd-436b-91ac-f17b3c8fe793",
   "metadata": {},
   "outputs": [],
   "source": [
    "requestParameters = df['requestParameters'].values.tolist()"
   ]
  },
  {
   "cell_type": "code",
   "execution_count": 14,
   "id": "7fc11e32-1ed2-4b5a-9070-6db9b96d9975",
   "metadata": {},
   "outputs": [
    {
     "data": {
      "text/plain": [
       "{'': 99999}"
      ]
     },
     "execution_count": 14,
     "metadata": {},
     "output_type": "execute_result"
    }
   ],
   "source": [
    "determineDistinctKeys(requestParameters)"
   ]
  },
  {
   "cell_type": "markdown",
   "id": "0b8907ea-345a-467e-9def-0815fac86185",
   "metadata": {},
   "source": [
    "<h3>Ahora nos aseguramos de todos los valores distintos que haya en las columnas</h3>"
   ]
  },
  {
   "cell_type": "code",
   "execution_count": 15,
   "id": "6fa708b8-23cd-4f99-923e-864d9af610fb",
   "metadata": {},
   "outputs": [
    {
     "data": {
      "text/plain": [
       "array(['6cNqbbTqBnZEchPZ2YYn'], dtype=object)"
      ]
     },
     "execution_count": 15,
     "metadata": {},
     "output_type": "execute_result"
    }
   ],
   "source": [
    "determineDistinctValues(df, 'apiKey') #Solo existe un valor posible para este campo"
   ]
  },
  {
   "cell_type": "code",
   "execution_count": 16,
   "id": "5c122fe4-4ef3-48c2-8d07-394121b13c30",
   "metadata": {},
   "outputs": [
    {
     "data": {
      "text/plain": [
       "69351"
      ]
     },
     "execution_count": 16,
     "metadata": {},
     "output_type": "execute_result"
    }
   ],
   "source": [
    "len(list(determineDistinctValues(df, 'ip')))"
   ]
  },
  {
   "cell_type": "code",
   "execution_count": 17,
   "id": "3038ebb4-269e-463f-a0ef-6fbc325356d4",
   "metadata": {},
   "outputs": [],
   "source": [
    "#vinsByIp = list(df.groupby('ip')['VIN'].apply(list))\n",
    "#ips = list(set(df['ip']))\n",
    "#if len(ips) == len(vinsByIp):\n",
    " #   ipsVinsFrame = []\n",
    " #   for ipsIndex in range(len(ips)):\n",
    "  #      ipsVinsFrame.append([ips[ipsIndex], len(set(vinsByIp[ipsIndex]))])\n",
    "   # ipsVinsFrame = pd.DataFrame(ipsVinsFrame,columns = ['ip', 'count'])\n",
    "ips_vins_frame = (\n",
    "    df.groupby('ip')['VIN']\n",
    "    .nunique()  # Count unique 'VIN's in each group\n",
    "    .reset_index()  # Convert the series back to a DataFrame\n",
    "    .rename(columns={'VIN': 'count'})  # Rename the column for clarity\n",
    ")"
   ]
  },
  {
   "cell_type": "code",
   "execution_count": 18,
   "id": "0c5158e5-dddd-4ccc-8ce2-04fda260d1d2",
   "metadata": {},
   "outputs": [
    {
     "data": {
      "text/html": [
       "<div>\n",
       "<style scoped>\n",
       "    .dataframe tbody tr th:only-of-type {\n",
       "        vertical-align: middle;\n",
       "    }\n",
       "\n",
       "    .dataframe tbody tr th {\n",
       "        vertical-align: top;\n",
       "    }\n",
       "\n",
       "    .dataframe thead th {\n",
       "        text-align: right;\n",
       "    }\n",
       "</style>\n",
       "<table border=\"1\" class=\"dataframe\">\n",
       "  <thead>\n",
       "    <tr style=\"text-align: right;\">\n",
       "      <th></th>\n",
       "      <th>count</th>\n",
       "    </tr>\n",
       "  </thead>\n",
       "  <tbody>\n",
       "    <tr>\n",
       "      <th>count</th>\n",
       "      <td>573.000000</td>\n",
       "    </tr>\n",
       "    <tr>\n",
       "      <th>mean</th>\n",
       "      <td>4.378709</td>\n",
       "    </tr>\n",
       "    <tr>\n",
       "      <th>std</th>\n",
       "      <td>0.755886</td>\n",
       "    </tr>\n",
       "    <tr>\n",
       "      <th>min</th>\n",
       "      <td>4.000000</td>\n",
       "    </tr>\n",
       "    <tr>\n",
       "      <th>25%</th>\n",
       "      <td>4.000000</td>\n",
       "    </tr>\n",
       "    <tr>\n",
       "      <th>50%</th>\n",
       "      <td>4.000000</td>\n",
       "    </tr>\n",
       "    <tr>\n",
       "      <th>75%</th>\n",
       "      <td>5.000000</td>\n",
       "    </tr>\n",
       "    <tr>\n",
       "      <th>max</th>\n",
       "      <td>10.000000</td>\n",
       "    </tr>\n",
       "  </tbody>\n",
       "</table>\n",
       "</div>"
      ],
      "text/plain": [
       "            count\n",
       "count  573.000000\n",
       "mean     4.378709\n",
       "std      0.755886\n",
       "min      4.000000\n",
       "25%      4.000000\n",
       "50%      4.000000\n",
       "75%      5.000000\n",
       "max     10.000000"
      ]
     },
     "execution_count": 18,
     "metadata": {},
     "output_type": "execute_result"
    }
   ],
   "source": [
    "ips_vins_frame[ips_vins_frame['count']>3].describe()"
   ]
  },
  {
   "cell_type": "code",
   "execution_count": 19,
   "id": "914f350d-5df2-45f9-acec-36b21ce40e53",
   "metadata": {},
   "outputs": [
    {
     "data": {
      "text/plain": [
       "array([nan])"
      ]
     },
     "execution_count": 19,
     "metadata": {},
     "output_type": "execute_result"
    }
   ],
   "source": [
    "determineDistinctValues(df, 'userId') #Solo existe un valor posible para este campo"
   ]
  },
  {
   "cell_type": "code",
   "execution_count": 20,
   "id": "a9297323-b14c-4f5f-b652-af411e867b63",
   "metadata": {},
   "outputs": [],
   "source": [
    "list(determineDistinctValues(df, 'idReporte')); #Existen varios valores (¿de qué depende esta diferencia?)"
   ]
  },
  {
   "cell_type": "code",
   "execution_count": 21,
   "id": "6db209a4-46d3-40df-b77b-48ff9393a0d3",
   "metadata": {},
   "outputs": [
    {
     "data": {
      "text/plain": [
       "array([200])"
      ]
     },
     "execution_count": 21,
     "metadata": {},
     "output_type": "execute_result"
    }
   ],
   "source": [
    "determineDistinctValues(df, 'responseCode') #Solo existe un valor posible para este campo"
   ]
  },
  {
   "cell_type": "code",
   "execution_count": 22,
   "id": "5ad66e69-92d7-40aa-843d-9def36da0e85",
   "metadata": {},
   "outputs": [
    {
     "data": {
      "text/plain": [
       "array(['ok'], dtype=object)"
      ]
     },
     "execution_count": 22,
     "metadata": {},
     "output_type": "execute_result"
    }
   ],
   "source": [
    "determineDistinctValues(df, 'responseCodeStatus') #Solo existe un valor posible para este campo"
   ]
  },
  {
   "cell_type": "code",
   "execution_count": 23,
   "id": "9cbd1a36-f710-4297-933c-53df68b4cbe3",
   "metadata": {},
   "outputs": [
    {
     "data": {
      "text/plain": [
       "array([nan])"
      ]
     },
     "execution_count": 23,
     "metadata": {},
     "output_type": "execute_result"
    }
   ],
   "source": [
    "determineDistinctValues(df, 'labels') #Solo existe un valor posible para este campo"
   ]
  },
  {
   "cell_type": "code",
   "execution_count": 24,
   "id": "da71bd00-6e55-4a0d-81fc-288b29ef4ec2",
   "metadata": {},
   "outputs": [
    {
     "data": {
      "text/plain": [
       "array([1, 0])"
      ]
     },
     "execution_count": 24,
     "metadata": {},
     "output_type": "execute_result"
    }
   ],
   "source": [
    "determineDistinctValues(df, 'firewallUsa') #Solo existe un valor posible para este campo"
   ]
  },
  {
   "cell_type": "markdown",
   "id": "7d5d348b-6756-4cea-b6c8-ea4ea569223d",
   "metadata": {},
   "source": [
    "<h3>A continuación busco los distintos tipos de código de alerta que se encuentran en el dataframe creando una función especial para ello </h3>"
   ]
  },
  {
   "cell_type": "code",
   "execution_count": 25,
   "id": "85e23c0a-de70-4f0d-b4fa-b73c11646a89",
   "metadata": {},
   "outputs": [],
   "source": [
    "def countAlertCodes(df, alertsColumn: str):\n",
    "    '''\n",
    "    Counts the alert codes in a column of a dataframe\n",
    "    Args:\n",
    "       df (DataFrame) : Dataframe which contains the column to search\n",
    "       alertsColumn (string) : Column's name to search\n",
    "    Returns:\n",
    "       codeCount (dictionary): A dictionary with the distinct alert codes as keys and the appearence count in the column\n",
    "    '''\n",
    "    alertsWithCode = filter(lambda x: x != [],df['alertas'].values.tolist())\n",
    "    codeCount = {'Code 1': 0 , 'Code 2': 0, 'Code 3': 0, 'Code 4': 0, 'Code 5': 0, 'Code 6': 0, 'Code 7': 0}\n",
    "\n",
    "    for alert in alertsWithCode:\n",
    "        alertList = json.loads(alert)\n",
    "        if alertList != []:\n",
    "            for subalert in alertList:\n",
    "                n = subalert['codigo']\n",
    "                codeCount[''.join(['Code ', str(n)])] += 1\n",
    "\n",
    "    return codeCount \n"
   ]
  },
  {
   "cell_type": "code",
   "execution_count": 26,
   "id": "5d094e61-cf19-44df-8b82-c39f6b53e6e3",
   "metadata": {},
   "outputs": [
    {
     "data": {
      "text/plain": [
       "{'Code 1': 876,\n",
       " 'Code 2': 393,\n",
       " 'Code 3': 645,\n",
       " 'Code 4': 8315,\n",
       " 'Code 5': 1133,\n",
       " 'Code 6': 1010,\n",
       " 'Code 7': 2058}"
      ]
     },
     "execution_count": 26,
     "metadata": {},
     "output_type": "execute_result"
    }
   ],
   "source": [
    "countAlertCodes(df, 'alertas')"
   ]
  },
  {
   "cell_type": "markdown",
   "id": "79515abe-a285-4cb1-9b13-ed631079af4e",
   "metadata": {},
   "source": [
    "<h3>Ahora calculo el tiempo en que se tarda cada petición en generar una respuesta</h3>"
   ]
  },
  {
   "cell_type": "code",
   "execution_count": 27,
   "id": "343c23f0-b1d2-46e2-bbb7-491fa2c6eda4",
   "metadata": {},
   "outputs": [],
   "source": [
    "def calculateDeltaTime(df, columnA, columnB):\n",
    "    '''\n",
    "    Converts columnA and columnB in datetime type and makes the difference between both columns\n",
    "    Args:\n",
    "       df (DataFrame) : Dataframe which contains the columns to substraction\n",
    "       columnA (string) : Minuend column\n",
    "       columnB (string): Substrahend column\n",
    "    Returns:\n",
    "       responsePeriod (DataFrame): Returns a column of the seconds difference as a dataframe\n",
    "    '''\n",
    "    responseTimeType = pd.to_datetime(df[columnA])\n",
    "    requestTimeType = pd.to_datetime(df[columnB])\n",
    "    responsePeriod = (responseTimeType - requestTimeType).to_frame()\n",
    "    responsePeriod['secondsDifference'] = pd.to_timedelta(responsePeriod[0]).dt.total_seconds()\n",
    "    responsePeriod.drop([0], axis='columns', inplace=True)\n",
    "\n",
    "    return responsePeriod"
   ]
  },
  {
   "cell_type": "markdown",
   "id": "1ab9f3b5-17b1-44b4-8804-17add51cdb48",
   "metadata": {},
   "source": [
    "<h4>Con mayor frecuencia parece tardarse un segundo la respuesta. La gráfica parece ajustarse a una distribución de Poisson o a una distribución normal. Checar cuál es la más conveniente para calcular probabilidades</h4>"
   ]
  },
  {
   "cell_type": "code",
   "execution_count": 28,
   "id": "872b20c9-935e-46bb-8d66-2b1d4fe44c84",
   "metadata": {},
   "outputs": [
    {
     "data": {
      "image/png": "[encoded data removed]",
      "text/plain": [
       "<Figure size 640x480 with 1 Axes>"
      ]
     },
     "metadata": {},
     "output_type": "display_data"
    }
   ],
   "source": [
    "timeFrame = calculateDeltaTime(df, 'responseTime', 'requestTime')\n",
    "plt.hist(timeFrame[timeFrame['secondsDifference']<6]['secondsDifference'], bins = 100, edgecolor = 'black')\n",
    "plt.xlabel('Time in Seconds')\n",
    "plt.ylabel('Frequency')\n",
    "plt.title('Histogram of Time in Seconds')\n",
    "plt.show()"
   ]
  },
  {
   "cell_type": "code",
   "execution_count": 29,
   "id": "33d3857f-3c40-4ee1-9ac1-fb3c96151b93",
   "metadata": {},
   "outputs": [
    {
     "data": {
      "image/png": "[encoded data removed]",
      "text/plain": [
       "<Figure size 640x480 with 1 Axes>"
      ]
     },
     "metadata": {},
     "output_type": "display_data"
    }
   ],
   "source": [
    "plt.hist(timeFrame[timeFrame['secondsDifference']>6]['secondsDifference'], bins = 100, edgecolor = 'black')\n",
    "plt.xlabel('Time in Seconds')\n",
    "plt.ylabel('Frequency')\n",
    "plt.title('Histogram of Time in Seconds')\n",
    "plt.show()"
   ]
  },
  {
   "cell_type": "code",
   "execution_count": 30,
   "id": "8edf7d54-7571-4c2d-8cf9-c79a3e72bddf",
   "metadata": {},
   "outputs": [
    {
     "data": {
      "text/html": [
       "<style type=\"text/css\">\n",
       "#T_9fda9_row0_col0, #T_9fda9_row2_col0, #T_9fda9_row4_col0, #T_9fda9_row6_col0 {\n",
       "  border: 1px solid white;\n",
       "}\n",
       "#T_9fda9_row1_col0, #T_9fda9_row3_col0, #T_9fda9_row5_col0, #T_9fda9_row7_col0 {\n",
       "  background-color: indigo;\n",
       "  border: 1px solid white;\n",
       "}\n",
       "</style>\n",
       "<table id=\"T_9fda9\">\n",
       "  <thead>\n",
       "    <tr>\n",
       "      <th class=\"blank level0\" >&nbsp;</th>\n",
       "      <th id=\"T_9fda9_level0_col0\" class=\"col_heading level0 col0\" >secondsDifference</th>\n",
       "    </tr>\n",
       "  </thead>\n",
       "  <tbody>\n",
       "    <tr>\n",
       "      <th id=\"T_9fda9_level0_row0\" class=\"row_heading level0 row0\" >count</th>\n",
       "      <td id=\"T_9fda9_row0_col0\" class=\"data row0 col0\" >100000.000000</td>\n",
       "    </tr>\n",
       "    <tr>\n",
       "      <th id=\"T_9fda9_level0_row1\" class=\"row_heading level0 row1\" >mean</th>\n",
       "      <td id=\"T_9fda9_row1_col0\" class=\"data row1 col0\" >1.026080</td>\n",
       "    </tr>\n",
       "    <tr>\n",
       "      <th id=\"T_9fda9_level0_row2\" class=\"row_heading level0 row2\" >std</th>\n",
       "      <td id=\"T_9fda9_row2_col0\" class=\"data row2 col0\" >1.210436</td>\n",
       "    </tr>\n",
       "    <tr>\n",
       "      <th id=\"T_9fda9_level0_row3\" class=\"row_heading level0 row3\" >min</th>\n",
       "      <td id=\"T_9fda9_row3_col0\" class=\"data row3 col0\" >0.000000</td>\n",
       "    </tr>\n",
       "    <tr>\n",
       "      <th id=\"T_9fda9_level0_row4\" class=\"row_heading level0 row4\" >25%</th>\n",
       "      <td id=\"T_9fda9_row4_col0\" class=\"data row4 col0\" >1.000000</td>\n",
       "    </tr>\n",
       "    <tr>\n",
       "      <th id=\"T_9fda9_level0_row5\" class=\"row_heading level0 row5\" >50%</th>\n",
       "      <td id=\"T_9fda9_row5_col0\" class=\"data row5 col0\" >1.000000</td>\n",
       "    </tr>\n",
       "    <tr>\n",
       "      <th id=\"T_9fda9_level0_row6\" class=\"row_heading level0 row6\" >75%</th>\n",
       "      <td id=\"T_9fda9_row6_col0\" class=\"data row6 col0\" >1.000000</td>\n",
       "    </tr>\n",
       "    <tr>\n",
       "      <th id=\"T_9fda9_level0_row7\" class=\"row_heading level0 row7\" >max</th>\n",
       "      <td id=\"T_9fda9_row7_col0\" class=\"data row7 col0\" >110.000000</td>\n",
       "    </tr>\n",
       "  </tbody>\n",
       "</table>\n"
      ],
      "text/plain": [
       "<pandas.io.formats.style.Styler at 0x21d49525be0>"
      ]
     },
     "execution_count": 30,
     "metadata": {},
     "output_type": "execute_result"
    }
   ],
   "source": [
    "timeFrame.describe().style.apply(highlight_odd_rows)"
   ]
  },
  {
   "cell_type": "code",
   "execution_count": 31,
   "id": "86d11976-f172-43ff-9beb-a6640ae46aa0",
   "metadata": {},
   "outputs": [
    {
     "data": {
      "text/html": [
       "<style type=\"text/css\">\n",
       "#T_dcd3b_row0_col0, #T_dcd3b_row2_col0, #T_dcd3b_row4_col0, #T_dcd3b_row6_col0 {\n",
       "  border: 1px solid white;\n",
       "}\n",
       "#T_dcd3b_row1_col0, #T_dcd3b_row3_col0, #T_dcd3b_row5_col0, #T_dcd3b_row7_col0 {\n",
       "  background-color: indigo;\n",
       "  border: 1px solid white;\n",
       "}\n",
       "</style>\n",
       "<table id=\"T_dcd3b\">\n",
       "  <thead>\n",
       "    <tr>\n",
       "      <th class=\"blank level0\" >&nbsp;</th>\n",
       "      <th id=\"T_dcd3b_level0_col0\" class=\"col_heading level0 col0\" >secondsDifference</th>\n",
       "    </tr>\n",
       "  </thead>\n",
       "  <tbody>\n",
       "    <tr>\n",
       "      <th id=\"T_dcd3b_level0_row0\" class=\"row_heading level0 row0\" >count</th>\n",
       "      <td id=\"T_dcd3b_row0_col0\" class=\"data row0 col0\" >99725.000000</td>\n",
       "    </tr>\n",
       "    <tr>\n",
       "      <th id=\"T_dcd3b_level0_row1\" class=\"row_heading level0 row1\" >mean</th>\n",
       "      <td id=\"T_dcd3b_row1_col0\" class=\"data row1 col0\" >0.992339</td>\n",
       "    </tr>\n",
       "    <tr>\n",
       "      <th id=\"T_dcd3b_level0_row2\" class=\"row_heading level0 row2\" >std</th>\n",
       "      <td id=\"T_dcd3b_row2_col0\" class=\"data row2 col0\" >0.773818</td>\n",
       "    </tr>\n",
       "    <tr>\n",
       "      <th id=\"T_dcd3b_level0_row3\" class=\"row_heading level0 row3\" >min</th>\n",
       "      <td id=\"T_dcd3b_row3_col0\" class=\"data row3 col0\" >0.000000</td>\n",
       "    </tr>\n",
       "    <tr>\n",
       "      <th id=\"T_dcd3b_level0_row4\" class=\"row_heading level0 row4\" >25%</th>\n",
       "      <td id=\"T_dcd3b_row4_col0\" class=\"data row4 col0\" >1.000000</td>\n",
       "    </tr>\n",
       "    <tr>\n",
       "      <th id=\"T_dcd3b_level0_row5\" class=\"row_heading level0 row5\" >50%</th>\n",
       "      <td id=\"T_dcd3b_row5_col0\" class=\"data row5 col0\" >1.000000</td>\n",
       "    </tr>\n",
       "    <tr>\n",
       "      <th id=\"T_dcd3b_level0_row6\" class=\"row_heading level0 row6\" >75%</th>\n",
       "      <td id=\"T_dcd3b_row6_col0\" class=\"data row6 col0\" >1.000000</td>\n",
       "    </tr>\n",
       "    <tr>\n",
       "      <th id=\"T_dcd3b_level0_row7\" class=\"row_heading level0 row7\" >max</th>\n",
       "      <td id=\"T_dcd3b_row7_col0\" class=\"data row7 col0\" >6.000000</td>\n",
       "    </tr>\n",
       "  </tbody>\n",
       "</table>\n"
      ],
      "text/plain": [
       "<pandas.io.formats.style.Styler at 0x21d4966c740>"
      ]
     },
     "execution_count": 31,
     "metadata": {},
     "output_type": "execute_result"
    }
   ],
   "source": [
    "timeFrame[timeFrame['secondsDifference'] <= 6].describe().style.apply(highlight_odd_rows)"
   ]
  },
  {
   "cell_type": "code",
   "execution_count": 32,
   "id": "1b0036a4-f75f-4afc-8902-d994437dcf74",
   "metadata": {},
   "outputs": [
    {
     "data": {
      "text/html": [
       "<style type=\"text/css\">\n",
       "#T_edc01_row0_col0, #T_edc01_row2_col0, #T_edc01_row4_col0, #T_edc01_row6_col0 {\n",
       "  border: 1px solid white;\n",
       "}\n",
       "#T_edc01_row1_col0, #T_edc01_row3_col0, #T_edc01_row5_col0, #T_edc01_row7_col0 {\n",
       "  background-color: indigo;\n",
       "  border: 1px solid white;\n",
       "}\n",
       "</style>\n",
       "<table id=\"T_edc01\">\n",
       "  <thead>\n",
       "    <tr>\n",
       "      <th class=\"blank level0\" >&nbsp;</th>\n",
       "      <th id=\"T_edc01_level0_col0\" class=\"col_heading level0 col0\" >secondsDifference</th>\n",
       "    </tr>\n",
       "  </thead>\n",
       "  <tbody>\n",
       "    <tr>\n",
       "      <th id=\"T_edc01_level0_row0\" class=\"row_heading level0 row0\" >count</th>\n",
       "      <td id=\"T_edc01_row0_col0\" class=\"data row0 col0\" >275.000000</td>\n",
       "    </tr>\n",
       "    <tr>\n",
       "      <th id=\"T_edc01_level0_row1\" class=\"row_heading level0 row1\" >mean</th>\n",
       "      <td id=\"T_edc01_row1_col0\" class=\"data row1 col0\" >13.261818</td>\n",
       "    </tr>\n",
       "    <tr>\n",
       "      <th id=\"T_edc01_level0_row2\" class=\"row_heading level0 row2\" >std</th>\n",
       "      <td id=\"T_edc01_row2_col0\" class=\"data row2 col0\" >12.888510</td>\n",
       "    </tr>\n",
       "    <tr>\n",
       "      <th id=\"T_edc01_level0_row3\" class=\"row_heading level0 row3\" >min</th>\n",
       "      <td id=\"T_edc01_row3_col0\" class=\"data row3 col0\" >7.000000</td>\n",
       "    </tr>\n",
       "    <tr>\n",
       "      <th id=\"T_edc01_level0_row4\" class=\"row_heading level0 row4\" >25%</th>\n",
       "      <td id=\"T_edc01_row4_col0\" class=\"data row4 col0\" >7.500000</td>\n",
       "    </tr>\n",
       "    <tr>\n",
       "      <th id=\"T_edc01_level0_row5\" class=\"row_heading level0 row5\" >50%</th>\n",
       "      <td id=\"T_edc01_row5_col0\" class=\"data row5 col0\" >10.000000</td>\n",
       "    </tr>\n",
       "    <tr>\n",
       "      <th id=\"T_edc01_level0_row6\" class=\"row_heading level0 row6\" >75%</th>\n",
       "      <td id=\"T_edc01_row6_col0\" class=\"data row6 col0\" >14.000000</td>\n",
       "    </tr>\n",
       "    <tr>\n",
       "      <th id=\"T_edc01_level0_row7\" class=\"row_heading level0 row7\" >max</th>\n",
       "      <td id=\"T_edc01_row7_col0\" class=\"data row7 col0\" >110.000000</td>\n",
       "    </tr>\n",
       "  </tbody>\n",
       "</table>\n"
      ],
      "text/plain": [
       "<pandas.io.formats.style.Styler at 0x21d496e58e0>"
      ]
     },
     "execution_count": 32,
     "metadata": {},
     "output_type": "execute_result"
    }
   ],
   "source": [
    "timeFrame[timeFrame['secondsDifference'] > 6].describe().style.apply(highlight_odd_rows)"
   ]
  },
  {
   "cell_type": "code",
   "execution_count": 33,
   "id": "ef4cdc29-868b-4307-b616-c312edbd9822",
   "metadata": {},
   "outputs": [
    {
     "data": {
      "text/plain": [
       "[110.0]"
      ]
     },
     "execution_count": 33,
     "metadata": {},
     "output_type": "execute_result"
    }
   ],
   "source": [
    "timeFrame.max().values.tolist()"
   ]
  },
  {
   "cell_type": "markdown",
   "id": "f11927a2-63ae-4b1a-a849-a77fe5158846",
   "metadata": {},
   "source": [
    "<h3>A continuación se comprueba que cada diccionario del valor de la columna carfaxUsaData con una llave \"error\" le corresponda un valor distinto a lista vacía</h3>"
   ]
  },
  {
   "cell_type": "code",
   "execution_count": 34,
   "id": "efb31b6d-3b6a-40a9-b9fa-370359628c0f",
   "metadata": {},
   "outputs": [],
   "source": [
    "def proveErrorAlert(df):\n",
    "    '''\n",
    "    Assures every error in CarfaxUsaData is associated with an alert\n",
    "    Args:\n",
    "       df (DataFrame) : Dataframe which contains the columns to substraction\n",
    "    Returns:\n",
    "       ... (string): Returns a status message\n",
    "    '''\n",
    "    carfaxUsaData = df['carfaxUsaData'].values.tolist()\n",
    "    conError = 0\n",
    "    for index1 in range(len(carfaxUsaData)):\n",
    "        carfaxDict = json.loads(carfaxUsaData[index1])\n",
    "        if 'error' in list(carfaxDict.keys()):\n",
    "            conError += 1\n",
    "            if df.iloc[index1]['alertas'] == []:\n",
    "                return 'Existe un valor con error y sin alerta'\n",
    "    return 'Funciona correctamente'"
   ]
  },
  {
   "cell_type": "code",
   "execution_count": 35,
   "id": "52fdb500-4f3b-49b7-895d-8e0b3adf593f",
   "metadata": {},
   "outputs": [
    {
     "data": {
      "text/plain": [
       "'Funciona correctamente'"
      ]
     },
     "execution_count": 35,
     "metadata": {},
     "output_type": "execute_result"
    }
   ],
   "source": [
    "proveErrorAlert(df)"
   ]
  },
  {
   "cell_type": "markdown",
   "id": "fcc1ca4d-eb68-48ed-88f4-bba2f3e289b2",
   "metadata": {},
   "source": [
    "<h3>Ahora se estudiará la relación con los Vin's repetidos y las alertas</h3>"
   ]
  },
  {
   "cell_type": "code",
   "execution_count": 36,
   "id": "e7b1024a-ae86-434e-9906-38cd379fbef3",
   "metadata": {},
   "outputs": [],
   "source": [
    "def getRepeatedValuesInAColumn(df, columnName):\n",
    "    '''\n",
    "    Identifies the repeated values of a column in a dataframe\n",
    "    Args:\n",
    "       df (DataFrame) : Dataframe which contains the columns to search\n",
    "       columnName (string) : Column's name to search\n",
    "    Returns:\n",
    "       duplicates['VIN'] (pandas Series): Returns a column as a pandas series of the duplicated values of the columnName\n",
    "    '''\n",
    "    duplicates = df[df.duplicated(subset=[columnName], keep=False)]\n",
    "    return duplicates['VIN']"
   ]
  },
  {
   "cell_type": "code",
   "execution_count": 37,
   "id": "95ba69e3-f9e0-42c4-9808-691969bc379b",
   "metadata": {},
   "outputs": [],
   "source": [
    "def searchValuesInADataframe(df, values:list, columnA: str, columnB: str)-> dict:\n",
    "    '''\n",
    "    Optimized version to search values in a dataframe columnA and retrieve the corresponding values of columnB.\n",
    "    Args:\n",
    "       values (list): The list of values to be searched.\n",
    "       columnA (str): The name of the column to search.\n",
    "       columnB (str): The name of the column to retrieve values from.\n",
    "       df (DataFrame): The dataframe to search in.\n",
    "    Returns:\n",
    "      grouped: A dictionary with keys as the values from columnA and values as the list of corresponding entries from columnB.\n",
    "    '''\n",
    "\n",
    "    filtered_df = df[df[columnA].isin(values)]\n",
    "    \n",
    "    grouped = filtered_df.groupby(columnA)[columnB].apply(list).to_dict()\n",
    "    \n",
    "    return grouped"
   ]
  },
  {
   "cell_type": "code",
   "execution_count": 38,
   "id": "4728b9dc-52e8-4b87-a5bc-5c88aab04554",
   "metadata": {},
   "outputs": [],
   "source": [
    "proofRepeated = getRepeatedValuesInAColumn(df, 'VIN').unique().tolist()"
   ]
  },
  {
   "cell_type": "code",
   "execution_count": 39,
   "id": "aa77e7eb-7b59-41ca-a259-4b6542b5b771",
   "metadata": {},
   "outputs": [],
   "source": [
    "repeatedValues = searchValuesInADataframe(df, proofRepeated, 'VIN', 'alertas')"
   ]
  },
  {
   "cell_type": "code",
   "execution_count": 40,
   "id": "842595c9-611f-47cb-a462-fab6a5828c1e",
   "metadata": {},
   "outputs": [
    {
     "data": {
      "text/plain": [
       "['[{\"codigo\":4,\"mensaje\":\"El dígito verificador en la 9° posición del VIN 3N1AB7AD3JL673266 NO es correcto.\"}]',\n",
       " '[{\"codigo\":4,\"mensaje\":\"El dígito verificador en la 9° posición del VIN 3N1AB7AD3JL673266 NO es correcto.\"}]',\n",
       " '[{\"codigo\":4,\"mensaje\":\"El dígito verificador en la 9° posición del VIN 3N1AB7AD3JL673266 NO es correcto.\"}]',\n",
       " '[{\"codigo\":4,\"mensaje\":\"El dígito verificador en la 9° posición del VIN 3N1AB7AD3JL673266 NO es correcto.\"}]',\n",
       " '[{\"codigo\":4,\"mensaje\":\"El dígito verificador en la 9° posición del VIN 3N1AB7AD3JL673266 NO es correcto.\"}]',\n",
       " '[{\"codigo\":4,\"mensaje\":\"El dígito verificador en la 9° posición del VIN 3N1AB7AD3JL673266 NO es correcto.\"}]',\n",
       " '[{\"codigo\":4,\"mensaje\":\"El dígito verificador en la 9° posición del VIN 3N1AB7AD3JL673266 NO es correcto.\"}]',\n",
       " '[{\"codigo\":4,\"mensaje\":\"El dígito verificador en la 9° posición del VIN 3N1AB7AD3JL673266 NO es correcto.\"}]',\n",
       " '[{\"codigo\":4,\"mensaje\":\"El dígito verificador en la 9° posición del VIN 3N1AB7AD3JL673266 NO es correcto.\"}]',\n",
       " '[]',\n",
       " '[{\"codigo\":4,\"mensaje\":\"El dígito verificador en la 9° posición del VIN 3N1AB7AD3JL673266 NO es correcto.\"}]',\n",
       " '[{\"codigo\":4,\"mensaje\":\"El dígito verificador en la 9° posición del VIN 3N1AB7AD3JL673266 NO es correcto.\"}]',\n",
       " '[{\"codigo\":4,\"mensaje\":\"El dígito verificador en la 9° posición del VIN 3N1AB7AD3JL673266 NO es correcto.\"}]',\n",
       " '[]',\n",
       " '[]',\n",
       " '[{\"codigo\":4,\"mensaje\":\"El dígito verificador en la 9° posición del VIN 3N1AB7AD3JL673266 NO es correcto.\"}]',\n",
       " '[{\"codigo\":4,\"mensaje\":\"El dígito verificador en la 9° posición del VIN 3N1AB7AD3JL673266 NO es correcto.\"}]',\n",
       " '[]',\n",
       " '[{\"codigo\":4,\"mensaje\":\"El dígito verificador en la 9° posición del VIN 3N1AB7AD3JL673266 NO es correcto.\"}]',\n",
       " '[{\"codigo\":4,\"mensaje\":\"El dígito verificador en la 9° posición del VIN 3N1AB7AD3JL673266 NO es correcto.\"}]',\n",
       " '[{\"codigo\":4,\"mensaje\":\"El dígito verificador en la 9° posición del VIN 3N1AB7AD3JL673266 NO es correcto.\"}]',\n",
       " '[{\"codigo\":4,\"mensaje\":\"El dígito verificador en la 9° posición del VIN 3N1AB7AD3JL673266 NO es correcto.\"}]',\n",
       " '[{\"codigo\":4,\"mensaje\":\"El dígito verificador en la 9° posición del VIN 3N1AB7AD3JL673266 NO es correcto.\"}]',\n",
       " '[{\"codigo\":4,\"mensaje\":\"El dígito verificador en la 9° posición del VIN 3N1AB7AD3JL673266 NO es correcto.\"}]',\n",
       " '[{\"codigo\":4,\"mensaje\":\"El dígito verificador en la 9° posición del VIN 3N1AB7AD3JL673266 NO es correcto.\"}]']"
      ]
     },
     "execution_count": 40,
     "metadata": {},
     "output_type": "execute_result"
    }
   ],
   "source": [
    "repeatedValues['3N1AB7AD3JL673266']"
   ]
  },
  {
   "cell_type": "markdown",
   "id": "f2d82663-6c04-4ea7-a418-d1c88c2a0c6e",
   "metadata": {},
   "source": [
    "<h4>Identificamos si existe algún VIN repetido que contenga y a la vez no, mensajes de alerta. Además se identifica la cantidad de veces que se repiten los VIN's que lanzan alerta contra los que no lanzan ninguna alerta</h4>"
   ]
  },
  {
   "cell_type": "code",
   "execution_count": 41,
   "id": "82f376d9-5bbc-4eb8-ad04-750bf7733e61",
   "metadata": {},
   "outputs": [],
   "source": [
    "def getIncorrectRepeatedVinInformation(df)->dict:\n",
    "    '''\n",
    "    Searches the values of a list in a dataframe columnA and retrieves the information of columnB\n",
    "    Args:\n",
    "       df (DataFrame): The dataframe where where will be searched\n",
    "    Returns:\n",
    "      ... (dict): A dictionary which contains a status message, a list of good and bad VINs withits appeareance count, and the total count of good and bad VINS\n",
    "    '''\n",
    "    vinValues = getRepeatedValuesInAColumn(df, 'VIN').unique().tolist()\n",
    "    repeatedValues = searchValuesInADataframe(df, vinValues, 'VIN', 'alertas')\n",
    "    goodVins = 0\n",
    "    badVins = 0\n",
    "    goodVinsList = []\n",
    "    badVinsList = []\n",
    "    messages = []\n",
    "    for repeatedVin in list(repeatedValues.keys()):\n",
    "        differentValuesByVin = list(set(repeatedValues[repeatedVin]))\n",
    "        for differentValue in differentValuesByVin:\n",
    "            if differentValue == '[]':\n",
    "                goodVins += 1\n",
    "                if len(differentValuesByVin)>1:\n",
    "                    messages.append(''.join(['Alerta con vin: ',repeatedVin, ' , tiene y no tiene alertas.']))\n",
    "                else:\n",
    "                    goodVinsList.append([repeatedVin, len(repeatedValues[repeatedVin])])\n",
    "            else:\n",
    "                badVins += 1\n",
    "                badVinsList.append([repeatedVin, len(repeatedValues[repeatedVin])])\n",
    "            \n",
    "    messages.append(''.join(['VINs repetidos que no lanzan alerta: ', str(goodVins), '\\nVINs repetidos que sí lanzan alerta: ', str(badVins)]))\n",
    "    return {'message': messages,\n",
    "           'goodVinsList': goodVinsList,\n",
    "           'badVinsList': badVinsList,\n",
    "           'goodVins':goodVins,\n",
    "           'badVins': badVins}"
   ]
  },
  {
   "cell_type": "code",
   "execution_count": 42,
   "id": "8f352273-50aa-4fec-bf86-7d45a238a978",
   "metadata": {},
   "outputs": [],
   "source": [
    "incorrectInformation = getIncorrectRepeatedVinInformation(df)"
   ]
  },
  {
   "cell_type": "code",
   "execution_count": 43,
   "id": "bdcc9d6d-bf4c-45db-9161-7aca44bd4371",
   "metadata": {},
   "outputs": [
    {
     "data": {
      "text/plain": [
       "['Alerta con vin: 1C4PJLLB0JD511938 , tiene y no tiene alertas.',\n",
       " 'Alerta con vin: 1FADP3F23FL269002 , tiene y no tiene alertas.',\n",
       " 'Alerta con vin: 1FMC%C3%9A0H91DUB95282 , tiene y no tiene alertas.',\n",
       " 'Alerta con vin: 1FMCU02Z28KA03653 , tiene y no tiene alertas.',\n",
       " 'Alerta con vin: 1FMEU64877UB13472 , tiene y no tiene alertas.',\n",
       " 'Alerta con vin: 1FT8W4DTXBEB99819 , tiene y no tiene alertas.',\n",
       " 'Alerta con vin: 1FTEW1EP8GKE34004 , tiene y no tiene alertas.',\n",
       " 'Alerta con vin: 1FTMF1CM6DFA29817 , tiene y no tiene alertas.',\n",
       " 'Alerta con vin: 1FTNW20FX2EB73728 , tiene y no tiene alertas.',\n",
       " 'Alerta con vin: 1GCCS148558220255 , tiene y no tiene alertas.',\n",
       " 'Alerta con vin: 1GKEC13Z94R246192 , tiene y no tiene alertas.',\n",
       " 'Alerta con vin: 1N4BL11D55C152181 , tiene y no tiene alertas.',\n",
       " 'Alerta con vin: 1N6SD11Y6VC416953 , tiene y no tiene alertas.',\n",
       " 'Alerta con vin: 2A4RR4DE1AR315031 , tiene y no tiene alertas.',\n",
       " 'Alerta con vin: 2C3CDXGJ0HH644067 , tiene y no tiene alertas.',\n",
       " 'Alerta con vin: 3GTU2NEC7JG416507 , tiene y no tiene alertas.',\n",
       " 'Alerta con vin: 3KPFK4A78HE136256 , tiene y no tiene alertas.',\n",
       " 'Alerta con vin: 3N1AB7AD3JL673266 , tiene y no tiene alertas.',\n",
       " 'Alerta con vin: 3N1CN7AP7JK398484 , tiene y no tiene alertas.',\n",
       " 'Alerta con vin: 5NPE24AF0HH520224 , tiene y no tiene alertas.',\n",
       " 'Alerta con vin: 5XYKT4A61CG229893 , tiene y no tiene alertas.',\n",
       " 'Alerta con vin: KM8J23A47HU260512 , tiene y no tiene alertas.',\n",
       " 'Alerta con vin: KM8J33A4XHU461611 , tiene y no tiene alertas.',\n",
       " 'Alerta con vin: KNDJP3A59G7350563 , tiene y no tiene alertas.',\n",
       " 'VINs repetidos que no lanzan alerta: 13894\\nVINs repetidos que sí lanzan alerta: 2106']"
      ]
     },
     "execution_count": 43,
     "metadata": {},
     "output_type": "execute_result"
    }
   ],
   "source": [
    "incorrectInformation['message']"
   ]
  },
  {
   "cell_type": "code",
   "execution_count": 44,
   "id": "2e99f948-0054-4c7b-a377-65dfd5026ee7",
   "metadata": {},
   "outputs": [],
   "source": [
    "def diagnoseVins(df, incorrectInformation):\n",
    "    '''\n",
    "    Converts the lists of  getIncorrectRepeatedVinInformation() function in dataframes\n",
    "    Args:\n",
    "       df (DataFrame): The dataframe where where will be searched\n",
    "    Returns:\n",
    "      ... (dict): A dictionary which contains the good and bad VINs dataframes and the good and bad repeated Records of the VINs\n",
    "    '''\n",
    "    goodVinsFrame = pd.DataFrame(incorrectInformation['goodVinsList'], columns = ['VIN', 'repeatedTimes'])\n",
    "    goodRepeatedRecords = goodVinsFrame.sum()['repeatedTimes']\n",
    "    badVinsFrame = pd.DataFrame(incorrectInformation['badVinsList'], columns = ['VIN', 'repeatedTimes'])\n",
    "    badRepeatedRecords = badVinsFrame.sum()['repeatedTimes']\n",
    "\n",
    "    return {'goodVinsFrame': goodVinsFrame, 'badVinsFrame': badVinsFrame, 'goodRepeatedRecords': goodRepeatedRecords, 'badRepeatedRecords': badRepeatedRecords}"
   ]
  },
  {
   "cell_type": "code",
   "execution_count": 45,
   "id": "042b4236-0237-4d60-b903-3c45eb688518",
   "metadata": {},
   "outputs": [],
   "source": [
    "diagnosedVins = diagnoseVins(df, incorrectInformation)"
   ]
  },
  {
   "cell_type": "code",
   "execution_count": 46,
   "id": "1f7357b9-4cdd-486f-a93b-15d8664c64b1",
   "metadata": {},
   "outputs": [
    {
     "data": {
      "text/html": [
       "<style type=\"text/css\">\n",
       "#T_797af_row0_col0, #T_797af_row2_col0, #T_797af_row4_col0, #T_797af_row6_col0 {\n",
       "  border: 1px solid white;\n",
       "}\n",
       "#T_797af_row1_col0, #T_797af_row3_col0, #T_797af_row5_col0, #T_797af_row7_col0 {\n",
       "  background-color: indigo;\n",
       "  border: 1px solid white;\n",
       "}\n",
       "</style>\n",
       "<table id=\"T_797af\">\n",
       "  <thead>\n",
       "    <tr>\n",
       "      <th class=\"blank level0\" >&nbsp;</th>\n",
       "      <th id=\"T_797af_level0_col0\" class=\"col_heading level0 col0\" >repeatedTimes</th>\n",
       "    </tr>\n",
       "  </thead>\n",
       "  <tbody>\n",
       "    <tr>\n",
       "      <th id=\"T_797af_level0_row0\" class=\"row_heading level0 row0\" >count</th>\n",
       "      <td id=\"T_797af_row0_col0\" class=\"data row0 col0\" >13870.000000</td>\n",
       "    </tr>\n",
       "    <tr>\n",
       "      <th id=\"T_797af_level0_row1\" class=\"row_heading level0 row1\" >mean</th>\n",
       "      <td id=\"T_797af_row1_col0\" class=\"data row1 col0\" >4.526172</td>\n",
       "    </tr>\n",
       "    <tr>\n",
       "      <th id=\"T_797af_level0_row2\" class=\"row_heading level0 row2\" >std</th>\n",
       "      <td id=\"T_797af_row2_col0\" class=\"data row2 col0\" >6.632728</td>\n",
       "    </tr>\n",
       "    <tr>\n",
       "      <th id=\"T_797af_level0_row3\" class=\"row_heading level0 row3\" >min</th>\n",
       "      <td id=\"T_797af_row3_col0\" class=\"data row3 col0\" >2.000000</td>\n",
       "    </tr>\n",
       "    <tr>\n",
       "      <th id=\"T_797af_level0_row4\" class=\"row_heading level0 row4\" >25%</th>\n",
       "      <td id=\"T_797af_row4_col0\" class=\"data row4 col0\" >2.000000</td>\n",
       "    </tr>\n",
       "    <tr>\n",
       "      <th id=\"T_797af_level0_row5\" class=\"row_heading level0 row5\" >50%</th>\n",
       "      <td id=\"T_797af_row5_col0\" class=\"data row5 col0\" >3.000000</td>\n",
       "    </tr>\n",
       "    <tr>\n",
       "      <th id=\"T_797af_level0_row6\" class=\"row_heading level0 row6\" >75%</th>\n",
       "      <td id=\"T_797af_row6_col0\" class=\"data row6 col0\" >4.000000</td>\n",
       "    </tr>\n",
       "    <tr>\n",
       "      <th id=\"T_797af_level0_row7\" class=\"row_heading level0 row7\" >max</th>\n",
       "      <td id=\"T_797af_row7_col0\" class=\"data row7 col0\" >189.000000</td>\n",
       "    </tr>\n",
       "  </tbody>\n",
       "</table>\n"
      ],
      "text/plain": [
       "<pandas.io.formats.style.Styler at 0x21d494a36e0>"
      ]
     },
     "execution_count": 46,
     "metadata": {},
     "output_type": "execute_result"
    }
   ],
   "source": [
    "diagnosedVins['goodVinsFrame'].describe().style.apply(highlight_odd_rows)"
   ]
  },
  {
   "cell_type": "code",
   "execution_count": 47,
   "id": "9d81028a-7828-4d79-965b-8d425263630c",
   "metadata": {},
   "outputs": [
    {
     "data": {
      "image/png": "[encoded data removed]",
      "text/plain": [
       "<Figure size 640x480 with 1 Axes>"
      ]
     },
     "metadata": {},
     "output_type": "display_data"
    }
   ],
   "source": [
    "plt.hist(diagnosedVins['goodVinsFrame']['repeatedTimes'], bins = 50, edgecolor = 'black')\n",
    "plt.xlabel('Repeated Times')\n",
    "plt.ylabel('Frequency')\n",
    "plt.title('Histogram of Repeated Times by VIN (without alerts)')\n",
    "plt.show()"
   ]
  },
  {
   "cell_type": "code",
   "execution_count": 48,
   "id": "385afb07-cec6-47c7-9c14-1872493ca5f8",
   "metadata": {},
   "outputs": [
    {
     "data": {
      "text/html": [
       "<style type=\"text/css\">\n",
       "#T_6a70d_row0_col0, #T_6a70d_row2_col0, #T_6a70d_row4_col0, #T_6a70d_row6_col0 {\n",
       "  border: 1px solid white;\n",
       "}\n",
       "#T_6a70d_row1_col0, #T_6a70d_row3_col0, #T_6a70d_row5_col0, #T_6a70d_row7_col0 {\n",
       "  background-color: indigo;\n",
       "  border: 1px solid white;\n",
       "}\n",
       "</style>\n",
       "<table id=\"T_6a70d\">\n",
       "  <thead>\n",
       "    <tr>\n",
       "      <th class=\"blank level0\" >&nbsp;</th>\n",
       "      <th id=\"T_6a70d_level0_col0\" class=\"col_heading level0 col0\" >repeatedTimes</th>\n",
       "    </tr>\n",
       "  </thead>\n",
       "  <tbody>\n",
       "    <tr>\n",
       "      <th id=\"T_6a70d_level0_row0\" class=\"row_heading level0 row0\" >count</th>\n",
       "      <td id=\"T_6a70d_row0_col0\" class=\"data row0 col0\" >2106.000000</td>\n",
       "    </tr>\n",
       "    <tr>\n",
       "      <th id=\"T_6a70d_level0_row1\" class=\"row_heading level0 row1\" >mean</th>\n",
       "      <td id=\"T_6a70d_row1_col0\" class=\"data row1 col0\" >4.432099</td>\n",
       "    </tr>\n",
       "    <tr>\n",
       "      <th id=\"T_6a70d_level0_row2\" class=\"row_heading level0 row2\" >std</th>\n",
       "      <td id=\"T_6a70d_row2_col0\" class=\"data row2 col0\" >5.761647</td>\n",
       "    </tr>\n",
       "    <tr>\n",
       "      <th id=\"T_6a70d_level0_row3\" class=\"row_heading level0 row3\" >min</th>\n",
       "      <td id=\"T_6a70d_row3_col0\" class=\"data row3 col0\" >2.000000</td>\n",
       "    </tr>\n",
       "    <tr>\n",
       "      <th id=\"T_6a70d_level0_row4\" class=\"row_heading level0 row4\" >25%</th>\n",
       "      <td id=\"T_6a70d_row4_col0\" class=\"data row4 col0\" >2.000000</td>\n",
       "    </tr>\n",
       "    <tr>\n",
       "      <th id=\"T_6a70d_level0_row5\" class=\"row_heading level0 row5\" >50%</th>\n",
       "      <td id=\"T_6a70d_row5_col0\" class=\"data row5 col0\" >3.000000</td>\n",
       "    </tr>\n",
       "    <tr>\n",
       "      <th id=\"T_6a70d_level0_row6\" class=\"row_heading level0 row6\" >75%</th>\n",
       "      <td id=\"T_6a70d_row6_col0\" class=\"data row6 col0\" >4.000000</td>\n",
       "    </tr>\n",
       "    <tr>\n",
       "      <th id=\"T_6a70d_level0_row7\" class=\"row_heading level0 row7\" >max</th>\n",
       "      <td id=\"T_6a70d_row7_col0\" class=\"data row7 col0\" >81.000000</td>\n",
       "    </tr>\n",
       "  </tbody>\n",
       "</table>\n"
      ],
      "text/plain": [
       "<pandas.io.formats.style.Styler at 0x21d494a0530>"
      ]
     },
     "execution_count": 48,
     "metadata": {},
     "output_type": "execute_result"
    }
   ],
   "source": [
    "diagnosedVins['badVinsFrame'].describe().style.apply(highlight_odd_rows)"
   ]
  },
  {
   "cell_type": "code",
   "execution_count": 49,
   "id": "0ea12d53-0bf4-41c7-ad88-0fb376ae8c31",
   "metadata": {},
   "outputs": [
    {
     "data": {
      "image/png": "[encoded data removed]",
      "text/plain": [
       "<Figure size 640x480 with 1 Axes>"
      ]
     },
     "metadata": {},
     "output_type": "display_data"
    }
   ],
   "source": [
    "plt.hist(diagnosedVins['badVinsFrame']['repeatedTimes'], bins = 50, edgecolor = 'black')\n",
    "plt.xlabel('Repeated Times')\n",
    "plt.ylabel('Frequency')\n",
    "plt.title('Histogram of Repeated Times by VIN (with alerts)')\n",
    "plt.show()"
   ]
  },
  {
   "cell_type": "markdown",
   "id": "35099e28-2fd6-4e57-921d-3a60df5211b1",
   "metadata": {},
   "source": [
    "<h4>Finalmente tenemos los VINs revisados en todos los registros. La proporción entre VINs repetidos con alerta, VINs repetidos sin alerta. Máximos y mínimos repeticiones</h4>"
   ]
  },
  {
   "cell_type": "code",
   "execution_count": 50,
   "id": "b9b050eb-9a20-481f-942a-e6c049c3698d",
   "metadata": {},
   "outputs": [
    {
     "name": "stdout",
     "output_type": "stream",
     "text": [
      "Cantidad de registros repetidos:  72112\n",
      "Cantidad de registros repetidos con VINs sin alerta:  62778\n",
      "Cantidad de registros repetidos con VINs con alerta:  9334\n",
      "Cantidad de VINs revisados en esos registros repetidos:  15976\n"
     ]
    },
    {
     "data": {
      "image/png": "[encoded data removed]",
      "text/plain": [
       "<Figure size 640x480 with 1 Axes>"
      ]
     },
     "metadata": {},
     "output_type": "display_data"
    }
   ],
   "source": [
    "print('Cantidad de registros repetidos: ', diagnosedVins['goodRepeatedRecords'] + diagnosedVins['badRepeatedRecords'])\n",
    "print('Cantidad de registros repetidos con VINs sin alerta: ', diagnosedVins['goodRepeatedRecords'])\n",
    "print('Cantidad de registros repetidos con VINs con alerta: ', diagnosedVins['badRepeatedRecords'])\n",
    "print('Cantidad de VINs revisados en esos registros repetidos: ', list(diagnosedVins['badVinsFrame'].count() + diagnosedVins['goodVinsFrame'].count())[1])\n",
    "repetitionProportion = [diagnosedVins['goodRepeatedRecords'], diagnosedVins['badRepeatedRecords']]\n",
    "labelsRepetition = ['VINs without alerts', 'VINs with alerts']\n",
    "plt.pie(repetitionProportion, labels=labelsRepetition, autopct=\"%0.1f %%\")\n",
    "plt.axis(\"equal\")\n",
    "plt.title('Repeated records')\n",
    "plt.show()"
   ]
  },
  {
   "cell_type": "markdown",
   "id": "130f19c4-0376-4ed4-bb22-e0d4bb87f680",
   "metadata": {},
   "source": [
    "<h4>Estadísticas de las repeticiones de los VINs sin alerta</h4>"
   ]
  },
  {
   "cell_type": "code",
   "execution_count": 51,
   "id": "dc63ab32-8f60-49e7-b63f-e824fbb40e21",
   "metadata": {},
   "outputs": [
    {
     "data": {
      "text/html": [
       "<style type=\"text/css\">\n",
       "#T_278bf_row0_col0, #T_278bf_row2_col0, #T_278bf_row4_col0, #T_278bf_row6_col0 {\n",
       "  border: 1px solid white;\n",
       "}\n",
       "#T_278bf_row1_col0, #T_278bf_row3_col0, #T_278bf_row5_col0, #T_278bf_row7_col0 {\n",
       "  background-color: indigo;\n",
       "  border: 1px solid white;\n",
       "}\n",
       "</style>\n",
       "<table id=\"T_278bf\">\n",
       "  <thead>\n",
       "    <tr>\n",
       "      <th class=\"blank level0\" >&nbsp;</th>\n",
       "      <th id=\"T_278bf_level0_col0\" class=\"col_heading level0 col0\" >repeatedTimes</th>\n",
       "    </tr>\n",
       "  </thead>\n",
       "  <tbody>\n",
       "    <tr>\n",
       "      <th id=\"T_278bf_level0_row0\" class=\"row_heading level0 row0\" >count</th>\n",
       "      <td id=\"T_278bf_row0_col0\" class=\"data row0 col0\" >13870.000000</td>\n",
       "    </tr>\n",
       "    <tr>\n",
       "      <th id=\"T_278bf_level0_row1\" class=\"row_heading level0 row1\" >mean</th>\n",
       "      <td id=\"T_278bf_row1_col0\" class=\"data row1 col0\" >4.526172</td>\n",
       "    </tr>\n",
       "    <tr>\n",
       "      <th id=\"T_278bf_level0_row2\" class=\"row_heading level0 row2\" >std</th>\n",
       "      <td id=\"T_278bf_row2_col0\" class=\"data row2 col0\" >6.632728</td>\n",
       "    </tr>\n",
       "    <tr>\n",
       "      <th id=\"T_278bf_level0_row3\" class=\"row_heading level0 row3\" >min</th>\n",
       "      <td id=\"T_278bf_row3_col0\" class=\"data row3 col0\" >2.000000</td>\n",
       "    </tr>\n",
       "    <tr>\n",
       "      <th id=\"T_278bf_level0_row4\" class=\"row_heading level0 row4\" >25%</th>\n",
       "      <td id=\"T_278bf_row4_col0\" class=\"data row4 col0\" >2.000000</td>\n",
       "    </tr>\n",
       "    <tr>\n",
       "      <th id=\"T_278bf_level0_row5\" class=\"row_heading level0 row5\" >50%</th>\n",
       "      <td id=\"T_278bf_row5_col0\" class=\"data row5 col0\" >3.000000</td>\n",
       "    </tr>\n",
       "    <tr>\n",
       "      <th id=\"T_278bf_level0_row6\" class=\"row_heading level0 row6\" >75%</th>\n",
       "      <td id=\"T_278bf_row6_col0\" class=\"data row6 col0\" >4.000000</td>\n",
       "    </tr>\n",
       "    <tr>\n",
       "      <th id=\"T_278bf_level0_row7\" class=\"row_heading level0 row7\" >max</th>\n",
       "      <td id=\"T_278bf_row7_col0\" class=\"data row7 col0\" >189.000000</td>\n",
       "    </tr>\n",
       "  </tbody>\n",
       "</table>\n"
      ],
      "text/plain": [
       "<pandas.io.formats.style.Styler at 0x21d496290a0>"
      ]
     },
     "execution_count": 51,
     "metadata": {},
     "output_type": "execute_result"
    }
   ],
   "source": [
    "diagnosedVins['goodVinsFrame'].describe().style.apply(highlight_odd_rows)"
   ]
  },
  {
   "cell_type": "markdown",
   "id": "31aecfa7-a82d-4b6b-b870-507249ea7192",
   "metadata": {},
   "source": [
    "<h4>Estadísticas de las repeticiones de los VINs con alerta</h4>"
   ]
  },
  {
   "cell_type": "code",
   "execution_count": 52,
   "id": "42f26fea-2fef-40bb-9040-1da577175de6",
   "metadata": {},
   "outputs": [
    {
     "data": {
      "text/html": [
       "<style type=\"text/css\">\n",
       "#T_2da01_row0_col0, #T_2da01_row2_col0, #T_2da01_row4_col0, #T_2da01_row6_col0 {\n",
       "  border: 1px solid white;\n",
       "}\n",
       "#T_2da01_row1_col0, #T_2da01_row3_col0, #T_2da01_row5_col0, #T_2da01_row7_col0 {\n",
       "  background-color: indigo;\n",
       "  border: 1px solid white;\n",
       "}\n",
       "</style>\n",
       "<table id=\"T_2da01\">\n",
       "  <thead>\n",
       "    <tr>\n",
       "      <th class=\"blank level0\" >&nbsp;</th>\n",
       "      <th id=\"T_2da01_level0_col0\" class=\"col_heading level0 col0\" >repeatedTimes</th>\n",
       "    </tr>\n",
       "  </thead>\n",
       "  <tbody>\n",
       "    <tr>\n",
       "      <th id=\"T_2da01_level0_row0\" class=\"row_heading level0 row0\" >count</th>\n",
       "      <td id=\"T_2da01_row0_col0\" class=\"data row0 col0\" >2106.000000</td>\n",
       "    </tr>\n",
       "    <tr>\n",
       "      <th id=\"T_2da01_level0_row1\" class=\"row_heading level0 row1\" >mean</th>\n",
       "      <td id=\"T_2da01_row1_col0\" class=\"data row1 col0\" >4.432099</td>\n",
       "    </tr>\n",
       "    <tr>\n",
       "      <th id=\"T_2da01_level0_row2\" class=\"row_heading level0 row2\" >std</th>\n",
       "      <td id=\"T_2da01_row2_col0\" class=\"data row2 col0\" >5.761647</td>\n",
       "    </tr>\n",
       "    <tr>\n",
       "      <th id=\"T_2da01_level0_row3\" class=\"row_heading level0 row3\" >min</th>\n",
       "      <td id=\"T_2da01_row3_col0\" class=\"data row3 col0\" >2.000000</td>\n",
       "    </tr>\n",
       "    <tr>\n",
       "      <th id=\"T_2da01_level0_row4\" class=\"row_heading level0 row4\" >25%</th>\n",
       "      <td id=\"T_2da01_row4_col0\" class=\"data row4 col0\" >2.000000</td>\n",
       "    </tr>\n",
       "    <tr>\n",
       "      <th id=\"T_2da01_level0_row5\" class=\"row_heading level0 row5\" >50%</th>\n",
       "      <td id=\"T_2da01_row5_col0\" class=\"data row5 col0\" >3.000000</td>\n",
       "    </tr>\n",
       "    <tr>\n",
       "      <th id=\"T_2da01_level0_row6\" class=\"row_heading level0 row6\" >75%</th>\n",
       "      <td id=\"T_2da01_row6_col0\" class=\"data row6 col0\" >4.000000</td>\n",
       "    </tr>\n",
       "    <tr>\n",
       "      <th id=\"T_2da01_level0_row7\" class=\"row_heading level0 row7\" >max</th>\n",
       "      <td id=\"T_2da01_row7_col0\" class=\"data row7 col0\" >81.000000</td>\n",
       "    </tr>\n",
       "  </tbody>\n",
       "</table>\n"
      ],
      "text/plain": [
       "<pandas.io.formats.style.Styler at 0x21d493fcb30>"
      ]
     },
     "execution_count": 52,
     "metadata": {},
     "output_type": "execute_result"
    }
   ],
   "source": [
    "diagnosedVins['badVinsFrame'].describe().style.apply(highlight_odd_rows)"
   ]
  },
  {
   "cell_type": "markdown",
   "id": "259eadba-29d4-430c-b296-54b6adfc74e4",
   "metadata": {},
   "source": [
    "<h3>Ahora se comprueba que para cada VIN repetido se dió exactamente la misma información, y en caso de tener alerta, también se dieron las mismas alertas</h3>"
   ]
  },
  {
   "cell_type": "code",
   "execution_count": 53,
   "id": "7df75aa1-7b33-4274-81d8-b82230851fb7",
   "metadata": {},
   "outputs": [],
   "source": [
    "def verifyInfoRepeatedVins(df):\n",
    "    '''\n",
    "    Verifies every repeated VIN has the same information in every record (due to the short period time reviewed)\n",
    "    Args:\n",
    "       df (DataFrame): The dataframe where where will be searched\n",
    "    Returns:\n",
    "      ... (dict): A dictionary which contains the different responses as a dict for every repeated VIN in uniqueResponses and VINs with more than one response in differentResponse key\n",
    "    '''\n",
    "    uniqueResponses = {}\n",
    "    differentResponses = {}\n",
    "    vinValues = getRepeatedValuesInAColumn(df, 'VIN').unique().tolist()\n",
    "    repeatedValues = searchValuesInADataframe(df, vinValues, 'VIN', 'responseBody')\n",
    "    repeatedVins = repeatedValues.keys()\n",
    "    for vin in repeatedVins:\n",
    "        uniqueResponses[vin] = []\n",
    "        listJson = []\n",
    "        for responseString in repeatedValues[vin]:\n",
    "            responseJson = json.loads(responseString)\n",
    "            listJson.append(responseJson)\n",
    "        repeatedValues[vin] = listJson\n",
    "    for vin in repeatedVins:\n",
    "        for responseJson in repeatedValues[vin]:\n",
    "            keys = list(responseJson.keys())\n",
    "            if 'fabricante' in keys and 'paisOrigen' in keys:\n",
    "                info = {'anioModelo': responseJson['anioModelo'], 'fabricante': responseJson['fabricante'], 'marca': responseJson['marca'], 'modelo': responseJson['modelo'], 'paisOrigen': responseJson['paisOrigen'], 'robo': responseJson['robo'], 'roboFecha': responseJson['roboFecha'], 'codes': []}\n",
    "            else:\n",
    "                 info = {'anioModelo': responseJson['anioModelo'], 'marca': responseJson['marca'], 'modelo': responseJson['modelo'], 'robo': responseJson['robo'], 'roboFecha': responseJson['roboFecha'], 'codes': []}\n",
    "            if  responseJson['mensajes'] != []:\n",
    "                for message in responseJson['mensajes']:\n",
    "                    info['codes'].append(message['codigo'])\n",
    "                    info['codes'] = list(set(info['codes']))\n",
    "                if len(info['codes'])>1:\n",
    "                    info['codes'] = info['codes'].sort()\n",
    "            if uniqueResponses[vin] == []:\n",
    "                 uniqueResponses[vin].append(info)\n",
    "            else:\n",
    "                if info not in uniqueResponses[vin]:\n",
    "                    uniqueResponses[vin].append(info)\n",
    "                    #info['tiempoRespuesta'] = responseJson['tiempoRespuesta']\n",
    "                    differentResponses[vin] = info\n",
    "    return {'uniqueResponses': uniqueResponses, 'differentResponses': differentResponses}"
   ]
  },
  {
   "cell_type": "code",
   "execution_count": 54,
   "id": "641e94b1-86d8-4b6d-a095-f470ecfa8494",
   "metadata": {},
   "outputs": [
    {
     "name": "stdout",
     "output_type": "stream",
     "text": [
      "Existen respuestas distintas para un mismo VIN\n"
     ]
    }
   ],
   "source": [
    "verifyResponses = verifyInfoRepeatedVins(df)\n",
    "if verifyResponses['differentResponses'] != {}:\n",
    "    print('Existen respuestas distintas para un mismo VIN')"
   ]
  },
  {
   "cell_type": "code",
   "execution_count": 55,
   "id": "26c9191e-6be2-40d9-8178-9b6a6c7b6eaf",
   "metadata": {},
   "outputs": [],
   "source": [
    "differentResponseVins = list(verifyResponses['differentResponses'].keys())"
   ]
  },
  {
   "cell_type": "code",
   "execution_count": 56,
   "id": "5d782277-7253-4ee0-9d3e-7759eb611fd9",
   "metadata": {},
   "outputs": [
    {
     "name": "stdout",
     "output_type": "stream",
     "text": [
      "['1C4PJLCB0EW163391', '1C4PJLLB0JD511938', '1D8GT28K27W610546', '1FADP3F23FL269002', '1FM5K7F85GGA08596', '1FMC%C3%9A0H91DUB95282', '1FMCU02Z28KA03653', '1FMCU0H91DUB95282', '1FMEU64877UB13472', '1FT8W4DTXBEB99819', '1FTEW1EP8GKE34004', '1FTMF1CM6DFA29817', '1FTNW20FX2EB73728', '1G1ZD5EU0BF250268', '1GCCS148558220255', '1GCEK19T93E356330', '1GKDT13S342421706', '1GKEC13Z94R246192', '1HTLDTVN0GHA63947', '1N4BL11D55C152181', '1N6SD11Y6VC416953', '2A4RR4DE1AR315031', '2C3CDXGJ0HH644067', '3FAHP0JA8AR340851', '3GTU2NEC7JG416507', '3KPFK4A78HE136256', '3N1AB7AD3JL673266', '3N1CB51D01L425456', '3N1CN7AP7JK398484', '5NPE24AF0HH520224', '5XYKT4A61CG229893', 'KM8J23A47HU260512', 'KM8J33A4XHU461611', 'KNDJP3A59G7350563']\n"
     ]
    }
   ],
   "source": [
    "print(differentResponseVins)"
   ]
  },
  {
   "cell_type": "code",
   "execution_count": 57,
   "id": "793c0f34-c34f-4669-bd75-72efc651f8af",
   "metadata": {},
   "outputs": [
    {
     "name": "stdout",
     "output_type": "stream",
     "text": [
      "VIN 1C4PJLCB0EW163391\n",
      "{'anioModelo': '2014', 'fabricante': 'FCA US LLC', 'marca': 'JEEP', 'modelo': 'CHEROKEE LATITUDE', 'paisOrigen': 'ESTADOS UNIDOS (USA)', 'robo': False, 'roboFecha': None, 'codes': []}\n",
      "{'anioModelo': '2014', 'marca': 'JEEP', 'modelo': 'CHEROKEE LATITUDE', 'robo': False, 'roboFecha': None, 'codes': []}\n",
      "------------\n",
      "VIN 1C4PJLLB0JD511938\n",
      "{'anioModelo': '2018', 'fabricante': 'FCA US LLC', 'marca': 'JEEP', 'modelo': 'CHEROKEE LATITUDE PLUS', 'paisOrigen': 'ESTADOS UNIDOS (USA)', 'robo': False, 'roboFecha': None, 'codes': []}\n",
      "{'anioModelo': '2018', 'fabricante': 'FCA US LLC', 'marca': 'JEEP', 'modelo': 'CHEROKEE LATITUDE PLUS', 'paisOrigen': 'ESTADOS UNIDOS (USA)', 'robo': True, 'roboFecha': '2024-08-13T12:00:00.000Z', 'codes': [6]}\n",
      "------------\n",
      "VIN 1D8GT28K27W610546\n",
      "{'anioModelo': '2007', 'fabricante': 'FCA US LLC', 'marca': 'DODGE', 'modelo': 'NITRO SXT', 'paisOrigen': 'ESTADOS UNIDOS (USA)', 'robo': False, 'roboFecha': None, 'codes': []}\n",
      "{'anioModelo': '2007', 'marca': 'DODGE', 'modelo': 'NITRO SXT', 'robo': False, 'roboFecha': None, 'codes': []}\n",
      "------------\n",
      "VIN 1FADP3F23FL269002\n",
      "{'anioModelo': '2015', 'fabricante': 'FORD MOTOR COMPANY', 'marca': 'FORD', 'modelo': 'FOCUS SE', 'paisOrigen': 'ESTADOS UNIDOS (USA)', 'robo': False, 'roboFecha': None, 'codes': []}\n",
      "{'anioModelo': '2015', 'fabricante': 'FORD MOTOR COMPANY', 'marca': 'FORD', 'modelo': 'FOCUS SE', 'paisOrigen': 'ESTADOS UNIDOS (USA)', 'robo': True, 'roboFecha': '2022-12-10T12:00:00.000Z', 'codes': [6]}\n",
      "------------\n",
      "VIN 1FM5K7F85GGA08596\n",
      "{'anioModelo': '2016', 'fabricante': 'FORD MOTOR COMPANY', 'marca': 'FORD', 'modelo': 'EXPLORER LIMITED', 'paisOrigen': 'ESTADOS UNIDOS (USA)', 'robo': False, 'roboFecha': None, 'codes': []}\n",
      "{'anioModelo': '2016', 'marca': 'FORD', 'modelo': 'EXPLORER LIMITED', 'robo': False, 'roboFecha': None, 'codes': []}\n",
      "------------\n",
      "VIN 1FMC%C3%9A0H91DUB95282\n",
      "{'anioModelo': '2013', 'fabricante': 'FORD MOTOR COMPANY', 'marca': 'FORD', 'modelo': None, 'paisOrigen': 'ESTADOS UNIDOS (USA)', 'robo': False, 'roboFecha': None, 'codes': [4]}\n",
      "{'anioModelo': None, 'marca': None, 'modelo': None, 'robo': False, 'roboFecha': None, 'codes': []}\n",
      "------------\n",
      "VIN 1FMCU02Z28KA03653\n",
      "{'anioModelo': '2008', 'fabricante': 'FORD MOTOR COMPANY', 'marca': 'FORD', 'modelo': 'ESCAPE XLS', 'paisOrigen': 'ESTADOS UNIDOS (USA)', 'robo': False, 'roboFecha': None, 'codes': []}\n",
      "{'anioModelo': '2008', 'fabricante': 'FORD MOTOR COMPANY', 'marca': 'FORD', 'modelo': 'ESCAPE XLS', 'paisOrigen': 'ESTADOS UNIDOS (USA)', 'robo': True, 'roboFecha': '2011-09-06T12:00:00.000Z', 'codes': [6]}\n",
      "------------\n",
      "VIN 1FMCU0H91DUB95282\n",
      "{'anioModelo': '2013', 'fabricante': 'FORD MOTOR COMPANY', 'marca': 'FORD', 'modelo': 'ESCAPE SEL', 'paisOrigen': 'ESTADOS UNIDOS (USA)', 'robo': False, 'roboFecha': None, 'codes': []}\n",
      "{'anioModelo': '2013', 'marca': 'FORD', 'modelo': 'ESCAPE SEL', 'robo': False, 'roboFecha': None, 'codes': []}\n",
      "------------\n",
      "VIN 1FMEU64877UB13472\n",
      "{'anioModelo': '2007', 'fabricante': 'FORD MOTOR COMPANY', 'marca': 'FORD', 'modelo': 'EXPLORER EDDIE BAUER', 'paisOrigen': 'ESTADOS UNIDOS (USA)', 'robo': False, 'roboFecha': None, 'codes': []}\n",
      "{'anioModelo': '2007', 'fabricante': 'FORD MOTOR COMPANY', 'marca': 'FORD', 'modelo': 'EXPLORER EDDIE BAUER', 'paisOrigen': 'ESTADOS UNIDOS (USA)', 'robo': True, 'roboFecha': '2022-04-22T12:00:00.000Z', 'codes': [6]}\n",
      "------------\n",
      "VIN 1FT8W4DTXBEB99819\n",
      "{'anioModelo': '2011', 'fabricante': 'FORD MOTOR COMPANY', 'marca': 'FORD', 'modelo': 'F-450 SUPER DUTY LARIAT', 'paisOrigen': 'ESTADOS UNIDOS (USA)', 'robo': False, 'roboFecha': None, 'codes': []}\n",
      "{'anioModelo': '2011', 'fabricante': 'FORD MOTOR COMPANY', 'marca': 'FORD', 'modelo': 'F-450 SUPER DUTY LARIAT', 'paisOrigen': 'ESTADOS UNIDOS (USA)', 'robo': True, 'roboFecha': '2024-06-15T12:00:00.000Z', 'codes': [6]}\n",
      "------------\n",
      "VIN 1FTEW1EP8GKE34004\n",
      "{'anioModelo': '2016', 'fabricante': 'FORD MOTOR COMPANY', 'marca': 'FORD', 'modelo': 'F-150 LARIAT', 'paisOrigen': 'ESTADOS UNIDOS (USA)', 'robo': False, 'roboFecha': None, 'codes': []}\n",
      "{'anioModelo': '2016', 'fabricante': 'FORD MOTOR COMPANY', 'marca': 'FORD', 'modelo': 'F-150 LARIAT', 'paisOrigen': 'ESTADOS UNIDOS (USA)', 'robo': True, 'roboFecha': '2024-08-05T12:00:00.000Z', 'codes': [6]}\n",
      "------------\n",
      "VIN 1FTMF1CM6DFA29817\n",
      "{'anioModelo': '2013', 'fabricante': 'FORD MOTOR COMPANY', 'marca': 'FORD', 'modelo': 'F-150 XL', 'paisOrigen': 'ESTADOS UNIDOS (USA)', 'robo': False, 'roboFecha': None, 'codes': []}\n",
      "{'anioModelo': '2013', 'fabricante': 'FORD MOTOR COMPANY', 'marca': 'FORD', 'modelo': 'F-150 XL', 'paisOrigen': 'ESTADOS UNIDOS (USA)', 'robo': True, 'roboFecha': '2017-03-15T12:00:00.000Z', 'codes': [6]}\n",
      "------------\n",
      "VIN 1FTNW20FX2EB73728\n",
      "{'anioModelo': '2002', 'fabricante': 'FORD MOTOR COMPANY', 'marca': 'FORD', 'modelo': 'F-250 SUPER DUTY LARIAT', 'paisOrigen': 'ESTADOS UNIDOS (USA)', 'robo': False, 'roboFecha': None, 'codes': []}\n",
      "{'anioModelo': '2002', 'fabricante': 'FORD MOTOR COMPANY', 'marca': 'FORD', 'modelo': 'F-250 SUPER DUTY LARIAT', 'paisOrigen': 'ESTADOS UNIDOS (USA)', 'robo': True, 'roboFecha': '2009-02-04T12:00:00.000Z', 'codes': [6]}\n",
      "------------\n",
      "VIN 1G1ZD5EU0BF250268\n",
      "{'anioModelo': '2011', 'fabricante': 'GENERAL MOTORS LLC', 'marca': 'CHEVROLET', 'modelo': 'MALIBU LT', 'paisOrigen': 'ESTADOS UNIDOS (USA)', 'robo': False, 'roboFecha': None, 'codes': []}\n",
      "{'anioModelo': '2011', 'marca': 'CHEVROLET', 'modelo': 'MALIBU LT', 'robo': False, 'roboFecha': None, 'codes': []}\n",
      "------------\n",
      "VIN 1GCCS148558220255\n",
      "{'anioModelo': '2005', 'fabricante': 'GENERAL MOTORS LLC', 'marca': 'CHEVROLET', 'modelo': 'COLORADO Z85', 'paisOrigen': 'ESTADOS UNIDOS (USA)', 'robo': False, 'roboFecha': None, 'codes': []}\n",
      "{'anioModelo': '2005', 'fabricante': 'GENERAL MOTORS LLC', 'marca': 'CHEVROLET', 'modelo': 'COLORADO Z85', 'paisOrigen': 'ESTADOS UNIDOS (USA)', 'robo': True, 'roboFecha': '2019-07-31T12:00:00.000Z', 'codes': [6]}\n",
      "------------\n",
      "VIN 1GCEK19T93E356330\n",
      "{'anioModelo': '2003', 'fabricante': 'GENERAL MOTORS LLC', 'marca': 'CHEVROLET', 'modelo': 'SILVERADO 1500 LS', 'paisOrigen': 'ESTADOS UNIDOS (USA)', 'robo': False, 'roboFecha': None, 'codes': []}\n",
      "{'anioModelo': '2003', 'marca': 'CHEVROLET', 'modelo': 'SILVERADO 1500 LS', 'robo': False, 'roboFecha': None, 'codes': []}\n",
      "------------\n",
      "VIN 1GKDT13S342421706\n",
      "{'anioModelo': '2004', 'fabricante': 'GENERAL MOTORS LLC', 'marca': 'GMC', 'modelo': 'ENVOY SLE', 'paisOrigen': 'ESTADOS UNIDOS (USA)', 'robo': False, 'roboFecha': None, 'codes': []}\n",
      "{'anioModelo': '2004', 'marca': 'GMC', 'modelo': 'ENVOY SLE', 'robo': False, 'roboFecha': None, 'codes': []}\n",
      "------------\n",
      "VIN 1GKEC13Z94R246192\n",
      "{'anioModelo': '2004', 'fabricante': 'GENERAL MOTORS LLC', 'marca': 'GMC', 'modelo': 'YUKON', 'paisOrigen': 'ESTADOS UNIDOS (USA)', 'robo': False, 'roboFecha': None, 'codes': []}\n",
      "{'anioModelo': '2004', 'fabricante': 'GENERAL MOTORS LLC', 'marca': 'GMC', 'modelo': 'YUKON', 'paisOrigen': 'ESTADOS UNIDOS (USA)', 'robo': True, 'roboFecha': '2018-08-01T12:00:00.000Z', 'codes': [6]}\n",
      "------------\n",
      "VIN 1HTLDTVN0GHA63947\n",
      "{'anioModelo': '1986', 'fabricante': 'INTERNATIONAL MOTORS, LLC', 'marca': 'INTERNATIONAL', 'modelo': 'S SERIES 1954', 'paisOrigen': 'ESTADOS UNIDOS (USA)', 'robo': False, 'roboFecha': None, 'codes': []}\n",
      "{'anioModelo': '1986', 'marca': 'INTERNATIONAL', 'modelo': 'S SERIES 1954', 'robo': False, 'roboFecha': None, 'codes': []}\n",
      "------------\n",
      "VIN 1N4BL11D55C152181\n",
      "{'anioModelo': '2005', 'fabricante': 'NISSAN NORTH AMERICA, INC.', 'marca': 'NISSAN', 'modelo': 'ALTIMA 3.5 SE', 'paisOrigen': 'ESTADOS UNIDOS (USA)', 'robo': False, 'roboFecha': None, 'codes': []}\n",
      "{'anioModelo': '2005', 'fabricante': 'NISSAN NORTH AMERICA, INC.', 'marca': 'NISSAN', 'modelo': 'ALTIMA 3.5 SE', 'paisOrigen': 'ESTADOS UNIDOS (USA)', 'robo': True, 'roboFecha': None, 'codes': [6]}\n",
      "------------\n",
      "VIN 1N6SD11Y6VC416953\n",
      "{'anioModelo': '1997', 'fabricante': 'NISSAN NORTH AMERICA, INC.', 'marca': 'NISSAN', 'modelo': 'TRUCK XE', 'paisOrigen': 'ESTADOS UNIDOS (USA)', 'robo': False, 'roboFecha': None, 'codes': []}\n",
      "{'anioModelo': '1997', 'fabricante': 'NISSAN NORTH AMERICA, INC.', 'marca': 'NISSAN', 'modelo': 'TRUCK XE', 'paisOrigen': 'ESTADOS UNIDOS (USA)', 'robo': True, 'roboFecha': '2022-05-07T12:00:00.000Z', 'codes': [6]}\n",
      "------------\n",
      "VIN 2A4RR4DE1AR315031\n",
      "{'anioModelo': '2010', 'fabricante': 'FCA CANADA INC.', 'marca': 'CHRYSLER', 'modelo': 'TOWN AND COUNTRY LX', 'paisOrigen': 'CANADÁ', 'robo': False, 'roboFecha': None, 'codes': []}\n",
      "{'anioModelo': '2010', 'fabricante': 'FCA CANADA INC.', 'marca': 'CHRYSLER', 'modelo': 'TOWN AND COUNTRY LX', 'paisOrigen': 'CANADÁ', 'robo': True, 'roboFecha': None, 'codes': [6]}\n",
      "------------\n",
      "VIN 2C3CDXGJ0HH644067\n",
      "{'anioModelo': '2017', 'fabricante': 'FCA CANADA INC.', 'marca': 'DODGE', 'modelo': 'CHARGER R/T SCAT PACK', 'paisOrigen': 'CANADÁ', 'robo': False, 'roboFecha': None, 'codes': []}\n",
      "{'anioModelo': '2017', 'fabricante': 'FCA CANADA INC.', 'marca': 'DODGE', 'modelo': 'CHARGER R/T SCAT PACK', 'paisOrigen': 'CANADÁ', 'robo': True, 'roboFecha': '2022-10-10T12:00:00.000Z', 'codes': [6]}\n",
      "------------\n",
      "VIN 3FAHP0JA8AR340851\n",
      "{'anioModelo': '2010', 'marca': 'FORD', 'modelo': 'FUSION SEL', 'robo': False, 'roboFecha': None, 'codes': []}\n",
      "{'anioModelo': '2010', 'fabricante': 'FORD MOTOR COMPANY, MEXICO', 'marca': 'FORD', 'modelo': 'FUSION SEL', 'paisOrigen': 'MÉXICO', 'robo': False, 'roboFecha': None, 'codes': []}\n",
      "------------\n",
      "VIN 3GTU2NEC7JG416507\n",
      "{'anioModelo': '2018', 'fabricante': 'GENERAL MOTORS LLC', 'marca': 'GMC', 'modelo': 'SIERRA 1500 SLT', 'paisOrigen': 'MÉXICO', 'robo': True, 'roboFecha': '2024-11-11T12:00:00.000Z', 'codes': [6]}\n",
      "{'anioModelo': '2018', 'fabricante': 'GENERAL MOTORS LLC', 'marca': 'GMC', 'modelo': 'SIERRA 1500 SLT', 'paisOrigen': 'MÉXICO', 'robo': False, 'roboFecha': None, 'codes': []}\n",
      "------------\n",
      "VIN 3KPFK4A78HE136256\n",
      "{'anioModelo': '2017', 'fabricante': 'KIA MEXICO S.A. DE C.V.', 'marca': 'KIA', 'modelo': 'FORTE LX', 'paisOrigen': 'MÉXICO', 'robo': False, 'roboFecha': None, 'codes': []}\n",
      "{'anioModelo': '2017', 'fabricante': 'KIA MEXICO S.A. DE C.V.', 'marca': 'KIA', 'modelo': 'FORTE LX', 'paisOrigen': 'MÉXICO', 'robo': True, 'roboFecha': '2023-11-19T12:00:00.000Z', 'codes': [6]}\n",
      "------------\n",
      "VIN 3N1AB7AD3JL673266\n",
      "{'anioModelo': '2018', 'fabricante': 'NISSAN MEXICANA, S.A. DE C.V.', 'marca': 'NISSAN', 'modelo': 'SENTRA', 'paisOrigen': 'MÉXICO', 'robo': False, 'roboFecha': None, 'codes': [4]}\n",
      "{'anioModelo': None, 'marca': None, 'modelo': None, 'robo': False, 'roboFecha': None, 'codes': []}\n",
      "------------\n",
      "VIN 3N1CB51D01L425456\n",
      "{'anioModelo': '2001', 'fabricante': 'NISSAN MEXICANA, S.A. DE C.V.', 'marca': 'NISSAN', 'modelo': 'SENTRA GXE', 'paisOrigen': 'MÉXICO', 'robo': False, 'roboFecha': None, 'codes': []}\n",
      "{'anioModelo': '2001', 'marca': 'NISSAN', 'modelo': 'SENTRA GXE', 'robo': False, 'roboFecha': None, 'codes': []}\n",
      "------------\n",
      "VIN 3N1CN7AP7JK398484\n",
      "{'anioModelo': '2018', 'fabricante': 'NISSAN MEXICANA, S.A. DE C.V.', 'marca': 'NISSAN', 'modelo': 'VERSA SV', 'paisOrigen': 'MÉXICO', 'robo': False, 'roboFecha': None, 'codes': []}\n",
      "{'anioModelo': '2018', 'fabricante': 'NISSAN MEXICANA, S.A. DE C.V.', 'marca': 'NISSAN', 'modelo': 'VERSA SV', 'paisOrigen': 'MÉXICO', 'robo': True, 'roboFecha': '2019-07-17T12:00:00.000Z', 'codes': [6]}\n",
      "------------\n",
      "VIN 5NPE24AF0HH520224\n",
      "{'anioModelo': '2017', 'fabricante': 'HYUNDAI-KIA AMERICA TECHNICAL CENTER INC (HATCI)', 'marca': 'HYUNDAI', 'modelo': 'SONATA BASE/SE', 'paisOrigen': 'ESTADOS UNIDOS (USA)', 'robo': False, 'roboFecha': None, 'codes': []}\n",
      "{'anioModelo': '2017', 'fabricante': 'HYUNDAI-KIA AMERICA TECHNICAL CENTER INC (HATCI)', 'marca': 'HYUNDAI', 'modelo': 'SONATA BASE/SE', 'paisOrigen': 'ESTADOS UNIDOS (USA)', 'robo': True, 'roboFecha': '2017-02-20T12:00:00.000Z', 'codes': [6]}\n",
      "------------\n",
      "VIN 5XYKT4A61CG229893\n",
      "{'anioModelo': '2012', 'fabricante': 'KIA GEORGIA, INC', 'marca': 'KIA', 'modelo': 'SORENTO LX', 'paisOrigen': 'ESTADOS UNIDOS (USA)', 'robo': False, 'roboFecha': None, 'codes': []}\n",
      "{'anioModelo': '2012', 'fabricante': 'KIA GEORGIA, INC', 'marca': 'KIA', 'modelo': 'SORENTO LX', 'paisOrigen': 'ESTADOS UNIDOS (USA)', 'robo': True, 'roboFecha': '2024-07-17T12:00:00.000Z', 'codes': [6]}\n",
      "------------\n",
      "VIN KM8J23A47HU260512\n",
      "{'anioModelo': '2017', 'fabricante': 'HYUNDAI MOTOR CO', 'marca': 'HYUNDAI', 'modelo': 'TUCSON SE', 'paisOrigen': 'COREA DEL SUR', 'robo': False, 'roboFecha': None, 'codes': []}\n",
      "{'anioModelo': '2017', 'fabricante': 'HYUNDAI MOTOR CO', 'marca': 'HYUNDAI', 'modelo': 'TUCSON SE', 'paisOrigen': 'COREA DEL SUR', 'robo': True, 'roboFecha': '2024-09-27T12:00:00.000Z', 'codes': [6]}\n",
      "------------\n",
      "VIN KM8J33A4XHU461611\n",
      "{'anioModelo': '2017', 'fabricante': 'HYUNDAI MOTOR CO', 'marca': 'HYUNDAI', 'modelo': 'TUCSON SE', 'paisOrigen': 'COREA DEL SUR', 'robo': False, 'roboFecha': None, 'codes': []}\n",
      "{'anioModelo': '2017', 'fabricante': 'HYUNDAI MOTOR CO', 'marca': 'HYUNDAI', 'modelo': 'TUCSON SE', 'paisOrigen': 'COREA DEL SUR', 'robo': True, 'roboFecha': '2023-04-09T12:00:00.000Z', 'codes': [6]}\n",
      "------------\n",
      "VIN KNDJP3A59G7350563\n",
      "{'anioModelo': '2016', 'fabricante': 'KIA CORPORATION', 'marca': 'KIA', 'modelo': 'SOUL +', 'paisOrigen': 'COREA DEL SUR', 'robo': False, 'roboFecha': None, 'codes': []}\n",
      "{'anioModelo': '2016', 'fabricante': 'KIA CORPORATION', 'marca': 'KIA', 'modelo': 'SOUL +', 'paisOrigen': 'COREA DEL SUR', 'robo': True, 'roboFecha': '2024-09-17T12:00:00.000Z', 'codes': [6]}\n",
      "------------\n"
     ]
    }
   ],
   "source": [
    "for response in differentResponseVins:\n",
    "    print('VIN', response)\n",
    "    for information in verifyResponses['uniqueResponses'][response]:\n",
    "        print(information)\n",
    "    print('------------')"
   ]
  },
  {
   "cell_type": "code",
   "execution_count": 58,
   "id": "3042e7af-9ae4-46bc-a97b-8baeb567f0f9",
   "metadata": {},
   "outputs": [],
   "source": [
    "df[df['firewallUsa']==1].style.apply(highlight_odd_rows);"
   ]
  },
  {
   "cell_type": "code",
   "execution_count": 59,
   "id": "f39cebf8-e889-45c6-8bad-f986da4fa9c9",
   "metadata": {},
   "outputs": [
    {
     "name": "stdout",
     "output_type": "stream",
     "text": [
      "0.2407155631360326\n"
     ]
    }
   ],
   "source": [
    "# Cálculo de la probabilidad usando la fórmula previamente descrita\n",
    "prob_menor_o_igual_a_6 = 0.99725\n",
    "prob_ninguno_mayor_a_6 = prob_menor_o_igual_a_6 ** 100\n",
    "prob_al_menos_uno_mayor_a_6 = 1 - prob_ninguno_mayor_a_6\n",
    "\n",
    "print(prob_al_menos_uno_mayor_a_6)"
   ]
  },
  {
   "cell_type": "code",
   "execution_count": 60,
   "id": "b8d57a53-b7e7-4065-a63a-2d6da7afa604",
   "metadata": {},
   "outputs": [
    {
     "name": "stdout",
     "output_type": "stream",
     "text": [
      "0.057943982335897294\n"
     ]
    }
   ],
   "source": [
    "print(prob_al_menos_uno_mayor_a_6**2)"
   ]
  },
  {
   "cell_type": "code",
   "execution_count": null,
   "id": "01e5dd46-b1f9-412c-a103-68daa02b6446",
   "metadata": {},
   "outputs": [],
   "source": []
  }
 ],
 "metadata": {
  "kernelspec": {
   "display_name": "msvenv1",
   "language": "python",
   "name": "msvenv1"
  },
  "language_info": {
   "codemirror_mode": {
    "name": "ipython",
    "version": 3
   },
   "file_extension": ".py",
   "mimetype": "text/x-python",
   "name": "python",
   "nbconvert_exporter": "python",
   "pygments_lexer": "ipython3",
   "version": "3.12.4"
  }
 },
 "nbformat": 4,
 "nbformat_minor": 5
}
