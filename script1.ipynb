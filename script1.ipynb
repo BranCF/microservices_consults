{
 "cells": [
  {
   "cell_type": "code",
   "execution_count": 1,
   "id": "e561fb62-2036-46a7-b6eb-60a2349ebe03",
   "metadata": {},
   "outputs": [],
   "source": [
    "import numpy as np\n",
    "import pandas as pd\n",
    "import matplotlib.pyplot as plt\n",
    "import json"
   ]
  },
  {
   "cell_type": "code",
   "execution_count": 2,
   "id": "2d7fbd43-684a-48c5-84ac-7100c1307636",
   "metadata": {},
   "outputs": [],
   "source": [
    "plt.style.use('dark_background') \n",
    "\n",
    "def highlight_odd_rows(s):\n",
    "    styles = []\n",
    "    for i in range(len(s)):\n",
    "        if i % 2 == 1:\n",
    "            styles.append('background-color: indigo; border: 1px solid white;')\n",
    "        else:\n",
    "            styles.append('border: 1px solid white;')\n",
    "    return styles"
   ]
  },
  {
   "cell_type": "code",
   "execution_count": 3,
   "id": "e14d3b75-5672-4695-b9b7-95ade2198496",
   "metadata": {},
   "outputs": [],
   "source": [
    "df = pd.read_csv(\"consultassec.csv\")"
   ]
  },
  {
   "cell_type": "code",
   "execution_count": 4,
   "id": "66b3d7ae-cd56-425f-8168-0b71cdb39150",
   "metadata": {
    "scrolled": true
   },
   "outputs": [
    {
     "data": {
      "text/html": [
       "<style type=\"text/css\">\n",
       "#T_97086_row0_col0, #T_97086_row0_col1, #T_97086_row0_col2, #T_97086_row0_col3, #T_97086_row0_col4, #T_97086_row0_col5, #T_97086_row0_col6, #T_97086_row0_col7, #T_97086_row0_col8, #T_97086_row0_col9, #T_97086_row0_col10, #T_97086_row0_col11, #T_97086_row0_col12, #T_97086_row0_col13, #T_97086_row0_col14, #T_97086_row0_col15, #T_97086_row0_col16, #T_97086_row0_col17, #T_97086_row0_col18, #T_97086_row0_col19, #T_97086_row2_col0, #T_97086_row2_col1, #T_97086_row2_col2, #T_97086_row2_col3, #T_97086_row2_col4, #T_97086_row2_col5, #T_97086_row2_col6, #T_97086_row2_col7, #T_97086_row2_col8, #T_97086_row2_col9, #T_97086_row2_col10, #T_97086_row2_col11, #T_97086_row2_col12, #T_97086_row2_col13, #T_97086_row2_col14, #T_97086_row2_col15, #T_97086_row2_col16, #T_97086_row2_col17, #T_97086_row2_col18, #T_97086_row2_col19, #T_97086_row4_col0, #T_97086_row4_col1, #T_97086_row4_col2, #T_97086_row4_col3, #T_97086_row4_col4, #T_97086_row4_col5, #T_97086_row4_col6, #T_97086_row4_col7, #T_97086_row4_col8, #T_97086_row4_col9, #T_97086_row4_col10, #T_97086_row4_col11, #T_97086_row4_col12, #T_97086_row4_col13, #T_97086_row4_col14, #T_97086_row4_col15, #T_97086_row4_col16, #T_97086_row4_col17, #T_97086_row4_col18, #T_97086_row4_col19 {\n",
       "  border: 1px solid white;\n",
       "}\n",
       "#T_97086_row1_col0, #T_97086_row1_col1, #T_97086_row1_col2, #T_97086_row1_col3, #T_97086_row1_col4, #T_97086_row1_col5, #T_97086_row1_col6, #T_97086_row1_col7, #T_97086_row1_col8, #T_97086_row1_col9, #T_97086_row1_col10, #T_97086_row1_col11, #T_97086_row1_col12, #T_97086_row1_col13, #T_97086_row1_col14, #T_97086_row1_col15, #T_97086_row1_col16, #T_97086_row1_col17, #T_97086_row1_col18, #T_97086_row1_col19, #T_97086_row3_col0, #T_97086_row3_col1, #T_97086_row3_col2, #T_97086_row3_col3, #T_97086_row3_col4, #T_97086_row3_col5, #T_97086_row3_col6, #T_97086_row3_col7, #T_97086_row3_col8, #T_97086_row3_col9, #T_97086_row3_col10, #T_97086_row3_col11, #T_97086_row3_col12, #T_97086_row3_col13, #T_97086_row3_col14, #T_97086_row3_col15, #T_97086_row3_col16, #T_97086_row3_col17, #T_97086_row3_col18, #T_97086_row3_col19 {\n",
       "  background-color: indigo;\n",
       "  border: 1px solid white;\n",
       "}\n",
       "</style>\n",
       "<table id=\"T_97086\">\n",
       "  <thead>\n",
       "    <tr>\n",
       "      <th class=\"blank level0\" >&nbsp;</th>\n",
       "      <th id=\"T_97086_level0_col0\" class=\"col_heading level0 col0\" >VIN</th>\n",
       "      <th id=\"T_97086_level0_col1\" class=\"col_heading level0 col1\" >_id</th>\n",
       "      <th id=\"T_97086_level0_col2\" class=\"col_heading level0 col2\" >host</th>\n",
       "      <th id=\"T_97086_level0_col3\" class=\"col_heading level0 col3\" >ip</th>\n",
       "      <th id=\"T_97086_level0_col4\" class=\"col_heading level0 col4\" >apiKey</th>\n",
       "      <th id=\"T_97086_level0_col5\" class=\"col_heading level0 col5\" >userId</th>\n",
       "      <th id=\"T_97086_level0_col6\" class=\"col_heading level0 col6\" >idReporte</th>\n",
       "      <th id=\"T_97086_level0_col7\" class=\"col_heading level0 col7\" >requestParameters</th>\n",
       "      <th id=\"T_97086_level0_col8\" class=\"col_heading level0 col8\" >requestUrl</th>\n",
       "      <th id=\"T_97086_level0_col9\" class=\"col_heading level0 col9\" >responseCode</th>\n",
       "      <th id=\"T_97086_level0_col10\" class=\"col_heading level0 col10\" >responseCodeStatus</th>\n",
       "      <th id=\"T_97086_level0_col11\" class=\"col_heading level0 col11\" >requestTime</th>\n",
       "      <th id=\"T_97086_level0_col12\" class=\"col_heading level0 col12\" >responseTime</th>\n",
       "      <th id=\"T_97086_level0_col13\" class=\"col_heading level0 col13\" >labels</th>\n",
       "      <th id=\"T_97086_level0_col14\" class=\"col_heading level0 col14\" >idRespuesta</th>\n",
       "      <th id=\"T_97086_level0_col15\" class=\"col_heading level0 col15\" >idConsulta</th>\n",
       "      <th id=\"T_97086_level0_col16\" class=\"col_heading level0 col16\" >responseBody</th>\n",
       "      <th id=\"T_97086_level0_col17\" class=\"col_heading level0 col17\" >carfaxUsaData</th>\n",
       "      <th id=\"T_97086_level0_col18\" class=\"col_heading level0 col18\" >alertas</th>\n",
       "      <th id=\"T_97086_level0_col19\" class=\"col_heading level0 col19\" >firewallUsa</th>\n",
       "    </tr>\n",
       "  </thead>\n",
       "  <tbody>\n",
       "    <tr>\n",
       "      <th id=\"T_97086_level0_row0\" class=\"row_heading level0 row0\" >0</th>\n",
       "      <td id=\"T_97086_row0_col0\" class=\"data row0 col0\" >1FTCR1002MUC67747</td>\n",
       "      <td id=\"T_97086_row0_col1\" class=\"data row0 col1\" >672a4446124bd56498eadd97</td>\n",
       "      <td id=\"T_97086_row0_col2\" class=\"data row0 col2\" >10.240.2.38:80</td>\n",
       "      <td id=\"T_97086_row0_col3\" class=\"data row0 col3\" >201.116.128.213:25288,10.240.5.208, 127.0.0.6</td>\n",
       "      <td id=\"T_97086_row0_col4\" class=\"data row0 col4\" >6cNqbbTqBnZEchPZ2YYn</td>\n",
       "      <td id=\"T_97086_row0_col5\" class=\"data row0 col5\" >nan</td>\n",
       "      <td id=\"T_97086_row0_col6\" class=\"data row0 col6\" >nan</td>\n",
       "      <td id=\"T_97086_row0_col7\" class=\"data row0 col7\" >{}</td>\n",
       "      <td id=\"T_97086_row0_col8\" class=\"data row0 col8\" >/v2/regularizacion/1FTCR1002MUC67747</td>\n",
       "      <td id=\"T_97086_row0_col9\" class=\"data row0 col9\" >200</td>\n",
       "      <td id=\"T_97086_row0_col10\" class=\"data row0 col10\" >ok</td>\n",
       "      <td id=\"T_97086_row0_col11\" class=\"data row0 col11\" >5/11/2024 10:13:58</td>\n",
       "      <td id=\"T_97086_row0_col12\" class=\"data row0 col12\" >5/11/2024 10:14:00</td>\n",
       "      <td id=\"T_97086_row0_col13\" class=\"data row0 col13\" >nan</td>\n",
       "      <td id=\"T_97086_row0_col14\" class=\"data row0 col14\" >672a4448124bd56498eadd98</td>\n",
       "      <td id=\"T_97086_row0_col15\" class=\"data row0 col15\" >672a4446124bd56498eadd97</td>\n",
       "      <td id=\"T_97086_row0_col16\" class=\"data row0 col16\" >{\"mensajes\":[{\"codigo\":4,\"mensaje\":\"El dígito verificador en la 9° posición del VIN 1FTCR1002MUC67747 NO es correcto.\"}],\"marca\":\"FORD\",\"modelo\":\"RANGER\",\"anioModelo\":\"1991\",\"robo\":false,\"roboFecha\":null,\"fabricante\":\"FORD MOTOR COMPANY\",\"paisOrigen\":\"ESTADOS UNIDOS (USA)\",\"tiempoConsulta\":\"2024-11-05T10:13:58-06:00\",\"tiempoRespuesta\":\"2024-11-05T10:14:00-06:00\"}</td>\n",
       "      <td id=\"T_97086_row0_col17\" class=\"data row0 col17\" >{\"error\":\"VIN INVALIDO\",\"respuestaCompleta\":{\"vin\":\"1FTCR1002MUC67747\",\"timestamp\":\"2024-11-05T10:13:58.000\",\"error\":{\"message\":\"The VIN you entered was invalid\"},\"vinSuggestions\":[{\"vin\":\"1FTCR10U2MUC67747\",\"description\":\"1991 FORD/RANGER CUSTOM/3.0L V6    F\"},{\"vin\":\"1FTEX1CP2MKC67747\",\"description\":\"2021 FORD/F150 SUPER CAB/2.7L V6    F DOHC 24V\"},{\"vin\":\"1FTRS4UG2MKC67747\",\"description\":\"2021 FORD/TRANSIT T-350 HD/3.5L V6\"}]}}</td>\n",
       "      <td id=\"T_97086_row0_col18\" class=\"data row0 col18\" >[{\"codigo\":4,\"mensaje\":\"El dígito verificador en la 9° posición del VIN 1FTCR1002MUC67747 NO es correcto.\"}]</td>\n",
       "      <td id=\"T_97086_row0_col19\" class=\"data row0 col19\" >0</td>\n",
       "    </tr>\n",
       "    <tr>\n",
       "      <th id=\"T_97086_level0_row1\" class=\"row_heading level0 row1\" >1</th>\n",
       "      <td id=\"T_97086_row1_col0\" class=\"data row1 col0\" >KL8CB6SA6HC706067</td>\n",
       "      <td id=\"T_97086_row1_col1\" class=\"data row1 col1\" >672a44417384826621095dcd</td>\n",
       "      <td id=\"T_97086_row1_col2\" class=\"data row1 col2\" >10.240.2.38:80</td>\n",
       "      <td id=\"T_97086_row1_col3\" class=\"data row1 col3\" >201.116.128.213:25288,10.240.5.208, 127.0.0.6</td>\n",
       "      <td id=\"T_97086_row1_col4\" class=\"data row1 col4\" >6cNqbbTqBnZEchPZ2YYn</td>\n",
       "      <td id=\"T_97086_row1_col5\" class=\"data row1 col5\" >nan</td>\n",
       "      <td id=\"T_97086_row1_col6\" class=\"data row1 col6\" >nan</td>\n",
       "      <td id=\"T_97086_row1_col7\" class=\"data row1 col7\" >{}</td>\n",
       "      <td id=\"T_97086_row1_col8\" class=\"data row1 col8\" >/v2/regularizacion/KL8CB6SA6HC706067</td>\n",
       "      <td id=\"T_97086_row1_col9\" class=\"data row1 col9\" >200</td>\n",
       "      <td id=\"T_97086_row1_col10\" class=\"data row1 col10\" >ok</td>\n",
       "      <td id=\"T_97086_row1_col11\" class=\"data row1 col11\" >5/11/2024 10:13:53</td>\n",
       "      <td id=\"T_97086_row1_col12\" class=\"data row1 col12\" >5/11/2024 10:13:56</td>\n",
       "      <td id=\"T_97086_row1_col13\" class=\"data row1 col13\" >nan</td>\n",
       "      <td id=\"T_97086_row1_col14\" class=\"data row1 col14\" >672a44447384826621095dce</td>\n",
       "      <td id=\"T_97086_row1_col15\" class=\"data row1 col15\" >672a44417384826621095dcd</td>\n",
       "      <td id=\"T_97086_row1_col16\" class=\"data row1 col16\" >{\"mensajes\":[],\"robo\":false,\"roboFecha\":null,\"marca\":\"CHEVROLET\",\"modelo\":\"SPARK LS CVT\",\"anioModelo\":\"2017\",\"fabricante\":\"GENERAL MOTORS LLC\",\"paisOrigen\":\"COREA DEL SUR\",\"tiempoConsulta\":\"2024-11-05T10:13:53-06:00\",\"tiempoRespuesta\":\"2024-11-05T10:13:56-06:00\"}</td>\n",
       "      <td id=\"T_97086_row1_col17\" class=\"data row1 col17\" >{\"vin\":\"KL8CB6SA6HC706067\",\"timestamp\":\"2024-11-05T10:13:53.000\",\"components\":{\"potentialFraudFile\":{\"year\":2017,\"make\":\"CHEVROLET\",\"model\":\"SPARK LS CVT\",\"rateEvasionFlags\":[],\"potentialFraudFlags\":[],\"vinCloningFlags\":[]}},\"customCalculationOdometer\":\"\"}</td>\n",
       "      <td id=\"T_97086_row1_col18\" class=\"data row1 col18\" >[]</td>\n",
       "      <td id=\"T_97086_row1_col19\" class=\"data row1 col19\" >0</td>\n",
       "    </tr>\n",
       "    <tr>\n",
       "      <th id=\"T_97086_level0_row2\" class=\"row_heading level0 row2\" >2</th>\n",
       "      <td id=\"T_97086_row2_col0\" class=\"data row2 col0\" >1HGCR2F33DA191155</td>\n",
       "      <td id=\"T_97086_row2_col1\" class=\"data row2 col1\" >672a443f69994fdacd6fe53c</td>\n",
       "      <td id=\"T_97086_row2_col2\" class=\"data row2 col2\" >10.240.2.38:80</td>\n",
       "      <td id=\"T_97086_row2_col3\" class=\"data row2 col3\" >201.116.128.213:25287,10.240.6.41, 127.0.0.6</td>\n",
       "      <td id=\"T_97086_row2_col4\" class=\"data row2 col4\" >6cNqbbTqBnZEchPZ2YYn</td>\n",
       "      <td id=\"T_97086_row2_col5\" class=\"data row2 col5\" >nan</td>\n",
       "      <td id=\"T_97086_row2_col6\" class=\"data row2 col6\" >nan</td>\n",
       "      <td id=\"T_97086_row2_col7\" class=\"data row2 col7\" >{}</td>\n",
       "      <td id=\"T_97086_row2_col8\" class=\"data row2 col8\" >/v2/regularizacion/1HGCR2F33DA191155</td>\n",
       "      <td id=\"T_97086_row2_col9\" class=\"data row2 col9\" >200</td>\n",
       "      <td id=\"T_97086_row2_col10\" class=\"data row2 col10\" >ok</td>\n",
       "      <td id=\"T_97086_row2_col11\" class=\"data row2 col11\" >5/11/2024 10:13:51</td>\n",
       "      <td id=\"T_97086_row2_col12\" class=\"data row2 col12\" >5/11/2024 10:13:54</td>\n",
       "      <td id=\"T_97086_row2_col13\" class=\"data row2 col13\" >nan</td>\n",
       "      <td id=\"T_97086_row2_col14\" class=\"data row2 col14\" >672a444269994fdacd6fe53d</td>\n",
       "      <td id=\"T_97086_row2_col15\" class=\"data row2 col15\" >672a443f69994fdacd6fe53c</td>\n",
       "      <td id=\"T_97086_row2_col16\" class=\"data row2 col16\" >{\"mensajes\":[],\"robo\":false,\"roboFecha\":null,\"marca\":\"HONDA\",\"modelo\":\"ACCORD LX\",\"anioModelo\":\"2013\",\"fabricante\":\"AMERICAN HONDA MOTOR CO., INC.\",\"paisOrigen\":\"ESTADOS UNIDOS (USA)\",\"tiempoConsulta\":\"2024-11-05T10:13:51-06:00\",\"tiempoRespuesta\":\"2024-11-05T10:13:54-06:00\"}</td>\n",
       "      <td id=\"T_97086_row2_col17\" class=\"data row2 col17\" >{\"vin\":\"1HGCR2F33DA191155\",\"timestamp\":\"2024-11-05T10:13:52.000\",\"components\":{\"potentialFraudFile\":{\"year\":2013,\"make\":\"HONDA\",\"model\":\"ACCORD LX\",\"rateEvasionFlags\":[],\"potentialFraudFlags\":[],\"vinCloningFlags\":[]}},\"customCalculationOdometer\":\"\"}</td>\n",
       "      <td id=\"T_97086_row2_col18\" class=\"data row2 col18\" >[]</td>\n",
       "      <td id=\"T_97086_row2_col19\" class=\"data row2 col19\" >0</td>\n",
       "    </tr>\n",
       "    <tr>\n",
       "      <th id=\"T_97086_level0_row3\" class=\"row_heading level0 row3\" >3</th>\n",
       "      <td id=\"T_97086_row3_col0\" class=\"data row3 col0\" >5TBRT34123S422249</td>\n",
       "      <td id=\"T_97086_row3_col1\" class=\"data row3 col1\" >672a44357384826621095dcb</td>\n",
       "      <td id=\"T_97086_row3_col2\" class=\"data row3 col2\" >10.240.2.38:80</td>\n",
       "      <td id=\"T_97086_row3_col3\" class=\"data row3 col3\" >201.116.128.213:25286,10.240.3.57, 127.0.0.6</td>\n",
       "      <td id=\"T_97086_row3_col4\" class=\"data row3 col4\" >6cNqbbTqBnZEchPZ2YYn</td>\n",
       "      <td id=\"T_97086_row3_col5\" class=\"data row3 col5\" >nan</td>\n",
       "      <td id=\"T_97086_row3_col6\" class=\"data row3 col6\" >nan</td>\n",
       "      <td id=\"T_97086_row3_col7\" class=\"data row3 col7\" >{}</td>\n",
       "      <td id=\"T_97086_row3_col8\" class=\"data row3 col8\" >/v2/regularizacion/5TBRT34123S422249</td>\n",
       "      <td id=\"T_97086_row3_col9\" class=\"data row3 col9\" >200</td>\n",
       "      <td id=\"T_97086_row3_col10\" class=\"data row3 col10\" >ok</td>\n",
       "      <td id=\"T_97086_row3_col11\" class=\"data row3 col11\" >5/11/2024 10:13:41</td>\n",
       "      <td id=\"T_97086_row3_col12\" class=\"data row3 col12\" >5/11/2024 10:13:42</td>\n",
       "      <td id=\"T_97086_row3_col13\" class=\"data row3 col13\" >nan</td>\n",
       "      <td id=\"T_97086_row3_col14\" class=\"data row3 col14\" >672a44367384826621095dcc</td>\n",
       "      <td id=\"T_97086_row3_col15\" class=\"data row3 col15\" >672a44357384826621095dcb</td>\n",
       "      <td id=\"T_97086_row3_col16\" class=\"data row3 col16\" >{\"mensajes\":[],\"robo\":false,\"roboFecha\":null,\"marca\":\"TOYOTA\",\"modelo\":\"TUNDRA SR5\",\"anioModelo\":\"2003\",\"fabricante\":\"TOYOTA MOTOR MANUFACTURING, INDIANA, INC.\",\"paisOrigen\":\"ESTADOS UNIDOS (USA)\",\"tiempoConsulta\":\"2024-11-05T10:13:41-06:00\",\"tiempoRespuesta\":\"2024-11-05T10:13:42-06:00\"}</td>\n",
       "      <td id=\"T_97086_row3_col17\" class=\"data row3 col17\" >{\"vin\":\"5TBRT34123S422249\",\"timestamp\":\"2024-11-05T10:13:41.000\",\"components\":{\"potentialFraudFile\":{\"year\":2003,\"make\":\"TOYOTA\",\"model\":\"TUNDRA SR5\",\"rateEvasionFlags\":[],\"potentialFraudFlags\":[],\"vinCloningFlags\":[\"Inactive\"]}},\"customCalculationOdometer\":\"\"}</td>\n",
       "      <td id=\"T_97086_row3_col18\" class=\"data row3 col18\" >[]</td>\n",
       "      <td id=\"T_97086_row3_col19\" class=\"data row3 col19\" >0</td>\n",
       "    </tr>\n",
       "    <tr>\n",
       "      <th id=\"T_97086_level0_row4\" class=\"row_heading level0 row4\" >4</th>\n",
       "      <td id=\"T_97086_row4_col0\" class=\"data row4 col0\" >5LTPW18597FJ10858</td>\n",
       "      <td id=\"T_97086_row4_col1\" class=\"data row4 col1\" >672a442d124bd56498eadd95</td>\n",
       "      <td id=\"T_97086_row4_col2\" class=\"data row4 col2\" >10.240.2.38:80</td>\n",
       "      <td id=\"T_97086_row4_col3\" class=\"data row4 col3\" >201.116.128.213:25285,10.240.5.210, 127.0.0.6</td>\n",
       "      <td id=\"T_97086_row4_col4\" class=\"data row4 col4\" >6cNqbbTqBnZEchPZ2YYn</td>\n",
       "      <td id=\"T_97086_row4_col5\" class=\"data row4 col5\" >nan</td>\n",
       "      <td id=\"T_97086_row4_col6\" class=\"data row4 col6\" >nan</td>\n",
       "      <td id=\"T_97086_row4_col7\" class=\"data row4 col7\" >{}</td>\n",
       "      <td id=\"T_97086_row4_col8\" class=\"data row4 col8\" >/v2/regularizacion/5LTPW18597FJ10858</td>\n",
       "      <td id=\"T_97086_row4_col9\" class=\"data row4 col9\" >200</td>\n",
       "      <td id=\"T_97086_row4_col10\" class=\"data row4 col10\" >ok</td>\n",
       "      <td id=\"T_97086_row4_col11\" class=\"data row4 col11\" >5/11/2024 10:13:33</td>\n",
       "      <td id=\"T_97086_row4_col12\" class=\"data row4 col12\" >5/11/2024 10:13:35</td>\n",
       "      <td id=\"T_97086_row4_col13\" class=\"data row4 col13\" >nan</td>\n",
       "      <td id=\"T_97086_row4_col14\" class=\"data row4 col14\" >672a442f124bd56498eadd96</td>\n",
       "      <td id=\"T_97086_row4_col15\" class=\"data row4 col15\" >672a442d124bd56498eadd95</td>\n",
       "      <td id=\"T_97086_row4_col16\" class=\"data row4 col16\" >{\"mensajes\":[],\"robo\":false,\"roboFecha\":null,\"marca\":\"LINCOLN\",\"modelo\":\"MARK LT\",\"anioModelo\":\"2007\",\"fabricante\":\"FORD MOTOR COMPANY\",\"paisOrigen\":\"ESTADOS UNIDOS (USA)\",\"tiempoConsulta\":\"2024-11-05T10:13:33-06:00\",\"tiempoRespuesta\":\"2024-11-05T10:13:35-06:00\"}</td>\n",
       "      <td id=\"T_97086_row4_col17\" class=\"data row4 col17\" >{\"vin\":\"5LTPW18597FJ10858\",\"timestamp\":\"2024-11-05T10:13:34.000\",\"components\":{\"potentialFraudFile\":{\"year\":2007,\"make\":\"LINCOLN\",\"model\":\"MARK LT\",\"rateEvasionFlags\":[],\"potentialFraudFlags\":[],\"vinCloningFlags\":[]}},\"customCalculationOdometer\":\"\"}</td>\n",
       "      <td id=\"T_97086_row4_col18\" class=\"data row4 col18\" >[]</td>\n",
       "      <td id=\"T_97086_row4_col19\" class=\"data row4 col19\" >0</td>\n",
       "    </tr>\n",
       "  </tbody>\n",
       "</table>\n"
      ],
      "text/plain": [
       "<pandas.io.formats.style.Styler at 0x107790c50>"
      ]
     },
     "execution_count": 4,
     "metadata": {},
     "output_type": "execute_result"
    }
   ],
   "source": [
    "df.head().style.apply(highlight_odd_rows)"
   ]
  },
  {
   "cell_type": "code",
   "execution_count": 5,
   "id": "9b9a70f5-5219-4588-a999-eaab9a611b54",
   "metadata": {},
   "outputs": [],
   "source": [
    "def getDfSize(df):\n",
    "    rows = len(df.axes[0])\n",
    "    columns = len(df.axes[1])\n",
    "\n",
    "    return {'rows': rows, 'columns': columns}"
   ]
  },
  {
   "cell_type": "code",
   "execution_count": 6,
   "id": "e7678dc0-6bd7-484d-bc0f-47274150e525",
   "metadata": {},
   "outputs": [
    {
     "data": {
      "text/plain": [
       "{'rows': 1000, 'columns': 20}"
      ]
     },
     "execution_count": 6,
     "metadata": {},
     "output_type": "execute_result"
    }
   ],
   "source": [
    "getDfSize(df)"
   ]
  },
  {
   "cell_type": "markdown",
   "id": "ff6ece2d-5e9d-4742-8a80-7d3bf14ebffa",
   "metadata": {},
   "source": [
    "<h3>La siguiente función extrae las distintas llaves de cada diccionario que contenga una columna como valor en el dataframe</h3>"
   ]
  },
  {
   "cell_type": "code",
   "execution_count": 8,
   "id": "f8a6148e-ceb5-460a-9321-ea6468e8015f",
   "metadata": {},
   "outputs": [],
   "source": [
    "def determineDistinctKeys(columnToList): #Recibe una lista, no una dataframe column\n",
    "    distinctKeysDict = {}\n",
    "    distinctKeysList = []\n",
    "    for dictionary in columnToList:\n",
    "        dictionary = json.loads(dictionary)\n",
    "        orderedKeys = sorted(list(dictionary.keys()))\n",
    "        if orderedKeys in distinctKeysList:\n",
    "            distinctKeysDict['/'.join(orderedKeys)] += 1\n",
    "        else:\n",
    "            distinctKeysList.append(orderedKeys)\n",
    "            distinctKeysDict['/'.join(orderedKeys)] = 0\n",
    "    return distinctKeysDict"
   ]
  },
  {
   "cell_type": "markdown",
   "id": "1fc3c95c-0fc3-4221-a750-5f124287f91f",
   "metadata": {},
   "source": [
    "<h3>La siguiente función extrae los distintos valores de una columna en el dataframe</h3>"
   ]
  },
  {
   "cell_type": "code",
   "execution_count": 10,
   "id": "746b4361-edd0-4f48-9bbb-756840063671",
   "metadata": {},
   "outputs": [],
   "source": [
    "def determineDistinctValues(df, col): #Recibe el dataframe y la columna del dataframe que requiere ser revisado\n",
    "    return df[col].unique()"
   ]
  },
  {
   "cell_type": "markdown",
   "id": "85678a89-8a41-49bd-8bbd-09070d997df4",
   "metadata": {},
   "source": [
    "<h3>Con esto sabemos que la columna \"Response Body\" tiene un cuerpo idéntico para todos los casos</h3>"
   ]
  },
  {
   "cell_type": "code",
   "execution_count": 12,
   "id": "643b64b0-8016-4586-b651-6ebd94b41777",
   "metadata": {},
   "outputs": [],
   "source": [
    "responseBody = df['responseBody'].values.tolist()"
   ]
  },
  {
   "cell_type": "code",
   "execution_count": 13,
   "id": "5c12d8c9-50f5-423b-b73b-317d46c48e77",
   "metadata": {},
   "outputs": [
    {
     "data": {
      "text/plain": [
       "{'anioModelo/fabricante/marca/mensajes/modelo/paisOrigen/robo/roboFecha/tiempoConsulta/tiempoRespuesta': 999}"
      ]
     },
     "execution_count": 13,
     "metadata": {},
     "output_type": "execute_result"
    }
   ],
   "source": [
    "determineDistinctKeys(responseBody)"
   ]
  },
  {
   "cell_type": "markdown",
   "id": "55ee1ebf-f8db-4bbf-b917-33551e66b734",
   "metadata": {},
   "source": [
    "<h3>Con esto sabemos la proporción entre consultas con algún tipo de error, o consultas normales en Carfax  USA</h3>"
   ]
  },
  {
   "cell_type": "code",
   "execution_count": 15,
   "id": "513cfc96-29a4-42b3-bfb2-687f49e787c9",
   "metadata": {},
   "outputs": [],
   "source": [
    "carfaxUsaData = df['carfaxUsaData'].values.tolist()"
   ]
  },
  {
   "cell_type": "code",
   "execution_count": 16,
   "id": "da5f5ecf-f83d-4588-adb2-e9db5ca47978",
   "metadata": {},
   "outputs": [
    {
     "data": {
      "text/plain": [
       "{'error/respuestaCompleta': 96,\n",
       " 'components/customCalculationOdometer/timestamp/vin': 896,\n",
       " 'VHR/components/customCalculationOdometer/timestamp/vin': 5}"
      ]
     },
     "execution_count": 16,
     "metadata": {},
     "output_type": "execute_result"
    }
   ],
   "source": [
    "determineDistinctKeys(carfaxUsaData)"
   ]
  },
  {
   "cell_type": "markdown",
   "id": "571f3ba0-3c9a-4629-8f90-8ce7029357ae",
   "metadata": {},
   "source": [
    "<h3>Finalmente sabemos qué se pide en los \"Request Parameters\"</h3>"
   ]
  },
  {
   "cell_type": "code",
   "execution_count": 18,
   "id": "ad8b5c60-ebdd-436b-91ac-f17b3c8fe793",
   "metadata": {},
   "outputs": [],
   "source": [
    "requestParameters = df['requestParameters'].values.tolist()"
   ]
  },
  {
   "cell_type": "code",
   "execution_count": 19,
   "id": "7fc11e32-1ed2-4b5a-9070-6db9b96d9975",
   "metadata": {},
   "outputs": [
    {
     "data": {
      "text/plain": [
       "{'': 999}"
      ]
     },
     "execution_count": 19,
     "metadata": {},
     "output_type": "execute_result"
    }
   ],
   "source": [
    "determineDistinctKeys(requestParameters)"
   ]
  },
  {
   "cell_type": "markdown",
   "id": "0b8907ea-345a-467e-9def-0815fac86185",
   "metadata": {},
   "source": [
    "<h3>Ahora nos aseguramos de todos los valores distintos que haya en las columnas</h3>"
   ]
  },
  {
   "cell_type": "code",
   "execution_count": 21,
   "id": "6fa708b8-23cd-4f99-923e-864d9af610fb",
   "metadata": {},
   "outputs": [
    {
     "data": {
      "text/plain": [
       "array(['6cNqbbTqBnZEchPZ2YYn'], dtype=object)"
      ]
     },
     "execution_count": 21,
     "metadata": {},
     "output_type": "execute_result"
    }
   ],
   "source": [
    "determineDistinctValues(df, 'apiKey') #Solo existe un valor posible para este campo"
   ]
  },
  {
   "cell_type": "code",
   "execution_count": 22,
   "id": "914f350d-5df2-45f9-acec-36b21ce40e53",
   "metadata": {},
   "outputs": [
    {
     "data": {
      "text/plain": [
       "array([nan])"
      ]
     },
     "execution_count": 22,
     "metadata": {},
     "output_type": "execute_result"
    }
   ],
   "source": [
    "determineDistinctValues(df, 'userId') #Solo existe un valor posible para este campo"
   ]
  },
  {
   "cell_type": "code",
   "execution_count": 23,
   "id": "a9297323-b14c-4f5f-b652-af411e867b63",
   "metadata": {},
   "outputs": [
    {
     "data": {
      "text/plain": [
       "array([nan, '672a3b750745c07a84447ca3', '6729ba00ad3afe28335abe96',\n",
       "       '6729a7fcac983ba428577605', '6729a7fb3ca0aa5d954b7438',\n",
       "       '6729a7f5a039203ff6d89a3a', '6729a559d3e227a133728861'],\n",
       "      dtype=object)"
      ]
     },
     "execution_count": 23,
     "metadata": {},
     "output_type": "execute_result"
    }
   ],
   "source": [
    "determineDistinctValues(df, 'idReporte') #Existen varios valores (¿de qué depende esta diferencia?)"
   ]
  },
  {
   "cell_type": "code",
   "execution_count": 24,
   "id": "6db209a4-46d3-40df-b77b-48ff9393a0d3",
   "metadata": {},
   "outputs": [
    {
     "data": {
      "text/plain": [
       "array([200])"
      ]
     },
     "execution_count": 24,
     "metadata": {},
     "output_type": "execute_result"
    }
   ],
   "source": [
    "determineDistinctValues(df, 'responseCode') #Solo existe un valor posible para este campo"
   ]
  },
  {
   "cell_type": "code",
   "execution_count": 25,
   "id": "5ad66e69-92d7-40aa-843d-9def36da0e85",
   "metadata": {},
   "outputs": [
    {
     "data": {
      "text/plain": [
       "array(['ok'], dtype=object)"
      ]
     },
     "execution_count": 25,
     "metadata": {},
     "output_type": "execute_result"
    }
   ],
   "source": [
    "determineDistinctValues(df, 'responseCodeStatus') #Solo existe un valor posible para este campo"
   ]
  },
  {
   "cell_type": "code",
   "execution_count": 26,
   "id": "9cbd1a36-f710-4297-933c-53df68b4cbe3",
   "metadata": {},
   "outputs": [
    {
     "data": {
      "text/plain": [
       "array([nan])"
      ]
     },
     "execution_count": 26,
     "metadata": {},
     "output_type": "execute_result"
    }
   ],
   "source": [
    "determineDistinctValues(df, 'labels') #Solo existe un valor posible para este campo"
   ]
  },
  {
   "cell_type": "code",
   "execution_count": 27,
   "id": "da71bd00-6e55-4a0d-81fc-288b29ef4ec2",
   "metadata": {},
   "outputs": [
    {
     "data": {
      "text/plain": [
       "array([0])"
      ]
     },
     "execution_count": 27,
     "metadata": {},
     "output_type": "execute_result"
    }
   ],
   "source": [
    "determineDistinctValues(df, 'firewallUsa') #Solo existe un valor posible para este campo"
   ]
  },
  {
   "cell_type": "markdown",
   "id": "7d5d348b-6756-4cea-b6c8-ea4ea569223d",
   "metadata": {},
   "source": [
    "<h3>A continuación busco los distintos tipos de código de alerta que se encuentran en el dataframe creando una función especial para ello </h3>"
   ]
  },
  {
   "cell_type": "code",
   "execution_count": 29,
   "id": "85e23c0a-de70-4f0d-b4fa-b73c11646a89",
   "metadata": {},
   "outputs": [],
   "source": [
    "def countAlertCodes(df, alertsColumn: str):\n",
    "    alertsWithCode = list(determineDistinctValues(df, alertsColumn))\n",
    "    codeCount = {'Code 1': 0 , 'Code 2': 0, 'Code 3': 0, 'Code 4': 0, 'Code 5': 0, 'Code 6': 0, 'Code 7': 0}\n",
    "\n",
    "    for alert in alertsWithCode:\n",
    "        alertList = json.loads(alert)\n",
    "        if alertList != []:\n",
    "            for subalert in alertList:\n",
    "                n = subalert['codigo']\n",
    "                codeCount[''.join(['Code ', str(n)])] += 1\n",
    "\n",
    "    return codeCount #El resultado me dará el código de error más frecuente en la plataforma\n"
   ]
  },
  {
   "cell_type": "code",
   "execution_count": 30,
   "id": "5d094e61-cf19-44df-8b82-c39f6b53e6e3",
   "metadata": {},
   "outputs": [
    {
     "data": {
      "text/plain": [
       "{'Code 1': 11,\n",
       " 'Code 2': 0,\n",
       " 'Code 3': 3,\n",
       " 'Code 4': 58,\n",
       " 'Code 5': 1,\n",
       " 'Code 6': 4,\n",
       " 'Code 7': 5}"
      ]
     },
     "execution_count": 30,
     "metadata": {},
     "output_type": "execute_result"
    }
   ],
   "source": [
    "countAlertCodes(df, 'alertas')"
   ]
  },
  {
   "cell_type": "markdown",
   "id": "79515abe-a285-4cb1-9b13-ed631079af4e",
   "metadata": {},
   "source": [
    "<h3>Ahora calculo el tiempo en que se tarda cada petición en generar una respuesta</h3>"
   ]
  },
  {
   "cell_type": "code",
   "execution_count": 32,
   "id": "343c23f0-b1d2-46e2-bbb7-491fa2c6eda4",
   "metadata": {},
   "outputs": [],
   "source": [
    "def calculateDeltaTime(df, columnA, columnB):\n",
    "    responseTimeType = pd.to_datetime(df[columnA])\n",
    "    requestTimeType = pd.to_datetime(df[columnB])\n",
    "    responsePeriod = (responseTimeType - requestTimeType).to_frame()\n",
    "    responsePeriod['secondsDifference'] = pd.to_timedelta(responsePeriod[0]).dt.total_seconds()\n",
    "    responsePeriod.drop([0], axis='columns', inplace=True)\n",
    "\n",
    "    return responsePeriod"
   ]
  },
  {
   "cell_type": "markdown",
   "id": "1ab9f3b5-17b1-44b4-8804-17add51cdb48",
   "metadata": {},
   "source": [
    "<h4>Con mayor frecuencia parece tardarse un segundo la respuesta. La gráfica parece ajustarse a una distribución de Poisson o a una distribución normal. Checar cuál es la más conveniente para calcular probabilidades</h4>"
   ]
  },
  {
   "cell_type": "code",
   "execution_count": 34,
   "id": "872b20c9-935e-46bb-8d66-2b1d4fe44c84",
   "metadata": {},
   "outputs": [
    {
     "data": {
      "image/png": "[encoded data removed]",
      "text/plain": [
       "<Figure size 640x480 with 1 Axes>"
      ]
     },
     "metadata": {},
     "output_type": "display_data"
    }
   ],
   "source": [
    "plt.hist(calculateDeltaTime(df, 'responseTime', 'requestTime')['secondsDifference'], bins = 20, edgecolor = 'black')\n",
    "plt.xlabel('Time in Seconds')\n",
    "plt.ylabel('Frequency')\n",
    "plt.title('Histogram of Time in Seconds')\n",
    "plt.show()"
   ]
  },
  {
   "cell_type": "markdown",
   "id": "f11927a2-63ae-4b1a-a849-a77fe5158846",
   "metadata": {},
   "source": [
    "<h3>A continuación se comprueba que cada diccionario del valor de la columna carfaxUsaData con una llave \"error\" le corresponda un valor distinto a lista vacía</h3>"
   ]
  },
  {
   "cell_type": "code",
   "execution_count": 36,
   "id": "efb31b6d-3b6a-40a9-b9fa-370359628c0f",
   "metadata": {},
   "outputs": [],
   "source": [
    "def proveErrorAlert(df):\n",
    "    carfaxUsaData = df['carfaxUsaData'].values.tolist()\n",
    "    conError = 0\n",
    "    for index1 in range(len(carfaxUsaData)):\n",
    "        carfaxDict = json.loads(carfaxUsaData[index1])\n",
    "        if 'error' in list(carfaxDict.keys()):\n",
    "            conError += 1\n",
    "            if df.iloc[index1]['alertas'] == []:\n",
    "                return 'Existe un valor con error y sin alerta'\n",
    "    return 'Funciona correctamente'"
   ]
  },
  {
   "cell_type": "code",
   "execution_count": 37,
   "id": "52fdb500-4f3b-49b7-895d-8e0b3adf593f",
   "metadata": {},
   "outputs": [
    {
     "data": {
      "text/plain": [
       "'Funciona correctamente'"
      ]
     },
     "execution_count": 37,
     "metadata": {},
     "output_type": "execute_result"
    }
   ],
   "source": [
    "proveErrorAlert(df)"
   ]
  },
  {
   "cell_type": "markdown",
   "id": "fcc1ca4d-eb68-48ed-88f4-bba2f3e289b2",
   "metadata": {},
   "source": [
    "<h3>Ahora se estudiará la relación con los Vin's repetidos y las alertas</h3>"
   ]
  },
  {
   "cell_type": "code",
   "execution_count": 39,
   "id": "e7b1024a-ae86-434e-9906-38cd379fbef3",
   "metadata": {},
   "outputs": [],
   "source": [
    "#The next function identifies the repeated values of a column\n",
    "\n",
    "def getRepeatedValuesInAColumn(df, columnName):\n",
    "    duplicates = df[df.duplicated(subset=[columnName], keep=False)]\n",
    "    return duplicates['VIN']"
   ]
  },
  {
   "cell_type": "code",
   "execution_count": 40,
   "id": "95ba69e3-f9e0-42c4-9808-691969bc379b",
   "metadata": {},
   "outputs": [],
   "source": [
    "def searchValuesInADataframe(values:list, columnA: str, columnB: str, df)-> dict:\n",
    "    '''\n",
    "    Searches the values of a list in a dataframe columnA and retrieves the information of columnB\n",
    "    Args:\n",
    "       values (list): The list of values to be searched\n",
    "       columnA (string): The name's column to search\n",
    "       columnB (string): The name's column to retrieve values\n",
    "       df (pandas dataFrame): The dataframe where where will be searched\n",
    "    Returns:\n",
    "      valuesBDict (dict): A dictionary of values as key and the retrieved values of columnB as values\n",
    "    '''\n",
    "    \n",
    "    valuesBDict ={}\n",
    "    for value in values:\n",
    "        valuesB = df.loc[df[columnA]== value, columnB].tolist()\n",
    "        valuesBDict[value] = valuesB\n",
    "    return valuesBDict"
   ]
  },
  {
   "cell_type": "markdown",
   "id": "f2d82663-6c04-4ea7-a418-d1c88c2a0c6e",
   "metadata": {},
   "source": [
    "<h4>Identificamos si existe algún VIN repetido que contenga y a la vez no, mensajes de alerta. Además se identifica la cantidad de veces que se repiten los VIN's que lanzan alerta contra los que no lanzan ninguna alerta</h4>"
   ]
  },
  {
   "cell_type": "code",
   "execution_count": 42,
   "id": "82f376d9-5bbc-4eb8-ad04-750bf7733e61",
   "metadata": {},
   "outputs": [],
   "source": [
    "def getIncorrectVinInformation(df):\n",
    "    repeatedRows = len(getRepeatedValuesInAColumn(df, 'VIN').values.tolist())\n",
    "    vinValues = getRepeatedValuesInAColumn(df, 'VIN').unique().tolist()\n",
    "    repeatedVins = len(vinValues)\n",
    "    repeatedValues = searchValuesInADataframe(vinValues, 'VIN', 'alertas', df)\n",
    "    goodVins = 0\n",
    "    badVins = 0\n",
    "    goodVinsList = []\n",
    "    badVinsList = []\n",
    "    for repeatedVin in list(repeatedValues.keys()):\n",
    "        differentValuesByVin = list(set(repeatedValues[repeatedVin]))\n",
    "        for differentValue in differentValuesByVin:\n",
    "            if differentValue == '[]':\n",
    "                goodVins += 1\n",
    "                if len(differentValuesByVin)>1:\n",
    "                    return {message: ''.join(['Alerta con vin: ',repeatedVin, ' , tiene y no tiene alertas.']),\n",
    "                           'goodVinsList': [],\n",
    "                           'badVinsList': [],\n",
    "                           'goodVins':0,\n",
    "                           'badVins': 0}\n",
    "                else:\n",
    "                    goodVinsList.append([repeatedVin, len(repeatedValues[repeatedVin])])\n",
    "            else:\n",
    "                badVins += 1\n",
    "                badVinsList.append([repeatedVin, len(repeatedValues[repeatedVin])])\n",
    "            \n",
    "\n",
    "    return {'message': ''.join(['VINs repetidos que no lanzan alerta: ', str(goodVins), '\\nVINs repetidos que sí lanzan alerta: ', str(badVins)]),\n",
    "           'goodVinsList': goodVinsList,\n",
    "           'badVinsList': badVinsList,\n",
    "           'goodVins':goodVins,\n",
    "           'badVins': badVins}"
   ]
  },
  {
   "cell_type": "code",
   "execution_count": 43,
   "id": "2e99f948-0054-4c7b-a377-65dfd5026ee7",
   "metadata": {},
   "outputs": [],
   "source": [
    "def diagnoseVins(df):\n",
    "    goodVinsFrame = pd.DataFrame(getIncorrectVinInformation(df)['goodVinsList'], columns = ['VIN', 'repeatedTimes'])\n",
    "    goodRepeatedRecords = goodVinsFrame.sum()['repeatedTimes']\n",
    "    badVinsFrame = pd.DataFrame(getIncorrectVinInformation(df)['badVinsList'], columns = ['VIN', 'repeatedTimes'])\n",
    "    badRepeatedRecords = badVinsFrame.sum()['repeatedTimes']\n",
    "\n",
    "    return {'goodVinsFrame': goodVinsFrame, 'badVinsFrame': badVinsFrame, 'goodRepeatedRecords': goodRepeatedRecords, 'badRepeatedRecords': badRepeatedRecords}"
   ]
  },
  {
   "cell_type": "code",
   "execution_count": 44,
   "id": "1f7357b9-4cdd-486f-a93b-15d8664c64b1",
   "metadata": {},
   "outputs": [
    {
     "data": {
      "text/html": [
       "<style type=\"text/css\">\n",
       "#T_214e9_row0_col0, #T_214e9_row2_col0, #T_214e9_row4_col0, #T_214e9_row6_col0 {\n",
       "  border: 1px solid white;\n",
       "}\n",
       "#T_214e9_row1_col0, #T_214e9_row3_col0, #T_214e9_row5_col0, #T_214e9_row7_col0 {\n",
       "  background-color: indigo;\n",
       "  border: 1px solid white;\n",
       "}\n",
       "</style>\n",
       "<table id=\"T_214e9\">\n",
       "  <thead>\n",
       "    <tr>\n",
       "      <th class=\"blank level0\" >&nbsp;</th>\n",
       "      <th id=\"T_214e9_level0_col0\" class=\"col_heading level0 col0\" >repeatedTimes</th>\n",
       "    </tr>\n",
       "  </thead>\n",
       "  <tbody>\n",
       "    <tr>\n",
       "      <th id=\"T_214e9_level0_row0\" class=\"row_heading level0 row0\" >count</th>\n",
       "      <td id=\"T_214e9_row0_col0\" class=\"data row0 col0\" >127.000000</td>\n",
       "    </tr>\n",
       "    <tr>\n",
       "      <th id=\"T_214e9_level0_row1\" class=\"row_heading level0 row1\" >mean</th>\n",
       "      <td id=\"T_214e9_row1_col0\" class=\"data row1 col0\" >4.094488</td>\n",
       "    </tr>\n",
       "    <tr>\n",
       "      <th id=\"T_214e9_level0_row2\" class=\"row_heading level0 row2\" >std</th>\n",
       "      <td id=\"T_214e9_row2_col0\" class=\"data row2 col0\" >5.016533</td>\n",
       "    </tr>\n",
       "    <tr>\n",
       "      <th id=\"T_214e9_level0_row3\" class=\"row_heading level0 row3\" >min</th>\n",
       "      <td id=\"T_214e9_row3_col0\" class=\"data row3 col0\" >2.000000</td>\n",
       "    </tr>\n",
       "    <tr>\n",
       "      <th id=\"T_214e9_level0_row4\" class=\"row_heading level0 row4\" >25%</th>\n",
       "      <td id=\"T_214e9_row4_col0\" class=\"data row4 col0\" >2.000000</td>\n",
       "    </tr>\n",
       "    <tr>\n",
       "      <th id=\"T_214e9_level0_row5\" class=\"row_heading level0 row5\" >50%</th>\n",
       "      <td id=\"T_214e9_row5_col0\" class=\"data row5 col0\" >2.000000</td>\n",
       "    </tr>\n",
       "    <tr>\n",
       "      <th id=\"T_214e9_level0_row6\" class=\"row_heading level0 row6\" >75%</th>\n",
       "      <td id=\"T_214e9_row6_col0\" class=\"data row6 col0\" >3.000000</td>\n",
       "    </tr>\n",
       "    <tr>\n",
       "      <th id=\"T_214e9_level0_row7\" class=\"row_heading level0 row7\" >max</th>\n",
       "      <td id=\"T_214e9_row7_col0\" class=\"data row7 col0\" >33.000000</td>\n",
       "    </tr>\n",
       "  </tbody>\n",
       "</table>\n"
      ],
      "text/plain": [
       "<pandas.io.formats.style.Styler at 0x107cc3bc0>"
      ]
     },
     "execution_count": 44,
     "metadata": {},
     "output_type": "execute_result"
    }
   ],
   "source": [
    "diagnoseVins(df)['goodVinsFrame'].describe().style.apply(highlight_odd_rows)"
   ]
  },
  {
   "cell_type": "code",
   "execution_count": 45,
   "id": "9d81028a-7828-4d79-965b-8d425263630c",
   "metadata": {},
   "outputs": [
    {
     "data": {
      "image/png": "[encoded data removed]",
      "text/plain": [
       "<Figure size 640x480 with 1 Axes>"
      ]
     },
     "metadata": {},
     "output_type": "display_data"
    }
   ],
   "source": [
    "plt.hist(diagnoseVins(df)['goodVinsFrame'], bins = 50, edgecolor = 'black')\n",
    "plt.xlabel('Repeated Times')\n",
    "plt.ylabel('Frequency')\n",
    "plt.title('Histogram of Repeated Times by VIN (without alerts)')\n",
    "plt.show()"
   ]
  },
  {
   "cell_type": "code",
   "execution_count": 56,
   "id": "385afb07-cec6-47c7-9c14-1872493ca5f8",
   "metadata": {},
   "outputs": [
    {
     "data": {
      "text/html": [
       "<div>\n",
       "<style scoped>\n",
       "    .dataframe tbody tr th:only-of-type {\n",
       "        vertical-align: middle;\n",
       "    }\n",
       "\n",
       "    .dataframe tbody tr th {\n",
       "        vertical-align: top;\n",
       "    }\n",
       "\n",
       "    .dataframe thead th {\n",
       "        text-align: right;\n",
       "    }\n",
       "</style>\n",
       "<table border=\"1\" class=\"dataframe\">\n",
       "  <thead>\n",
       "    <tr style=\"text-align: right;\">\n",
       "      <th></th>\n",
       "      <th>repeatedTimes</th>\n",
       "    </tr>\n",
       "  </thead>\n",
       "  <tbody>\n",
       "    <tr>\n",
       "      <th>count</th>\n",
       "      <td>16.000000</td>\n",
       "    </tr>\n",
       "    <tr>\n",
       "      <th>mean</th>\n",
       "      <td>2.687500</td>\n",
       "    </tr>\n",
       "    <tr>\n",
       "      <th>std</th>\n",
       "      <td>0.873212</td>\n",
       "    </tr>\n",
       "    <tr>\n",
       "      <th>min</th>\n",
       "      <td>2.000000</td>\n",
       "    </tr>\n",
       "    <tr>\n",
       "      <th>25%</th>\n",
       "      <td>2.000000</td>\n",
       "    </tr>\n",
       "    <tr>\n",
       "      <th>50%</th>\n",
       "      <td>2.500000</td>\n",
       "    </tr>\n",
       "    <tr>\n",
       "      <th>75%</th>\n",
       "      <td>3.000000</td>\n",
       "    </tr>\n",
       "    <tr>\n",
       "      <th>max</th>\n",
       "      <td>5.000000</td>\n",
       "    </tr>\n",
       "  </tbody>\n",
       "</table>\n",
       "</div>"
      ],
      "text/plain": [
       "       repeatedTimes\n",
       "count      16.000000\n",
       "mean        2.687500\n",
       "std         0.873212\n",
       "min         2.000000\n",
       "25%         2.000000\n",
       "50%         2.500000\n",
       "75%         3.000000\n",
       "max         5.000000"
      ]
     },
     "execution_count": 56,
     "metadata": {},
     "output_type": "execute_result"
    }
   ],
   "source": [
    "diagnoseVins(df)['badVinsFrame'].describe()"
   ]
  },
  {
   "cell_type": "code",
   "execution_count": 60,
   "id": "0ea12d53-0bf4-41c7-ad88-0fb376ae8c31",
   "metadata": {},
   "outputs": [
    {
     "data": {
      "image/png": "[encoded data removed]",
      "text/plain": [
       "<Figure size 640x480 with 1 Axes>"
      ]
     },
     "metadata": {},
     "output_type": "display_data"
    }
   ],
   "source": [
    "plt.hist(diagnoseVins(df)['goodVinsFrame']['repeatedTimes'], bins =10, edgecolor = 'black')\n",
    "plt.xlabel('Repeated Times')\n",
    "plt.ylabel('Frequency')\n",
    "plt.title('Histogram of Repeated Times by VIN (with alerts)')\n",
    "plt.show()"
   ]
  },
  {
   "cell_type": "markdown",
   "id": "35099e28-2fd6-4e57-921d-3a60df5211b1",
   "metadata": {},
   "source": [
    "<h4>Finalmente tenemos los VINs revisados en todos los registros. La proporción entre VINs repetidos con alerta, VINs repetidos sin alerta. Máximos y mínimos repeticiones</h4>"
   ]
  },
  {
   "cell_type": "code",
   "execution_count": 67,
   "id": "b9b050eb-9a20-481f-942a-e6c049c3698d",
   "metadata": {},
   "outputs": [
    {
     "name": "stdout",
     "output_type": "stream",
     "text": [
      "Cantidad de registros repetidos:  563\n",
      "Cantidad de registros repetidos con VINs sin alerta:  520\n",
      "Cantidad de registros repetidos con VINs con alerta:  43\n",
      "Cantidad de VINs revisados en esos registros repetidos:  143\n"
     ]
    },
    {
     "data": {
      "image/png": "[encoded data removed]",
      "text/plain": [
       "<Figure size 640x480 with 1 Axes>"
      ]
     },
     "metadata": {},
     "output_type": "display_data"
    }
   ],
   "source": [
    "print('Cantidad de registros repetidos: ', diagnoseVins(df)['goodRepeatedRecords'] + diagnoseVins(df)['badRepeatedRecords'])\n",
    "print('Cantidad de registros repetidos con VINs sin alerta: ', diagnoseVins(df)['goodRepeatedRecords'])\n",
    "print('Cantidad de registros repetidos con VINs con alerta: ', diagnoseVins(df)['badRepeatedRecords'])\n",
    "print('Cantidad de VINs revisados en esos registros repetidos: ', list(diagnoseVins(df)['badVinsFrame'].count() + diagnoseVins(df)['goodVinsFrame'].count())[1])\n",
    "repetitionProportion = [diagnoseVins(df)['goodRepeatedRecords'], diagnoseVins(df)['badRepeatedRecords']]\n",
    "labelsRepetition = ['VINs without alerts', 'VINs with alerts']\n",
    "plt.pie(repetitionProportion, labels=labelsRepetition, autopct=\"%0.1f %%\")\n",
    "plt.axis(\"equal\")\n",
    "plt.title('Repeated records')\n",
    "plt.show()"
   ]
  },
  {
   "cell_type": "markdown",
   "id": "130f19c4-0376-4ed4-bb22-e0d4bb87f680",
   "metadata": {},
   "source": [
    "<h4>Estadísticas de las repeticiones de los VINs sin alerta</h4>"
   ]
  },
  {
   "cell_type": "code",
   "execution_count": 70,
   "id": "dc63ab32-8f60-49e7-b63f-e824fbb40e21",
   "metadata": {},
   "outputs": [
    {
     "data": {
      "text/html": [
       "<style type=\"text/css\">\n",
       "#T_3033b_row0_col0, #T_3033b_row2_col0, #T_3033b_row4_col0, #T_3033b_row6_col0 {\n",
       "  border: 1px solid white;\n",
       "}\n",
       "#T_3033b_row1_col0, #T_3033b_row3_col0, #T_3033b_row5_col0, #T_3033b_row7_col0 {\n",
       "  background-color: indigo;\n",
       "  border: 1px solid white;\n",
       "}\n",
       "</style>\n",
       "<table id=\"T_3033b\">\n",
       "  <thead>\n",
       "    <tr>\n",
       "      <th class=\"blank level0\" >&nbsp;</th>\n",
       "      <th id=\"T_3033b_level0_col0\" class=\"col_heading level0 col0\" >repeatedTimes</th>\n",
       "    </tr>\n",
       "  </thead>\n",
       "  <tbody>\n",
       "    <tr>\n",
       "      <th id=\"T_3033b_level0_row0\" class=\"row_heading level0 row0\" >count</th>\n",
       "      <td id=\"T_3033b_row0_col0\" class=\"data row0 col0\" >127.000000</td>\n",
       "    </tr>\n",
       "    <tr>\n",
       "      <th id=\"T_3033b_level0_row1\" class=\"row_heading level0 row1\" >mean</th>\n",
       "      <td id=\"T_3033b_row1_col0\" class=\"data row1 col0\" >4.094488</td>\n",
       "    </tr>\n",
       "    <tr>\n",
       "      <th id=\"T_3033b_level0_row2\" class=\"row_heading level0 row2\" >std</th>\n",
       "      <td id=\"T_3033b_row2_col0\" class=\"data row2 col0\" >5.016533</td>\n",
       "    </tr>\n",
       "    <tr>\n",
       "      <th id=\"T_3033b_level0_row3\" class=\"row_heading level0 row3\" >min</th>\n",
       "      <td id=\"T_3033b_row3_col0\" class=\"data row3 col0\" >2.000000</td>\n",
       "    </tr>\n",
       "    <tr>\n",
       "      <th id=\"T_3033b_level0_row4\" class=\"row_heading level0 row4\" >25%</th>\n",
       "      <td id=\"T_3033b_row4_col0\" class=\"data row4 col0\" >2.000000</td>\n",
       "    </tr>\n",
       "    <tr>\n",
       "      <th id=\"T_3033b_level0_row5\" class=\"row_heading level0 row5\" >50%</th>\n",
       "      <td id=\"T_3033b_row5_col0\" class=\"data row5 col0\" >2.000000</td>\n",
       "    </tr>\n",
       "    <tr>\n",
       "      <th id=\"T_3033b_level0_row6\" class=\"row_heading level0 row6\" >75%</th>\n",
       "      <td id=\"T_3033b_row6_col0\" class=\"data row6 col0\" >3.000000</td>\n",
       "    </tr>\n",
       "    <tr>\n",
       "      <th id=\"T_3033b_level0_row7\" class=\"row_heading level0 row7\" >max</th>\n",
       "      <td id=\"T_3033b_row7_col0\" class=\"data row7 col0\" >33.000000</td>\n",
       "    </tr>\n",
       "  </tbody>\n",
       "</table>\n"
      ],
      "text/plain": [
       "<pandas.io.formats.style.Styler at 0x10795fce0>"
      ]
     },
     "execution_count": 70,
     "metadata": {},
     "output_type": "execute_result"
    }
   ],
   "source": [
    "diagnoseVins(df)['goodVinsFrame'].describe().style.apply(highlight_odd_rows)"
   ]
  },
  {
   "cell_type": "markdown",
   "id": "31aecfa7-a82d-4b6b-b870-507249ea7192",
   "metadata": {},
   "source": [
    "<h4>Estadísticas de las repeticiones de los VINs con alerta</h4>"
   ]
  },
  {
   "cell_type": "code",
   "execution_count": 73,
   "id": "42f26fea-2fef-40bb-9040-1da577175de6",
   "metadata": {},
   "outputs": [
    {
     "data": {
      "text/html": [
       "<style type=\"text/css\">\n",
       "#T_a6652_row0_col0, #T_a6652_row2_col0, #T_a6652_row4_col0, #T_a6652_row6_col0 {\n",
       "  border: 1px solid white;\n",
       "}\n",
       "#T_a6652_row1_col0, #T_a6652_row3_col0, #T_a6652_row5_col0, #T_a6652_row7_col0 {\n",
       "  background-color: indigo;\n",
       "  border: 1px solid white;\n",
       "}\n",
       "</style>\n",
       "<table id=\"T_a6652\">\n",
       "  <thead>\n",
       "    <tr>\n",
       "      <th class=\"blank level0\" >&nbsp;</th>\n",
       "      <th id=\"T_a6652_level0_col0\" class=\"col_heading level0 col0\" >repeatedTimes</th>\n",
       "    </tr>\n",
       "  </thead>\n",
       "  <tbody>\n",
       "    <tr>\n",
       "      <th id=\"T_a6652_level0_row0\" class=\"row_heading level0 row0\" >count</th>\n",
       "      <td id=\"T_a6652_row0_col0\" class=\"data row0 col0\" >16.000000</td>\n",
       "    </tr>\n",
       "    <tr>\n",
       "      <th id=\"T_a6652_level0_row1\" class=\"row_heading level0 row1\" >mean</th>\n",
       "      <td id=\"T_a6652_row1_col0\" class=\"data row1 col0\" >2.687500</td>\n",
       "    </tr>\n",
       "    <tr>\n",
       "      <th id=\"T_a6652_level0_row2\" class=\"row_heading level0 row2\" >std</th>\n",
       "      <td id=\"T_a6652_row2_col0\" class=\"data row2 col0\" >0.873212</td>\n",
       "    </tr>\n",
       "    <tr>\n",
       "      <th id=\"T_a6652_level0_row3\" class=\"row_heading level0 row3\" >min</th>\n",
       "      <td id=\"T_a6652_row3_col0\" class=\"data row3 col0\" >2.000000</td>\n",
       "    </tr>\n",
       "    <tr>\n",
       "      <th id=\"T_a6652_level0_row4\" class=\"row_heading level0 row4\" >25%</th>\n",
       "      <td id=\"T_a6652_row4_col0\" class=\"data row4 col0\" >2.000000</td>\n",
       "    </tr>\n",
       "    <tr>\n",
       "      <th id=\"T_a6652_level0_row5\" class=\"row_heading level0 row5\" >50%</th>\n",
       "      <td id=\"T_a6652_row5_col0\" class=\"data row5 col0\" >2.500000</td>\n",
       "    </tr>\n",
       "    <tr>\n",
       "      <th id=\"T_a6652_level0_row6\" class=\"row_heading level0 row6\" >75%</th>\n",
       "      <td id=\"T_a6652_row6_col0\" class=\"data row6 col0\" >3.000000</td>\n",
       "    </tr>\n",
       "    <tr>\n",
       "      <th id=\"T_a6652_level0_row7\" class=\"row_heading level0 row7\" >max</th>\n",
       "      <td id=\"T_a6652_row7_col0\" class=\"data row7 col0\" >5.000000</td>\n",
       "    </tr>\n",
       "  </tbody>\n",
       "</table>\n"
      ],
      "text/plain": [
       "<pandas.io.formats.style.Styler at 0x107c89100>"
      ]
     },
     "execution_count": 73,
     "metadata": {},
     "output_type": "execute_result"
    }
   ],
   "source": [
    "diagnoseVins(df)['badVinsFrame'].describe().style.apply(highlight_odd_rows)"
   ]
  },
  {
   "cell_type": "markdown",
   "id": "259eadba-29d4-430c-b296-54b6adfc74e4",
   "metadata": {},
   "source": [
    "<h3>Ahora se comprueba que para cada VIN repetido y sin alerta se dió exactamente la misma información</h3>"
   ]
  },
  {
   "cell_type": "code",
   "execution_count": null,
   "id": "7df75aa1-7b33-4274-81d8-b82230851fb7",
   "metadata": {},
   "outputs": [],
   "source": []
  },
  {
   "cell_type": "markdown",
   "id": "b1a24cd3-05c7-4761-b27b-3ba7b9b76e2f",
   "metadata": {},
   "source": [
    "<h3>Ahora se comprueba que para cada VIN repetido y con alerta se dió exactamente la misma información y los mismos códigos de alerta</h3>"
   ]
  },
  {
   "cell_type": "code",
   "execution_count": null,
   "id": "bcfcb023-5b4f-46c3-b1b4-4be518e7fc12",
   "metadata": {},
   "outputs": [],
   "source": []
  },
  {
   "cell_type": "markdown",
   "id": "190ffb5d-afe6-450c-be3a-88a990cf1d1f",
   "metadata": {},
   "source": [
    "<h3>Ahora se analizan una parte de los datos mediante un periodo de tiempo n variable que extrae un subconjunto del dataframe </h3>"
   ]
  },
  {
   "cell_type": "markdown",
   "id": "edf1f581-cde3-45a3-888a-d742857875a7",
   "metadata": {},
   "source": [
    "<h4>Primero se ordenan los datos de manera descendente por el campo \"responseTime\"</h4>"
   ]
  },
  {
   "cell_type": "code",
   "execution_count": 81,
   "id": "7b6f202c-463d-4866-a27f-234634490f49",
   "metadata": {},
   "outputs": [],
   "source": [
    "df = df.sort_values(by = 'responseTime', ascending = False)"
   ]
  },
  {
   "cell_type": "code",
   "execution_count": 83,
   "id": "efe4aad7-f3e4-439f-a134-80eb8f145152",
   "metadata": {},
   "outputs": [
    {
     "name": "stdout",
     "output_type": "stream",
     "text": [
      "(75, 20)\n"
     ]
    }
   ],
   "source": [
    "df['responseTime'] = pd.to_datetime(df['responseTime'], format='%d/%m/%Y %H:%M:%S')\n",
    "n_minutes  = 10\n",
    "first_timestamp = df['responseTime'].iloc[0]\n",
    "time_threshold = first_timestamp - pd.Timedelta(minutes=n_minutes)\n",
    "filtered_df = df[df['responseTime'] >= time_threshold]\n",
    "print(filtered_df.shape)"
   ]
  },
  {
   "cell_type": "code",
   "execution_count": null,
   "id": "02d3acd7-eb84-4f5f-96ce-c5fda64a533a",
   "metadata": {},
   "outputs": [],
   "source": []
  }
 ],
 "metadata": {
  "kernelspec": {
   "display_name": "msvenv1",
   "language": "python",
   "name": "msvenv1"
  },
  "language_info": {
   "codemirror_mode": {
    "name": "ipython",
    "version": 3
   },
   "file_extension": ".py",
   "mimetype": "text/x-python",
   "name": "python",
   "nbconvert_exporter": "python",
   "pygments_lexer": "ipython3",
   "version": "3.12.4"
  }
 },
 "nbformat": 4,
 "nbformat_minor": 5
}
