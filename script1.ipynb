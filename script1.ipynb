{
 "cells": [
  {
   "cell_type": "code",
   "execution_count": null,
   "id": "e561fb62-2036-46a7-b6eb-60a2349ebe03",
   "metadata": {},
   "outputs": [],
   "source": [
    "import numpy as np\n",
    "import pandas as pd\n",
    "import matplotlib.pyplot as plt\n",
    "import json"
   ]
  },
  {
   "cell_type": "code",
   "execution_count": null,
   "id": "2d7fbd43-684a-48c5-84ac-7100c1307636",
   "metadata": {},
   "outputs": [],
   "source": [
    "plt.style.use('dark_background') \n",
    "\n",
    "def highlight_odd_rows(s):\n",
    "    '''\n",
    "    Changes style of a dataframe visualization\n",
    "    Args:\n",
    "       s : The row of the dataframe\n",
    "    Returns:\n",
    "    '''\n",
    "    styles = []\n",
    "    for i in range(len(s)):\n",
    "        if i % 2 == 1:\n",
    "            styles.append('background-color: indigo; border: 1px solid white;')\n",
    "        else:\n",
    "            styles.append('border: 1px solid white;')\n",
    "    return styles"
   ]
  },
  {
   "cell_type": "code",
   "execution_count": null,
   "id": "e14d3b75-5672-4695-b9b7-95ade2198496",
   "metadata": {},
   "outputs": [],
   "source": [
    "df = pd.read_csv(\"regularizacion100000.csv\", encoding = 'utf-8')"
   ]
  },
  {
   "cell_type": "code",
   "execution_count": null,
   "id": "66b3d7ae-cd56-425f-8168-0b71cdb39150",
   "metadata": {
    "scrolled": true
   },
   "outputs": [],
   "source": [
    "df.head().style.apply(highlight_odd_rows)"
   ]
  },
  {
   "cell_type": "code",
   "execution_count": null,
   "id": "9b9a70f5-5219-4588-a999-eaab9a611b54",
   "metadata": {},
   "outputs": [],
   "source": [
    "def getDfSize(df):\n",
    "    rows = len(df.axes[0])\n",
    "    columns = len(df.axes[1])\n",
    "\n",
    "    return {'rows': rows, 'columns': columns}"
   ]
  },
  {
   "cell_type": "code",
   "execution_count": null,
   "id": "e7678dc0-6bd7-484d-bc0f-47274150e525",
   "metadata": {},
   "outputs": [],
   "source": [
    "getDfSize(df)"
   ]
  },
  {
   "cell_type": "markdown",
   "id": "ff6ece2d-5e9d-4742-8a80-7d3bf14ebffa",
   "metadata": {},
   "source": [
    "<h3>La siguiente función extrae las distintas llaves de cada diccionario que contenga una columna como valor en el dataframe</h3>"
   ]
  },
  {
   "cell_type": "code",
   "execution_count": null,
   "id": "f8a6148e-ceb5-460a-9321-ea6468e8015f",
   "metadata": {},
   "outputs": [],
   "source": [
    "def determineDistinctKeys(columnToList): #Recibe una lista, no una dataframe column\n",
    "    '''\n",
    "    Extracts the keys of a dictionary list and saves it in a dictionary with its count of appearences in the list\n",
    "    Args:\n",
    "       columnList (list) : List of dictionary to extract the keys\n",
    "    Returns:\n",
    "       distinctKeys (dictionary): A dictionary with the keys as a string and its appearences count in the list\n",
    "    '''\n",
    "    distinctKeysDict = {}\n",
    "    distinctKeysList = []\n",
    "    for dictionary in columnToList:\n",
    "        dictionary = json.loads(dictionary)\n",
    "        orderedKeys = sorted(list(dictionary.keys()))\n",
    "        if orderedKeys in distinctKeysList:\n",
    "            distinctKeysDict['/'.join(orderedKeys)] += 1\n",
    "        else:\n",
    "            distinctKeysList.append(orderedKeys)\n",
    "            distinctKeysDict['/'.join(orderedKeys)] = 0\n",
    "    return distinctKeysDict"
   ]
  },
  {
   "cell_type": "markdown",
   "id": "1fc3c95c-0fc3-4221-a750-5f124287f91f",
   "metadata": {},
   "source": [
    "<h3>La siguiente función extrae los distintos valores de una columna en el dataframe</h3>"
   ]
  },
  {
   "cell_type": "code",
   "execution_count": null,
   "id": "746b4361-edd0-4f48-9bbb-756840063671",
   "metadata": {},
   "outputs": [],
   "source": [
    "def determineDistinctValues(df, col):\n",
    "    '''\n",
    "    Determines the unrepeated values in a columns\n",
    "    Args:\n",
    "       df (DataFrame) : Dataframe which contains the column to search\n",
    "       col (string) : Column's name to search\n",
    "    Returns:\n",
    "       df[col].unique() (array): An array (iterable object) with the unrepeated values of the column\n",
    "    '''\n",
    "    return df[col].unique()"
   ]
  },
  {
   "cell_type": "markdown",
   "id": "85678a89-8a41-49bd-8bbd-09070d997df4",
   "metadata": {},
   "source": [
    "<h3>Con esto sabemos que la columna \"Response Body\" tiene un cuerpo idéntico para todos los casos</h3>"
   ]
  },
  {
   "cell_type": "code",
   "execution_count": null,
   "id": "643b64b0-8016-4586-b651-6ebd94b41777",
   "metadata": {},
   "outputs": [],
   "source": [
    "responseBody = df['responseBody'].values.tolist()"
   ]
  },
  {
   "cell_type": "code",
   "execution_count": null,
   "id": "5c12d8c9-50f5-423b-b73b-317d46c48e77",
   "metadata": {},
   "outputs": [],
   "source": [
    "determineDistinctKeys(responseBody)"
   ]
  },
  {
   "cell_type": "markdown",
   "id": "55ee1ebf-f8db-4bbf-b917-33551e66b734",
   "metadata": {},
   "source": [
    "<h3>Con esto sabemos la proporción entre consultas con algún tipo de error, o consultas normales en Carfax  USA</h3>"
   ]
  },
  {
   "cell_type": "code",
   "execution_count": null,
   "id": "513cfc96-29a4-42b3-bfb2-687f49e787c9",
   "metadata": {},
   "outputs": [],
   "source": [
    "carfaxUsaData = df['carfaxUsaData'].values.tolist()"
   ]
  },
  {
   "cell_type": "code",
   "execution_count": null,
   "id": "da5f5ecf-f83d-4588-adb2-e9db5ca47978",
   "metadata": {},
   "outputs": [],
   "source": [
    "determineDistinctKeys(carfaxUsaData)"
   ]
  },
  {
   "cell_type": "markdown",
   "id": "571f3ba0-3c9a-4629-8f90-8ce7029357ae",
   "metadata": {},
   "source": [
    "<h3>Finalmente sabemos qué se pide en los \"Request Parameters\"</h3>"
   ]
  },
  {
   "cell_type": "code",
   "execution_count": null,
   "id": "ad8b5c60-ebdd-436b-91ac-f17b3c8fe793",
   "metadata": {},
   "outputs": [],
   "source": [
    "requestParameters = df['requestParameters'].values.tolist()"
   ]
  },
  {
   "cell_type": "code",
   "execution_count": null,
   "id": "7fc11e32-1ed2-4b5a-9070-6db9b96d9975",
   "metadata": {},
   "outputs": [],
   "source": [
    "determineDistinctKeys(requestParameters)"
   ]
  },
  {
   "cell_type": "markdown",
   "id": "0b8907ea-345a-467e-9def-0815fac86185",
   "metadata": {},
   "source": [
    "<h3>Ahora nos aseguramos de todos los valores distintos que haya en las columnas</h3>"
   ]
  },
  {
   "cell_type": "code",
   "execution_count": null,
   "id": "6fa708b8-23cd-4f99-923e-864d9af610fb",
   "metadata": {},
   "outputs": [],
   "source": [
    "determineDistinctValues(df, 'apiKey') #Solo existe un valor posible para este campo"
   ]
  },
  {
   "cell_type": "code",
   "execution_count": null,
   "id": "5c122fe4-4ef3-48c2-8d07-394121b13c30",
   "metadata": {},
   "outputs": [],
   "source": [
    "len(list(determineDistinctValues(df, 'ip')))"
   ]
  },
  {
   "cell_type": "code",
   "execution_count": null,
   "id": "3038ebb4-269e-463f-a0ef-6fbc325356d4",
   "metadata": {},
   "outputs": [],
   "source": [
    "#vinsByIp = list(df.groupby('ip')['VIN'].apply(list))\n",
    "#ips = list(set(df['ip']))\n",
    "#if len(ips) == len(vinsByIp):\n",
    " #   ipsVinsFrame = []\n",
    " #   for ipsIndex in range(len(ips)):\n",
    "  #      ipsVinsFrame.append([ips[ipsIndex], len(set(vinsByIp[ipsIndex]))])\n",
    "   # ipsVinsFrame = pd.DataFrame(ipsVinsFrame,columns = ['ip', 'count'])\n",
    "ips_vins_frame = (\n",
    "    df.groupby('ip')['VIN']\n",
    "    .nunique()  # Count unique 'VIN's in each group\n",
    "    .reset_index()  # Convert the series back to a DataFrame\n",
    "    .rename(columns={'VIN': 'count'})  # Rename the column for clarity\n",
    ")"
   ]
  },
  {
   "cell_type": "code",
   "execution_count": null,
   "id": "0c5158e5-dddd-4ccc-8ce2-04fda260d1d2",
   "metadata": {},
   "outputs": [],
   "source": [
    "ips_vins_frame[ips_vins_frame['count']>3].describe()"
   ]
  },
  {
   "cell_type": "code",
   "execution_count": null,
   "id": "914f350d-5df2-45f9-acec-36b21ce40e53",
   "metadata": {},
   "outputs": [],
   "source": [
    "determineDistinctValues(df, 'userId') #Solo existe un valor posible para este campo"
   ]
  },
  {
   "cell_type": "code",
   "execution_count": null,
   "id": "a9297323-b14c-4f5f-b652-af411e867b63",
   "metadata": {},
   "outputs": [],
   "source": [
    "list(determineDistinctValues(df, 'idReporte')); #Existen varios valores (¿de qué depende esta diferencia?)"
   ]
  },
  {
   "cell_type": "code",
   "execution_count": null,
   "id": "6db209a4-46d3-40df-b77b-48ff9393a0d3",
   "metadata": {},
   "outputs": [],
   "source": [
    "determineDistinctValues(df, 'responseCode') #Solo existe un valor posible para este campo"
   ]
  },
  {
   "cell_type": "code",
   "execution_count": null,
   "id": "5ad66e69-92d7-40aa-843d-9def36da0e85",
   "metadata": {},
   "outputs": [],
   "source": [
    "determineDistinctValues(df, 'responseCodeStatus') #Solo existe un valor posible para este campo"
   ]
  },
  {
   "cell_type": "code",
   "execution_count": null,
   "id": "9cbd1a36-f710-4297-933c-53df68b4cbe3",
   "metadata": {},
   "outputs": [],
   "source": [
    "determineDistinctValues(df, 'labels') #Solo existe un valor posible para este campo"
   ]
  },
  {
   "cell_type": "code",
   "execution_count": null,
   "id": "da71bd00-6e55-4a0d-81fc-288b29ef4ec2",
   "metadata": {},
   "outputs": [],
   "source": [
    "determineDistinctValues(df, 'firewallUsa') #Solo existe un valor posible para este campo"
   ]
  },
  {
   "cell_type": "markdown",
   "id": "7d5d348b-6756-4cea-b6c8-ea4ea569223d",
   "metadata": {},
   "source": [
    "<h3>A continuación busco los distintos tipos de código de alerta que se encuentran en el dataframe creando una función especial para ello </h3>"
   ]
  },
  {
   "cell_type": "code",
   "execution_count": null,
   "id": "85e23c0a-de70-4f0d-b4fa-b73c11646a89",
   "metadata": {},
   "outputs": [],
   "source": [
    "def countAlertCodes(df, alertsColumn: str):\n",
    "    '''\n",
    "    Counts the alert codes in a column of a dataframe\n",
    "    Args:\n",
    "       df (DataFrame) : Dataframe which contains the column to search\n",
    "       alertsColumn (string) : Column's name to search\n",
    "    Returns:\n",
    "       codeCount (dictionary): A dictionary with the distinct alert codes as keys and the appearence count in the column\n",
    "    '''\n",
    "    alertsWithCode = filter(lambda x: x != [],df['alertas'].values.tolist())\n",
    "    codeCount = {'Code 1': 0 , 'Code 2': 0, 'Code 3': 0, 'Code 4': 0, 'Code 5': 0, 'Code 6': 0, 'Code 7': 0}\n",
    "\n",
    "    for alert in alertsWithCode:\n",
    "        alertList = json.loads(alert)\n",
    "        if alertList != []:\n",
    "            for subalert in alertList:\n",
    "                n = subalert['codigo']\n",
    "                codeCount[''.join(['Code ', str(n)])] += 1\n",
    "\n",
    "    return codeCount \n"
   ]
  },
  {
   "cell_type": "code",
   "execution_count": null,
   "id": "5d094e61-cf19-44df-8b82-c39f6b53e6e3",
   "metadata": {},
   "outputs": [],
   "source": [
    "countAlertCodes(df, 'alertas')"
   ]
  },
  {
   "cell_type": "markdown",
   "id": "79515abe-a285-4cb1-9b13-ed631079af4e",
   "metadata": {},
   "source": [
    "<h3>Ahora calculo el tiempo en que se tarda cada petición en generar una respuesta</h3>"
   ]
  },
  {
   "cell_type": "code",
   "execution_count": null,
   "id": "343c23f0-b1d2-46e2-bbb7-491fa2c6eda4",
   "metadata": {},
   "outputs": [],
   "source": [
    "def calculateDeltaTime(df, columnA, columnB):\n",
    "    '''\n",
    "    Converts columnA and columnB in datetime type and makes the difference between both columns\n",
    "    Args:\n",
    "       df (DataFrame) : Dataframe which contains the columns to substraction\n",
    "       columnA (string) : Minuend column\n",
    "       columnB (string): Substrahend column\n",
    "    Returns:\n",
    "       responsePeriod (DataFrame): Returns a column of the seconds difference as a dataframe\n",
    "    '''\n",
    "    responseTimeType = pd.to_datetime(df[columnA])\n",
    "    requestTimeType = pd.to_datetime(df[columnB])\n",
    "    responsePeriod = (responseTimeType - requestTimeType).to_frame()\n",
    "    responsePeriod['secondsDifference'] = pd.to_timedelta(responsePeriod[0]).dt.total_seconds()\n",
    "    responsePeriod.drop([0], axis='columns', inplace=True)\n",
    "\n",
    "    return responsePeriod"
   ]
  },
  {
   "cell_type": "markdown",
   "id": "1ab9f3b5-17b1-44b4-8804-17add51cdb48",
   "metadata": {},
   "source": [
    "<h4>Con mayor frecuencia parece tardarse un segundo la respuesta. La gráfica parece ajustarse a una distribución de Poisson o a una distribución normal. Checar cuál es la más conveniente para calcular probabilidades</h4>"
   ]
  },
  {
   "cell_type": "code",
   "execution_count": null,
   "id": "872b20c9-935e-46bb-8d66-2b1d4fe44c84",
   "metadata": {},
   "outputs": [],
   "source": [
    "timeFrame = calculateDeltaTime(df, 'responseTime', 'requestTime')\n",
    "plt.hist(timeFrame[timeFrame['secondsDifference']<6]['secondsDifference'], bins = 100, edgecolor = 'black')\n",
    "plt.xlabel('Time in Seconds')\n",
    "plt.ylabel('Frequency')\n",
    "plt.title('Histogram of Time in Seconds')\n",
    "plt.show()"
   ]
  },
  {
   "cell_type": "code",
   "execution_count": null,
   "id": "33d3857f-3c40-4ee1-9ac1-fb3c96151b93",
   "metadata": {},
   "outputs": [],
   "source": [
    "plt.hist(timeFrame[timeFrame['secondsDifference']>6]['secondsDifference'], bins = 100, edgecolor = 'black')\n",
    "plt.xlabel('Time in Seconds')\n",
    "plt.ylabel('Frequency')\n",
    "plt.title('Histogram of Time in Seconds')\n",
    "plt.show()"
   ]
  },
  {
   "cell_type": "code",
   "execution_count": null,
   "id": "8edf7d54-7571-4c2d-8cf9-c79a3e72bddf",
   "metadata": {},
   "outputs": [],
   "source": [
    "timeFrame.describe().style.apply(highlight_odd_rows)"
   ]
  },
  {
   "cell_type": "code",
   "execution_count": null,
   "id": "86d11976-f172-43ff-9beb-a6640ae46aa0",
   "metadata": {},
   "outputs": [],
   "source": [
    "timeFrame[timeFrame['secondsDifference'] <= 6].describe().style.apply(highlight_odd_rows)"
   ]
  },
  {
   "cell_type": "code",
   "execution_count": null,
   "id": "1b0036a4-f75f-4afc-8902-d994437dcf74",
   "metadata": {},
   "outputs": [],
   "source": [
    "timeFrame[timeFrame['secondsDifference'] > 6].describe().style.apply(highlight_odd_rows)"
   ]
  },
  {
   "cell_type": "code",
   "execution_count": null,
   "id": "ef4cdc29-868b-4307-b616-c312edbd9822",
   "metadata": {},
   "outputs": [],
   "source": [
    "timeFrame.max().values.tolist()"
   ]
  },
  {
   "cell_type": "markdown",
   "id": "f11927a2-63ae-4b1a-a849-a77fe5158846",
   "metadata": {},
   "source": [
    "<h3>A continuación se comprueba que cada diccionario del valor de la columna 'carfaxUsaData' con una llave \"error\" le corresponda un valor distinto a lista vacía en la columna 'alertas'</h3>"
   ]
  },
  {
   "cell_type": "code",
   "execution_count": null,
   "id": "efb31b6d-3b6a-40a9-b9fa-370359628c0f",
   "metadata": {},
   "outputs": [],
   "source": [
    "def proveErrorAlert(df):\n",
    "    '''\n",
    "    Assures every error in CarfaxUsaData is associated with an alert\n",
    "    Args:\n",
    "       df (DataFrame) : Dataframe which contains the columns to substraction\n",
    "    Returns:\n",
    "       ... (string): Returns a status message\n",
    "    '''\n",
    "    carfaxUsaData = df['carfaxUsaData'].values.tolist()\n",
    "    conError = 0\n",
    "    for index1 in range(len(carfaxUsaData)):\n",
    "        carfaxDict = json.loads(carfaxUsaData[index1])\n",
    "        if 'error' in list(carfaxDict.keys()):\n",
    "            conError += 1\n",
    "            if df.iloc[index1]['alertas'] == []:\n",
    "                return 'Existe un valor con error y sin alerta'\n",
    "    return 'Funciona correctamente'"
   ]
  },
  {
   "cell_type": "code",
   "execution_count": null,
   "id": "52fdb500-4f3b-49b7-895d-8e0b3adf593f",
   "metadata": {},
   "outputs": [],
   "source": [
    "proveErrorAlert(df)"
   ]
  },
  {
   "cell_type": "markdown",
   "id": "fcc1ca4d-eb68-48ed-88f4-bba2f3e289b2",
   "metadata": {},
   "source": [
    "<h3>Ahora se estudiará la relación con los Vin's repetidos y las alertas</h3>"
   ]
  },
  {
   "cell_type": "code",
   "execution_count": null,
   "id": "e7b1024a-ae86-434e-9906-38cd379fbef3",
   "metadata": {},
   "outputs": [],
   "source": [
    "def getRepeatedValuesInAColumn(df, columnName):\n",
    "    '''\n",
    "    Identifies the repeated values of a column in a dataframe\n",
    "    Args:\n",
    "       df (DataFrame) : Dataframe which contains the columns to search\n",
    "       columnName (string) : Column's name to search\n",
    "    Returns:\n",
    "       duplicates['VIN'] (pandas Series): Returns a column as a pandas series of the duplicated values of the columnName\n",
    "    '''\n",
    "    duplicates = df[df.duplicated(subset=[columnName], keep=False)]\n",
    "    return duplicates['VIN']"
   ]
  },
  {
   "cell_type": "code",
   "execution_count": null,
   "id": "95ba69e3-f9e0-42c4-9808-691969bc379b",
   "metadata": {},
   "outputs": [],
   "source": [
    "def searchValuesInADataframe(df, values:list, columnA: str, columnB: str)-> dict:\n",
    "    '''\n",
    "    Optimized version to search values in a dataframe columnA and retrieve the corresponding values of columnB.\n",
    "    Args:\n",
    "       values (list): The list of values to be searched.\n",
    "       columnA (str): The name of the column to search.\n",
    "       columnB (str): The name of the column to retrieve values from.\n",
    "       df (DataFrame): The dataframe to search in.\n",
    "    Returns:\n",
    "      grouped: A dictionary with keys as the values from columnA and values as the list of corresponding entries from columnB.\n",
    "    '''\n",
    "\n",
    "    filtered_df = df[df[columnA].isin(values)]\n",
    "    \n",
    "    grouped = filtered_df.groupby(columnA)[columnB].apply(list).to_dict()\n",
    "    \n",
    "    return grouped"
   ]
  },
  {
   "cell_type": "code",
   "execution_count": null,
   "id": "4728b9dc-52e8-4b87-a5bc-5c88aab04554",
   "metadata": {},
   "outputs": [],
   "source": [
    "proofRepeated = getRepeatedValuesInAColumn(df, 'VIN').unique().tolist()"
   ]
  },
  {
   "cell_type": "code",
   "execution_count": null,
   "id": "aa77e7eb-7b59-41ca-a259-4b6542b5b771",
   "metadata": {},
   "outputs": [],
   "source": [
    "repeatedValues = searchValuesInADataframe(df, proofRepeated, 'VIN', 'alertas')"
   ]
  },
  {
   "cell_type": "markdown",
   "id": "f2d82663-6c04-4ea7-a418-d1c88c2a0c6e",
   "metadata": {},
   "source": [
    "<h4>Identificamos si existe algún VIN repetido que contenga y a la vez no, mensajes de alerta. Además se identifica la cantidad de veces que se repiten los VIN's que lanzan alerta contra los que no lanzan ninguna alerta</h4>"
   ]
  },
  {
   "cell_type": "code",
   "execution_count": null,
   "id": "82f376d9-5bbc-4eb8-ad04-750bf7733e61",
   "metadata": {},
   "outputs": [],
   "source": [
    "def getIncorrectRepeatedVinInformation(df)->dict:\n",
    "    '''\n",
    "    Searches the values of a list in a dataframe columnA and retrieves the information of columnB\n",
    "    Args:\n",
    "       df (DataFrame): The dataframe where where will be searched\n",
    "    Returns:\n",
    "      ... (dict): A dictionary which contains a status message, a list of good and bad VINs withits appeareance count, and the total count of good and bad VINS\n",
    "    '''\n",
    "    vinValues = getRepeatedValuesInAColumn(df, 'VIN').unique().tolist()\n",
    "    repeatedValues = searchValuesInADataframe(df, vinValues, 'VIN', 'alertas')\n",
    "    goodVins = 0\n",
    "    badVins = 0\n",
    "    goodVinsList = []\n",
    "    badVinsList = []\n",
    "    messages = []\n",
    "    for repeatedVin in list(repeatedValues.keys()):\n",
    "        differentValuesByVin = list(set(repeatedValues[repeatedVin]))\n",
    "        for differentValue in differentValuesByVin:\n",
    "            if differentValue == '[]':\n",
    "                goodVins += 1\n",
    "                if len(differentValuesByVin)>1:\n",
    "                    messages.append(''.join(['Alerta con vin: ',repeatedVin, ' , tiene y no tiene alertas.']))\n",
    "                else:\n",
    "                    goodVinsList.append([repeatedVin, len(repeatedValues[repeatedVin])])\n",
    "            else:\n",
    "                badVins += 1\n",
    "                badVinsList.append([repeatedVin, len(repeatedValues[repeatedVin])])\n",
    "            \n",
    "    messages.append(''.join(['VINs repetidos que no lanzan alerta: ', str(goodVins), '\\nVINs repetidos que sí lanzan alerta: ', str(badVins)]))\n",
    "    return {'message': messages,\n",
    "           'goodVinsList': goodVinsList,\n",
    "           'badVinsList': badVinsList,\n",
    "           'goodVins':goodVins,\n",
    "           'badVins': badVins}"
   ]
  },
  {
   "cell_type": "code",
   "execution_count": null,
   "id": "8f352273-50aa-4fec-bf86-7d45a238a978",
   "metadata": {},
   "outputs": [],
   "source": [
    "incorrectInformation = getIncorrectRepeatedVinInformation(df)"
   ]
  },
  {
   "cell_type": "code",
   "execution_count": null,
   "id": "bdcc9d6d-bf4c-45db-9161-7aca44bd4371",
   "metadata": {},
   "outputs": [],
   "source": [
    "incorrectInformation['message']"
   ]
  },
  {
   "cell_type": "code",
   "execution_count": null,
   "id": "2e99f948-0054-4c7b-a377-65dfd5026ee7",
   "metadata": {},
   "outputs": [],
   "source": [
    "def diagnoseVins(df, incorrectInformation):\n",
    "    '''\n",
    "    Converts the lists of  getIncorrectRepeatedVinInformation() function in dataframes\n",
    "    Args:\n",
    "       df (DataFrame): The dataframe where where will be searched\n",
    "    Returns:\n",
    "      ... (dict): A dictionary which contains the good and bad VINs dataframes and the good and bad repeated Records of the VINs\n",
    "    '''\n",
    "    goodVinsFrame = pd.DataFrame(incorrectInformation['goodVinsList'], columns = ['VIN', 'repeatedTimes'])\n",
    "    goodRepeatedRecords = goodVinsFrame.sum()['repeatedTimes']\n",
    "    badVinsFrame = pd.DataFrame(incorrectInformation['badVinsList'], columns = ['VIN', 'repeatedTimes'])\n",
    "    badRepeatedRecords = badVinsFrame.sum()['repeatedTimes']\n",
    "\n",
    "    return {'goodVinsFrame': goodVinsFrame, 'badVinsFrame': badVinsFrame, 'goodRepeatedRecords': goodRepeatedRecords, 'badRepeatedRecords': badRepeatedRecords}"
   ]
  },
  {
   "cell_type": "code",
   "execution_count": null,
   "id": "042b4236-0237-4d60-b903-3c45eb688518",
   "metadata": {},
   "outputs": [],
   "source": [
    "diagnosedVins = diagnoseVins(df, incorrectInformation)"
   ]
  },
  {
   "cell_type": "code",
   "execution_count": null,
   "id": "1f7357b9-4cdd-486f-a93b-15d8664c64b1",
   "metadata": {},
   "outputs": [],
   "source": [
    "diagnosedVins['goodVinsFrame'].describe().style.apply(highlight_odd_rows)"
   ]
  },
  {
   "cell_type": "code",
   "execution_count": null,
   "id": "9d81028a-7828-4d79-965b-8d425263630c",
   "metadata": {},
   "outputs": [],
   "source": [
    "plt.hist(diagnosedVins['goodVinsFrame']['repeatedTimes'], bins = 50, edgecolor = 'black')\n",
    "plt.xlabel('Repeated Times')\n",
    "plt.ylabel('Frequency')\n",
    "plt.title('Histogram of Repeated Times by VIN (without alerts)')\n",
    "plt.show()"
   ]
  },
  {
   "cell_type": "code",
   "execution_count": null,
   "id": "385afb07-cec6-47c7-9c14-1872493ca5f8",
   "metadata": {},
   "outputs": [],
   "source": [
    "diagnosedVins['badVinsFrame'].describe().style.apply(highlight_odd_rows)"
   ]
  },
  {
   "cell_type": "code",
   "execution_count": null,
   "id": "0ea12d53-0bf4-41c7-ad88-0fb376ae8c31",
   "metadata": {},
   "outputs": [],
   "source": [
    "plt.hist(diagnosedVins['badVinsFrame']['repeatedTimes'], bins = 50, edgecolor = 'black')\n",
    "plt.xlabel('Repeated Times')\n",
    "plt.ylabel('Frequency')\n",
    "plt.title('Histogram of Repeated Times by VIN (with alerts)')\n",
    "plt.show()"
   ]
  },
  {
   "cell_type": "markdown",
   "id": "35099e28-2fd6-4e57-921d-3a60df5211b1",
   "metadata": {},
   "source": [
    "<h4>Finalmente tenemos los VINs revisados en todos los registros. La proporción entre VINs repetidos con alerta, VINs repetidos sin alerta. Máximos y mínimos repeticiones</h4>"
   ]
  },
  {
   "cell_type": "code",
   "execution_count": null,
   "id": "b9b050eb-9a20-481f-942a-e6c049c3698d",
   "metadata": {},
   "outputs": [],
   "source": [
    "print('Cantidad de registros repetidos: ', diagnosedVins['goodRepeatedRecords'] + diagnosedVins['badRepeatedRecords'])\n",
    "print('Cantidad de registros repetidos con VINs sin alerta: ', diagnosedVins['goodRepeatedRecords'])\n",
    "print('Cantidad de registros repetidos con VINs con alerta: ', diagnosedVins['badRepeatedRecords'])\n",
    "print('Cantidad de VINs revisados en esos registros repetidos: ', list(diagnosedVins['badVinsFrame'].count() + diagnosedVins['goodVinsFrame'].count())[1])\n",
    "repetitionProportion = [diagnosedVins['goodRepeatedRecords'], diagnosedVins['badRepeatedRecords']]\n",
    "labelsRepetition = ['VINs without alerts', 'VINs with alerts']\n",
    "plt.pie(repetitionProportion, labels=labelsRepetition, autopct=\"%0.1f %%\")\n",
    "plt.axis(\"equal\")\n",
    "plt.title('Repeated records')\n",
    "plt.show()"
   ]
  },
  {
   "cell_type": "markdown",
   "id": "130f19c4-0376-4ed4-bb22-e0d4bb87f680",
   "metadata": {},
   "source": [
    "<h4>Estadísticas de las repeticiones de los VINs sin alerta</h4>"
   ]
  },
  {
   "cell_type": "code",
   "execution_count": null,
   "id": "dc63ab32-8f60-49e7-b63f-e824fbb40e21",
   "metadata": {},
   "outputs": [],
   "source": [
    "diagnosedVins['goodVinsFrame'].describe().style.apply(highlight_odd_rows)"
   ]
  },
  {
   "cell_type": "markdown",
   "id": "31aecfa7-a82d-4b6b-b870-507249ea7192",
   "metadata": {},
   "source": [
    "<h4>Estadísticas de las repeticiones de los VINs con alerta</h4>"
   ]
  },
  {
   "cell_type": "code",
   "execution_count": null,
   "id": "42f26fea-2fef-40bb-9040-1da577175de6",
   "metadata": {},
   "outputs": [],
   "source": [
    "diagnosedVins['badVinsFrame'].describe().style.apply(highlight_odd_rows)"
   ]
  },
  {
   "cell_type": "markdown",
   "id": "259eadba-29d4-430c-b296-54b6adfc74e4",
   "metadata": {},
   "source": [
    "<h3>Ahora se comprueba que para cada VIN repetido se dió exactamente la misma información, y en caso de tener alerta, también se dieron las mismas alertas</h3>"
   ]
  },
  {
   "cell_type": "code",
   "execution_count": null,
   "id": "7df75aa1-7b33-4274-81d8-b82230851fb7",
   "metadata": {},
   "outputs": [],
   "source": [
    "def verifyInfoRepeatedVins(df):\n",
    "    '''\n",
    "    Verifies every repeated VIN has the same information in every record (due to the short period time reviewed)\n",
    "    Args:\n",
    "       df (DataFrame): The dataframe where where will be searched\n",
    "    Returns:\n",
    "      ... (dict): A dictionary which contains the different responses as a dict for every repeated VIN in uniqueResponses and VINs with more than one response in differentResponse key\n",
    "    '''\n",
    "    uniqueResponses = {}\n",
    "    differentResponses = {}\n",
    "    vinValues = getRepeatedValuesInAColumn(df, 'VIN').unique().tolist()\n",
    "    repeatedValues = searchValuesInADataframe(df, vinValues, 'VIN', 'responseBody')\n",
    "    repeatedVins = repeatedValues.keys()\n",
    "    for vin in repeatedVins:\n",
    "        uniqueResponses[vin] = []\n",
    "        listJson = []\n",
    "        for responseString in repeatedValues[vin]:\n",
    "            responseJson = json.loads(responseString)\n",
    "            listJson.append(responseJson)\n",
    "        repeatedValues[vin] = listJson\n",
    "    for vin in repeatedVins:\n",
    "        for responseJson in repeatedValues[vin]:\n",
    "            keys = list(responseJson.keys())\n",
    "            if 'fabricante' in keys and 'paisOrigen' in keys:\n",
    "                info = {'anioModelo': responseJson['anioModelo'], 'fabricante': responseJson['fabricante'], 'marca': responseJson['marca'], 'modelo': responseJson['modelo'], 'paisOrigen': responseJson['paisOrigen'], 'robo': responseJson['robo'], 'roboFecha': responseJson['roboFecha'], 'codes': []}\n",
    "            else:\n",
    "                 info = {'anioModelo': responseJson['anioModelo'], 'marca': responseJson['marca'], 'modelo': responseJson['modelo'], 'robo': responseJson['robo'], 'roboFecha': responseJson['roboFecha'], 'codes': []}\n",
    "            if  responseJson['mensajes'] != []:\n",
    "                for message in responseJson['mensajes']:\n",
    "                    info['codes'].append(message['codigo'])\n",
    "                    info['codes'] = list(set(info['codes']))\n",
    "                if len(info['codes'])>1:\n",
    "                    info['codes'] = info['codes'].sort()\n",
    "            if uniqueResponses[vin] == []:\n",
    "                 uniqueResponses[vin].append(info)\n",
    "            else:\n",
    "                if info not in uniqueResponses[vin]:\n",
    "                    uniqueResponses[vin].append(info)\n",
    "                    #info['tiempoRespuesta'] = responseJson['tiempoRespuesta']\n",
    "                    differentResponses[vin] = info\n",
    "    return {'uniqueResponses': uniqueResponses, 'differentResponses': differentResponses}"
   ]
  },
  {
   "cell_type": "code",
   "execution_count": null,
   "id": "641e94b1-86d8-4b6d-a095-f470ecfa8494",
   "metadata": {},
   "outputs": [],
   "source": [
    "verifyResponses = verifyInfoRepeatedVins(df)\n",
    "if verifyResponses['differentResponses'] != {}:\n",
    "    print('Existen respuestas distintas para un mismo VIN')"
   ]
  },
  {
   "cell_type": "code",
   "execution_count": null,
   "id": "26c9191e-6be2-40d9-8178-9b6a6c7b6eaf",
   "metadata": {},
   "outputs": [],
   "source": [
    "differentResponseVins = list(verifyResponses['differentResponses'].keys())"
   ]
  },
  {
   "cell_type": "code",
   "execution_count": null,
   "id": "5d782277-7253-4ee0-9d3e-7759eb611fd9",
   "metadata": {},
   "outputs": [],
   "source": [
    "print(differentResponseVins)"
   ]
  },
  {
   "cell_type": "code",
   "execution_count": null,
   "id": "793c0f34-c34f-4669-bd75-72efc651f8af",
   "metadata": {},
   "outputs": [],
   "source": [
    "for response in differentResponseVins:\n",
    "    print('VIN', response)\n",
    "    for information in verifyResponses['uniqueResponses'][response]:\n",
    "        print(information)\n",
    "    print('------------')"
   ]
  },
  {
   "cell_type": "code",
   "execution_count": null,
   "id": "f39cebf8-e889-45c6-8bad-f986da4fa9c9",
   "metadata": {},
   "outputs": [],
   "source": [
    "# Cálculo de la probabilidad usando la fórmula previamente descrita\n",
    "prob_menor_o_igual_a_6 = 0.99725\n",
    "prob_ninguno_mayor_a_6 = prob_menor_o_igual_a_6 ** 100\n",
    "prob_al_menos_uno_mayor_a_6 = 1 - prob_ninguno_mayor_a_6\n",
    "\n",
    "print(prob_al_menos_uno_mayor_a_6)"
   ]
  },
  {
   "cell_type": "code",
   "execution_count": null,
   "id": "b8d57a53-b7e7-4065-a63a-2d6da7afa604",
   "metadata": {},
   "outputs": [],
   "source": [
    "print(prob_al_menos_uno_mayor_a_6**2)"
   ]
  },
  {
   "cell_type": "code",
   "execution_count": null,
   "id": "01e5dd46-b1f9-412c-a103-68daa02b6446",
   "metadata": {},
   "outputs": [],
   "source": [
    "#cutoff_date = pd.Timestamp('2024-11-18')\n",
    "df['responseTime'] = pd.to_datetime(df['responseTime'])\n",
    "#df = df[df['responseTime']< cutoff_date]"
   ]
  },
  {
   "cell_type": "code",
   "execution_count": null,
   "id": "937b1538-1c4b-435a-a85b-ea76d65deb94",
   "metadata": {},
   "outputs": [],
   "source": [
    "df['hour'] = df['responseTime'].dt.hour\n",
    "df['dayOfWeek'] = df['responseTime'].dt.day_name()\n",
    "df['date'] = df['responseTime'].dt.date"
   ]
  },
  {
   "cell_type": "code",
   "execution_count": null,
   "id": "04c4227b-568d-4ec3-b727-ec9f23e9e82d",
   "metadata": {},
   "outputs": [],
   "source": [
    "df.groupby('hour').size()"
   ]
  },
  {
   "cell_type": "code",
   "execution_count": null,
   "id": "eab1f457-3179-4252-8c35-a2c9883903f5",
   "metadata": {},
   "outputs": [],
   "source": [
    "df.groupby('dayOfWeek').size()"
   ]
  },
  {
   "cell_type": "code",
   "execution_count": null,
   "id": "29be78b7-5995-424d-87e0-c03b17a85f9a",
   "metadata": {},
   "outputs": [],
   "source": [
    "df.groupby(by = ['dayOfWeek', 'hour']).nunique()"
   ]
  },
  {
   "cell_type": "code",
   "execution_count": null,
   "id": "50cef491-b5f1-4ae6-9d17-9d6a01215260",
   "metadata": {},
   "outputs": [],
   "source": [
    "xd =df[df['dayOfWeek'] == 'Monday'].groupby(by = ['date', 'hour']).nunique().reset_index()"
   ]
  },
  {
   "cell_type": "code",
   "execution_count": null,
   "id": "beb2c07a-e928-4030-ac02-28b4d42767d6",
   "metadata": {},
   "outputs": [],
   "source": [
    "xd2 = xd[['date', 'hour', '_id']][xd['hour']==0]"
   ]
  },
  {
   "cell_type": "code",
   "execution_count": null,
   "id": "99eb925c-13c3-4b8d-bb94-42f98ce3fe7a",
   "metadata": {},
   "outputs": [],
   "source": [
    "xd2['_id'].mean()"
   ]
  },
  {
   "cell_type": "code",
   "execution_count": null,
   "id": "c4b327ab-d554-475f-94e6-807e36a46035",
   "metadata": {},
   "outputs": [],
   "source": [
    "xd2['_id'].std()"
   ]
  },
  {
   "cell_type": "code",
   "execution_count": null,
   "id": "799a5836-5e29-4322-ae90-f0ad1d9d3bce",
   "metadata": {},
   "outputs": [],
   "source": [
    "days_of_week = ['Monday', 'Tuesday', 'Wednesday', 'Thursday', 'Friday', 'Saturday', 'Sunday']\n",
    "typical_records = {}\n",
    "for day in days_of_week:\n",
    "    groupedDataframe = df[df['dayOfWeek'] == day].groupby(by = ['date', 'hour']).nunique().reset_index()\n",
    "    for hour in range(24):\n",
    "        hourFrame = groupedDataframe[['date', 'hour', '_id']][groupedDataframe['hour']==hour]\n",
    "        typical_records[f'{day}_{str(hour)}'] = {'mean': float(hourFrame['_id'].mean()), 'std': float(hourFrame['_id'].std())}\n",
    "\n",
    "with open('meanRecordsByHour.json', \"w\", encoding='utf-8') as outfile:\n",
    "        json.dump(typical_records, outfile)\n",
    "\n",
    "#for dayHour in typical_records.keys():\n",
    "    #print(dayHour)\n",
    "    #print(typical_records[dayHour])\n",
    "    #print('---------------------')"
   ]
  },
  {
   "cell_type": "code",
   "execution_count": null,
   "id": "50edb45e-eeaf-4320-ad24-6f960cb1ee21",
   "metadata": {},
   "outputs": [],
   "source": []
  }
 ],
 "metadata": {
  "kernelspec": {
   "display_name": "msvenv1",
   "language": "python",
   "name": "msvenv1"
  },
  "language_info": {
   "codemirror_mode": {
    "name": "ipython",
    "version": 3
   },
   "file_extension": ".py",
   "mimetype": "text/x-python",
   "name": "python",
   "nbconvert_exporter": "python",
   "pygments_lexer": "ipython3",
   "version": "3.12.4"
  }
 },
 "nbformat": 4,
 "nbformat_minor": 5
}
