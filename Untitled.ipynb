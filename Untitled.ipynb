{
 "cells": [
  {
   "cell_type": "code",
   "execution_count": 1,
   "id": "b53c10d1-ff6c-4dab-a611-58b7a29408b8",
   "metadata": {},
   "outputs": [],
   "source": [
    "import json\n",
    "import numpy as np\n",
    "import pandas as pd\n",
    "import matplotlib.pyplot as plt\n",
    "import re\n",
    "from collections import Counter"
   ]
  },
  {
   "cell_type": "code",
   "execution_count": 2,
   "id": "98c595cd-58a5-4326-9b03-0e6dbdc4eacb",
   "metadata": {},
   "outputs": [],
   "source": [
    "plt.style.use('dark_background') \n",
    "\n",
    "def highlight_odd_rows(s):\n",
    "    '''\n",
    "    Changes style of a dataframe visualization\n",
    "    Args:\n",
    "       s : The row of the dataframe\n",
    "    Returns:\n",
    "    '''\n",
    "    styles = []\n",
    "    for i in range(len(s)):\n",
    "        if i % 2 == 1:\n",
    "            styles.append('background-color: indigo; border: 1px solid white;')\n",
    "        else:\n",
    "            styles.append('border: 1px solid white;')\n",
    "    return styles"
   ]
  },
  {
   "cell_type": "code",
   "execution_count": 3,
   "id": "1b56dffd-769d-4a68-b511-b047a0eee16d",
   "metadata": {},
   "outputs": [],
   "source": [
    "with open('meli.postValidation.json', 'r', encoding = 'utf-8') as jsonXD:\n",
    "    jsonDoc = json.load(jsonXD)"
   ]
  },
  {
   "cell_type": "code",
   "execution_count": null,
   "id": "e89d348b-521d-4e3d-9e74-ea952adfac59",
   "metadata": {},
   "outputs": [],
   "source": [
    "df = pd.json_normalize(jsonDoc)\n",
    "df_without_nan = df.dropna(axis = 1, how = 'all')"
   ]
  },
  {
   "cell_type": "code",
   "execution_count": null,
   "id": "49a148f2-abad-47a3-a1c0-588b3b4a6831",
   "metadata": {},
   "outputs": [],
   "source": [
    "df_without_nan = df_without_nan.replace(np.nan, 'xD')"
   ]
  },
  {
   "cell_type": "code",
   "execution_count": null,
   "id": "0480396a-9fc1-4d3c-9d81-78acd2a06a2a",
   "metadata": {},
   "outputs": [],
   "source": [
    "df[df['whiteList']==True]['whiteList']"
   ]
  },
  {
   "cell_type": "code",
   "execution_count": null,
   "id": "3ad1235b-b23a-4dde-a109-0c7c50712d5d",
   "metadata": {},
   "outputs": [],
   "source": [
    "df_without_nan.shape"
   ]
  },
  {
   "cell_type": "code",
   "execution_count": null,
   "id": "4208cda3-6ca8-453b-9546-671a5d30f15e",
   "metadata": {},
   "outputs": [],
   "source": [
    "df_without_nan['apiKey'].unique()"
   ]
  },
  {
   "cell_type": "code",
   "execution_count": null,
   "id": "8865fe55-44aa-4d0d-adbb-4cdbca7a8d26",
   "metadata": {},
   "outputs": [],
   "source": [
    "df_without_nan['isDailyValidation'].unique()"
   ]
  },
  {
   "cell_type": "code",
   "execution_count": null,
   "id": "6d12b7a4-a8be-4b26-8e7a-8428f8aa3e1d",
   "metadata": {},
   "outputs": [],
   "source": [
    "len(df_without_nan['idMeLi'].unique())"
   ]
  },
  {
   "cell_type": "code",
   "execution_count": null,
   "id": "d4c30636-8d11-4763-921f-c6266616145f",
   "metadata": {},
   "outputs": [],
   "source": [
    "len(df_without_nan['vin'].unique())"
   ]
  },
  {
   "cell_type": "code",
   "execution_count": null,
   "id": "c1272a25-d976-4ecd-bcb2-71892108874d",
   "metadata": {},
   "outputs": [],
   "source": [
    "alerts = list(filter(lambda alerts: alerts != [], df_without_nan['alerts']))\n",
    "\n",
    "alerts_values_by_record = list(map(lambda listAlert: list(map(lambda alert: alert['valor'], listAlert)), alerts))\n",
    "\n",
    "alerts_total_list = []\n",
    "\n",
    "for alerts_record in alerts_values_by_record:\n",
    "    alerts_total_list.extend(alerts_record)\n",
    "\n",
    "counter_alerts = dict(Counter(alerts_total_list))\n",
    "\n",
    "print(counter_alerts)"
   ]
  },
  {
   "cell_type": "code",
   "execution_count": null,
   "id": "ef4dcaae-559e-462b-8f3f-d52cbc4bb176",
   "metadata": {},
   "outputs": [],
   "source": [
    "counter_alerts_2 = {}\n",
    "for code in counter_alerts.keys():    \n",
    "    \n",
    "    alerts_dict =  list(filter(lambda list: list!=[],map(lambda listAlert: list(filter(lambda alert: alert['valor']==code, listAlert)),alerts)))\n",
    "    \n",
    "    alerts_value = []\n",
    "    for alerts_record in alerts_dict:\n",
    "        alerts_value.extend(alerts_record)\n",
    "\n",
    "    counter_alerts_2[code] = len(alerts_value)\n",
    "\n",
    "counter_alerts_2"
   ]
  },
  {
   "cell_type": "code",
   "execution_count": null,
   "id": "89778871-65cc-4f28-a163-d7896eacc459",
   "metadata": {},
   "outputs": [],
   "source": [
    "df_without_nan['responseCode'].unique()"
   ]
  },
  {
   "cell_type": "code",
   "execution_count": null,
   "id": "fa580611-9258-427a-be74-10b64467085f",
   "metadata": {},
   "outputs": [],
   "source": [
    "df_without_nan['responseBody.statusCode'].unique()"
   ]
  },
  {
   "cell_type": "code",
   "execution_count": null,
   "id": "2add4a55-659b-45fa-81a5-4fe32281ac0d",
   "metadata": {},
   "outputs": [],
   "source": [
    "df_without_nan['CARINFO.originalResponse.statusCode'].unique()"
   ]
  },
  {
   "cell_type": "code",
   "execution_count": null,
   "id": "578958ee-2f5d-45fd-88d6-9d02adae0c06",
   "metadata": {},
   "outputs": [],
   "source": [
    "df_without_nan[df_without_nan['CARINFO.originalResponse.statusCode']=='xD']"
   ]
  },
  {
   "cell_type": "code",
   "execution_count": null,
   "id": "40d79016-e15c-46e0-a92e-d2d7794ee974",
   "metadata": {},
   "outputs": [],
   "source": [
    "columns_headers = filter(lambda column: re.search('header', column), df_without_nan.columns)\n",
    "\n",
    "for column_header in columns_headers:\n",
    "    print(df_without_nan[df_without_nan[column_header]!='xD'][['vin', 'responseCode', column_header]])"
   ]
  },
  {
   "cell_type": "code",
   "execution_count": null,
   "id": "e78b0072-761e-4fc6-96be-7fba319b925e",
   "metadata": {},
   "outputs": [],
   "source": [
    "columns_responseCode = filter(lambda column: re.search('statusCode', column), df_without_nan.columns)\n",
    "\n",
    "#print(list(columns_responseCode))\n",
    "\n",
    "for column_response in columns_responseCode:\n",
    "    print(df_without_nan[df_without_nan[column_header]!='xD'][['vin', 'responseCode', column_response]])"
   ]
  },
  {
   "cell_type": "code",
   "execution_count": null,
   "id": "82f7e929-53ed-40c0-b2bb-af94157a6724",
   "metadata": {},
   "outputs": [],
   "source": [
    "for column in df_without_nan.columns:\n",
    "    print(column)"
   ]
  },
  {
   "cell_type": "code",
   "execution_count": null,
   "id": "bc354599-5b2a-44d2-8d25-6f624b3542ac",
   "metadata": {},
   "outputs": [],
   "source": [
    "list(df_without_nan['validationType'].unique())"
   ]
  },
  {
   "cell_type": "code",
   "execution_count": null,
   "id": "a765acfd-8c7f-44ba-94b3-50db5749ab5a",
   "metadata": {},
   "outputs": [],
   "source": [
    "placa_columns = filter(lambda column : re.search('placa', column), df_without_nan.columns)\n",
    "print(list(placa_columns))"
   ]
  },
  {
   "cell_type": "code",
   "execution_count": null,
   "id": "e7116283-3fac-4aad-b0b9-3299540e3ade",
   "metadata": {},
   "outputs": [],
   "source": [
    "placas_totales = map(lambda data_placa: data_placa[0], filter(lambda data_placa: len(data_placa)>0,df_without_nan['responseBody.data.placas']))"
   ]
  },
  {
   "cell_type": "code",
   "execution_count": null,
   "id": "dcbd0484-8131-4bce-9da2-25ab5909277c",
   "metadata": {},
   "outputs": [],
   "source": [
    "len(pd.Series(placas_totales).unique())"
   ]
  },
  {
   "cell_type": "code",
   "execution_count": null,
   "id": "f49af3a3-b8e8-461e-b732-45ad6d173602",
   "metadata": {},
   "outputs": [],
   "source": []
  }
 ],
 "metadata": {
  "kernelspec": {
   "display_name": "msvenv1",
   "language": "python",
   "name": "msvenv1"
  },
  "language_info": {
   "codemirror_mode": {
    "name": "ipython",
    "version": 3
   },
   "file_extension": ".py",
   "mimetype": "text/x-python",
   "name": "python",
   "nbconvert_exporter": "python",
   "pygments_lexer": "ipython3",
   "version": "3.12.4"
  }
 },
 "nbformat": 4,
 "nbformat_minor": 5
}
